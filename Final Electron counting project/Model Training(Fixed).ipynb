{
 "cells": [
  {
   "cell_type": "code",
   "execution_count": 1,
   "metadata": {},
   "outputs": [
    {
     "name": "stderr",
     "output_type": "stream",
     "text": [
      "2024-09-18 20:11:13.166454: I tensorflow/core/util/port.cc:153] oneDNN custom operations are on. You may see slightly different numerical results due to floating-point round-off errors from different computation orders. To turn them off, set the environment variable `TF_ENABLE_ONEDNN_OPTS=0`.\n",
      "2024-09-18 20:11:13.177701: E external/local_xla/xla/stream_executor/cuda/cuda_fft.cc:485] Unable to register cuFFT factory: Attempting to register factory for plugin cuFFT when one has already been registered\n",
      "2024-09-18 20:11:13.189460: E external/local_xla/xla/stream_executor/cuda/cuda_dnn.cc:8454] Unable to register cuDNN factory: Attempting to register factory for plugin cuDNN when one has already been registered\n",
      "2024-09-18 20:11:13.193002: E external/local_xla/xla/stream_executor/cuda/cuda_blas.cc:1452] Unable to register cuBLAS factory: Attempting to register factory for plugin cuBLAS when one has already been registered\n",
      "2024-09-18 20:11:13.202742: I tensorflow/core/platform/cpu_feature_guard.cc:210] This TensorFlow binary is optimized to use available CPU instructions in performance-critical operations.\n",
      "To enable the following instructions: AVX2 AVX512F AVX512_VNNI AVX512_BF16 FMA, in other operations, rebuild TensorFlow with the appropriate compiler flags.\n",
      "2024-09-18 20:11:13.821726: W tensorflow/compiler/tf2tensorrt/utils/py_utils.cc:38] TF-TRT Warning: Could not find TensorRT\n"
     ]
    },
    {
     "name": "stdout",
     "output_type": "stream",
     "text": [
      "device /gpu:8\n"
     ]
    }
   ],
   "source": [
    "import os\n",
    "import tensorflow as tf\n",
    "\n",
    "# Set CUDA device order and visible devices\n",
    "os.environ[\"CUDA_DEVICE_ORDER\"] = \"PCI_BUS_ID\"\n",
    "os.environ[\"CUDA_VISIBLE_DEVICES\"] = \"0,1,2,3,4,5,6,7,8,9\"\n",
    "\n",
    "# Set the device\n",
    "device = '/cpu:0'   \n",
    "if tf.config.experimental.list_physical_devices('GPU'):\n",
    "    try:\n",
    "        # Restrict TensorFlow to only use the second GPU\n",
    "        gpus = tf.config.experimental.list_physical_devices('GPU')\n",
    "        if gpus:\n",
    "            tf.config.experimental.set_visible_devices(gpus[8], 'GPU')\n",
    "            device = '/gpu:8'\n",
    "    except RuntimeError as e:\n",
    "        print(e)\n",
    "\n",
    "print(\"device\", device)\n"
   ]
  },
  {
   "cell_type": "markdown",
   "metadata": {},
   "source": [
    "### Load Dependencies"
   ]
  },
  {
   "cell_type": "code",
   "execution_count": 2,
   "metadata": {},
   "outputs": [],
   "source": [
    "import numpy as np\n",
    "import matplotlib.pyplot as plt\n",
    "\n",
    "import h5py\n",
    "from sklearn.model_selection import train_test_split\n",
    "from tensorflow.keras import layers, callbacks\n",
    "\n",
    "    "
   ]
  },
  {
   "cell_type": "markdown",
   "metadata": {},
   "source": [
    "### Load Data and Preprocess"
   ]
  },
  {
   "cell_type": "code",
   "execution_count": 3,
   "metadata": {},
   "outputs": [],
   "source": [
    "\n",
    "class DataLoader:\n",
    "    def __init__(self, h5_filename):\n",
    "        self.h5_filename = h5_filename\n",
    "        self.images, self.centers = self.load_data()\n",
    "\n",
    "    def load_data(self):\n",
    "        with h5py.File(self.h5_filename, 'r') as f:\n",
    "            images = np.array(f['images'])\n",
    "            centers = np.array(f['center_coordinates'])\n",
    "        return images, centers\n",
    "\n",
    "    def plot_image_with_centers(self, image_index=None):\n",
    "        if image_index is None:\n",
    "            image_index = np.random.randint(0, len(self.images))\n",
    "\n",
    "        image = self.images[image_index]\n",
    "        centers = self.centers[image_index]\n",
    "\n",
    "        plt.imshow(image, cmap='gray')\n",
    "        valid_centers = centers[centers[:, 0] == 1]\n",
    "        for center in valid_centers:\n",
    "            plt.scatter(center[1], center[2], c='red', marker='x')  # center[1] is x and center[2] is y\n",
    "        plt.title('Image with Valid Centers Marked')\n",
    "        plt.colorbar()\n",
    "        plt.show()\n",
    "\n",
    "    @staticmethod\n",
    "    def sort_centers(centers):\n",
    "        return centers[np.lexsort((centers[:, 0], centers[:, 1]))]\n",
    "\n",
    "    def normalize_data(self):\n",
    "        normalized_images = self.images / np.max(self.images)\n",
    "        sorted_centers = np.array([self.sort_centers(image_centers[:, 1:]) for image_centers in self.centers])\n",
    "        normalized_centers = sorted_centers / 64\n",
    "        \n",
    "        normalized_midpoints = tf.expand_dims(normalized_centers, axis=1)\n",
    "        return normalized_images, normalized_midpoints.numpy()\n",
    "\n",
    "    def split_data(self, train_size=0.8, random_state=42):\n",
    "        normalized_images, normalized_midpoints_np = self.normalize_data()\n",
    "        return train_test_split(normalized_images, normalized_midpoints_np, train_size=train_size, random_state=random_state)"
   ]
  },
  {
   "cell_type": "markdown",
   "metadata": {},
   "source": [
    "### Train/Val Images in DataLoader"
   ]
  },
  {
   "cell_type": "code",
   "execution_count": 4,
   "metadata": {},
   "outputs": [],
   "source": [
    "\n",
    "def plot_transposed_images_with_midpoints(dataset, image_indices=[0, 1, 2, 3]):\n",
    "    \"\"\"\n",
    "    Extracts multiple images and their midpoints from the given dataset, transposes the images, \n",
    "    corrects the midpoints, and plots the transposed images with the corrected midpoints.\n",
    "\n",
    "    Args:\n",
    "    - dataset (tf.data.Dataset): The dataset from which to extract the images and midpoints.\n",
    "    - image_indices (list): The indices of the images in the batch to visualize. Default is [0, 1, 2, 3].\n",
    "    \"\"\"\n",
    "\n",
    "    # Extract a sample image batch and its corresponding midpoints from the dataset\n",
    "    sample_image_batch, sample_midpoints_batch = next(iter(dataset))\n",
    "\n",
    "    # Create a figure with 2x2 subplots\n",
    "    fig, axes = plt.subplots(2, 2, figsize=(6, 6))\n",
    "\n",
    "    for i, ax in enumerate(axes.flat):\n",
    "        if i < len(image_indices):\n",
    "            # Select the specified image and corresponding midpoints from the batch\n",
    "            sample_image = np.array(sample_image_batch[image_indices[i]])\n",
    "            sample_midpoints = np.array(sample_midpoints_batch[image_indices[i]])\n",
    "\n",
    "            # Transpose the image\n",
    "            transposed_image = sample_image\n",
    "\n",
    "            # Correct the midpoints by swapping the x and y coordinates\n",
    "            transposed_midpoints_corrected = sample_midpoints[:, :, [1, 0]]\n",
    "\n",
    "            # Plot the transposed image with corrected midpoints\n",
    "            ax.imshow(transposed_image, cmap='gray')\n",
    "            ax.scatter(\n",
    "                transposed_midpoints_corrected[:, :, 0] * 64, \n",
    "                transposed_midpoints_corrected[:, :, 1] * 64, \n",
    "                \n",
    "                c='red', marker='o',s=5\n",
    "            )\n",
    "            ax.set_title(f'Image {image_indices[i]} for this batch')\n",
    "        else:\n",
    "            ax.axis('off')  # If fewer than 4 images are requested, hide the unused subplots\n",
    "\n",
    "    plt.tight_layout()\n",
    "    plt.show()\n"
   ]
  },
  {
   "cell_type": "code",
   "execution_count": 4,
   "metadata": {},
   "outputs": [],
   "source": [
    "cosine_decay = tf.keras.optimizers.schedules.CosineDecayRestarts(\n",
    "    initial_learning_rate=3e-4, \n",
    "    first_decay_steps=2000,  # Number of steps before first restart\n",
    "    t_mul=2.0,  # Multiplicative factor that increases the period between restarts\n",
    "    m_mul=0.5,  # Multiplicative factor to decrease the max learning rate at each restart\n",
    "    alpha=0.0   # Final learning rate as a fraction of the initial learning rate\n",
    ")"
   ]
  },
  {
   "cell_type": "markdown",
   "metadata": {},
   "source": [
    "### Model Architecture"
   ]
  },
  {
   "cell_type": "code",
   "execution_count": 5,
   "metadata": {},
   "outputs": [],
   "source": [
    "class ModelBuilder:\n",
    "    def __init__(self, input_shape=(64, 64, 1), num_classes=280, num_coordinates=2, learning_rate=3e-4, weights_path=None):\n",
    "        self.input_shape = input_shape\n",
    "        self.num_classes = num_classes\n",
    "        self.num_coordinates = num_coordinates\n",
    "        self.learning_rate = learning_rate\n",
    "        self.model = self.build_model()\n",
    "\n",
    "        # Load weights if a path is provided\n",
    "        if weights_path is not None:\n",
    "            self.model.load_weights(weights_path)\n",
    "\n",
    "        self.optimizer = tf.keras.optimizers.Adam(learning_rate=self.learning_rate)\n",
    "        # self.optimizer =tf.keras.optimizers.SGD(learning_rate=0.01, momentum=0.9)\n",
    "\n",
    "    def build_model(self):\n",
    "        x_input = layers.Input(shape=self.input_shape)\n",
    "        x = layers.Conv2D(64, kernel_size=3, padding='same', activation='relu')(x_input)\n",
    "        x = layers.MaxPool2D()(x)\n",
    "        x = layers.BatchNormalization()(x)\n",
    "        x = layers.Conv2D(64, kernel_size=3, padding='same', activation='relu')(x)\n",
    "        \n",
    "        x = layers.Conv2D(128, kernel_size=3, padding='same', activation='relu')(x)\n",
    "        x = layers.Conv2D(128, kernel_size=3, padding='same', activation='relu')(x)\n",
    "        x = layers.BatchNormalization()(x)\n",
    "        # x = layers.Dropout(0.05)(x)\n",
    "        \n",
    "        x = layers.Conv2D(256, kernel_size=3, padding='same', activation='relu')(x)\n",
    "        x = layers.Conv2D(256, kernel_size=3, padding='same', activation='relu')(x)\n",
    "        x = layers.BatchNormalization()(x)\n",
    "        # x = layers.Dropout(0.05)(x)\n",
    "        \n",
    "        x = layers.Conv2D(512, kernel_size=3, padding='same', activation='relu')(x)\n",
    "        x = layers.MaxPool2D()(x)\n",
    "        # x = layers.Dropout(0.1)(x)\n",
    "        x = layers.Conv2D(512, kernel_size=3, padding='same', activation='relu')(x)\n",
    "        x = layers.MaxPool2D()(x)\n",
    "        x = layers.Conv2D(512, kernel_size=3, padding='same', activation='relu')(x)\n",
    "        x = layers.MaxPool2D()(x)\n",
    "        # x = layers.Dropout(0.1)(x)\n",
    "        \n",
    "        x = layers.Conv2D(256, kernel_size=5, padding='same', activation='relu')(x)\n",
    "        x = layers.MaxPool2D()(x)\n",
    "        x = layers.BatchNormalization()(x)\n",
    "        # x = layers.Dropout(0.1)(x)\n",
    "        \n",
    "        x = layers.Flatten()(x)\n",
    "        \n",
    "        \n",
    "        \n",
    "        x_midpoints = layers.Dense(self.num_classes * self.num_coordinates, activation='sigmoid', name='x_midpoints')(x)\n",
    "        x_midpoints_reshape = layers.Reshape((-1, self.num_classes, self.num_coordinates), name='x_midpoints_reshape')(x_midpoints)\n",
    "        \n",
    "        return tf.keras.models.Model(x_input, x_midpoints_reshape)\n",
    "\n",
    "    def compile_model(self, loss_function):\n",
    "        self.model.compile(optimizer=self.optimizer, loss=loss_function)\n",
    "\n",
    "    def train_model(self, train_dataset, val_dataset, epochs, callbacks_list):\n",
    "        history = self.model.fit(train_dataset, epochs=epochs, validation_data=val_dataset, callbacks=callbacks_list)\n",
    "        return history\n"
   ]
  },
  {
   "cell_type": "code",
   "execution_count": null,
   "metadata": {},
   "outputs": [],
   "source": [
    "\n",
    "\n",
    "# class ModelBuilder:\n",
    "#     def __init__(self, input_shape=(64, 64, 1), num_classes=13, num_coordinates=2, learning_rate=cosine_decay):\n",
    "#         self.input_shape = input_shape\n",
    "#         self.num_classes = num_classes\n",
    "#         self.num_coordinates = num_coordinates\n",
    "#         self.learning_rate = learning_rate\n",
    "#         self.model = self.build_model()\n",
    "#         self.optimizer = tf.keras.optimizers.AdamW(learning_rate=self.learning_rate)\n",
    "\n",
    "#     def build_model(self):\n",
    "#         x_input = layers.Input(shape=self.input_shape)\n",
    "        \n",
    "        \n",
    "        \n",
    "#         x = layers.Conv2D(64, kernel_size=3, padding='same', activation='relu')(x_input)\n",
    "#         x = layers.MaxPool2D()(x)\n",
    "#         x = layers.BatchNormalization()(x)\n",
    "#         x = layers.Conv2D(64, kernel_size=3, padding='same', activation='relu')(x)\n",
    "        \n",
    "#         x = layers.Conv2D(128, kernel_size=3, padding='same', activation='relu')(x)\n",
    "#         x = layers.Conv2D(128, kernel_size=3, padding='same', activation='relu')(x)\n",
    "#         # x = layers.Dropout(0.1)(x)\n",
    "#         x = layers.BatchNormalization()(x)\n",
    "        \n",
    "#         x = layers.Conv2D(256, kernel_size=3, padding='same', activation='relu')(x)\n",
    "#         x = layers.Conv2D(256, kernel_size=3, padding='same', activation='relu')(x)\n",
    "#         # x = layers.Dropout(0.1)(x)\n",
    "#         x = layers.BatchNormalization()(x)\n",
    "        \n",
    "        \n",
    "#         x = layers.Conv2D(512, kernel_size=3, padding='same', activation='relu')(x)\n",
    "#         x = layers.MaxPool2D()(x)\n",
    "#         # x = layers.Dropout(0.1)(x)\n",
    "#         x = layers.BatchNormalization()(x)\n",
    "#         x = layers.Conv2D(512, kernel_size=3, padding='same', activation='relu')(x)\n",
    "#         x = layers.MaxPool2D()(x)\n",
    "#         x = layers.BatchNormalization()(x)\n",
    "#         x = layers.Conv2D(512, kernel_size=3, padding='same', activation='relu')(x)\n",
    "#         x = layers.MaxPool2D()(x)\n",
    "#         # x = layers.Dropout(0.1)(x)\n",
    "#         x = layers.BatchNormalization()(x)\n",
    "        \n",
    "#         x = layers.Conv2D(256, kernel_size=5, padding='same', activation='relu')(x)\n",
    "#         x = layers.MaxPool2D()(x)\n",
    "#         # x = layers.Dropout(0.2)(x)\n",
    "#         x = layers.BatchNormalization()(x)\n",
    "        \n",
    "        \n",
    "        \n",
    "#         x = layers.Flatten()(x)\n",
    "        \n",
    "        \n",
    "#         x_midpoints = layers.Dense(self.num_classes * self.num_coordinates, activation='sigmoid', name='x_midpoints')(x)\n",
    "#         x_midpoints_reshape = layers.Reshape((-1, self.num_classes, self.num_coordinates), name='x_midpoints_reshape')(x_midpoints)\n",
    "        \n",
    "#         return tf.keras.models.Model(x_input, x_midpoints_reshape)\n",
    "\n",
    "#     def compile_model(self, loss_function):\n",
    "#         self.model.compile(optimizer=self.optimizer, loss=loss_function)\n",
    "\n",
    "#     def train_model(self, train_dataset, val_dataset, epochs, callbacks_list):\n",
    "#         history = self.model.fit(train_dataset, epochs=epochs, validation_data=val_dataset, callbacks=callbacks_list)\n",
    "#         return history"
   ]
  },
  {
   "cell_type": "code",
   "execution_count": 6,
   "metadata": {},
   "outputs": [],
   "source": [
    "\n",
    "@tf.keras.utils.register_keras_serializable()\n",
    "class DynamicExponentCallback(tf.keras.callbacks.Callback):\n",
    "    def __init__(self, initial_exponent, increment, update_frequency):\n",
    "        super().__init__()\n",
    "        self.exponent = initial_exponent\n",
    "        self.increment = increment\n",
    "        self.update_frequency = update_frequency\n",
    "\n",
    "    def on_epoch_end(self, epoch, logs=None):\n",
    "        if (epoch + 1) % self.update_frequency == 0:\n",
    "            self.exponent += self.increment\n",
    "            print(f\"\\nEpoch {epoch + 1}: Increasing exponent to {self.exponent}\")\n",
    "            self.model.loss = self.custom_loss(self.exponent)\n",
    "\n",
    "    def custom_loss(self, exponent):\n",
    "        def loss(y_true, y_pred):\n",
    "            diff = tf.abs(y_true - y_pred)\n",
    "            powered_diff = tf.pow(diff, exponent)\n",
    "            return tf.reduce_mean(powered_diff)\n",
    "        return loss\n",
    "\n",
    "    def get_config(self):\n",
    "        config = super().get_config().copy()\n",
    "        config.update({\n",
    "            'initial_exponent': self.exponent,\n",
    "            'increment': self.increment,\n",
    "            'update_frequency': self.update_frequency,\n",
    "        })\n",
    "        return config\n",
    "\n",
    "@tf.keras.utils.register_keras_serializable()\n",
    "def custom_loss(exponent):\n",
    "    def loss(y_true, y_pred):\n",
    "        diff = tf.abs(y_true - y_pred)\n",
    "        powered_diff = tf.pow(diff, exponent)\n",
    "        return tf.reduce_mean(powered_diff)\n",
    "    return loss"
   ]
  },
  {
   "cell_type": "code",
   "execution_count": 6,
   "metadata": {},
   "outputs": [],
   "source": [
    "\n",
    "\n",
    "h5_filename = '/home/da886/ElectronCountingProject/Old Project/TrainingData5zeroes midpoints.h5' ### for more challenging train\n",
    "\n",
    "data_loader = DataLoader(h5_filename)\n",
    "\n",
    "images, centers = data_loader.load_data()\n"
   ]
  },
  {
   "cell_type": "markdown",
   "metadata": {},
   "source": [
    "Random Image with Midpoints"
   ]
  },
  {
   "cell_type": "code",
   "execution_count": 13,
   "metadata": {},
   "outputs": [
    {
     "data": {
      "image/png": "[encoded data removed]",
      "text/plain": [
       "<Figure size 640x480 with 2 Axes>"
      ]
     },
     "metadata": {},
     "output_type": "display_data"
    },
    {
     "data": {
      "text/plain": [
       "<matplotlib.image.AxesImage at 0x7f637a203250>"
      ]
     },
     "execution_count": 13,
     "metadata": {},
     "output_type": "execute_result"
    },
    {
     "data": {
      "image/png": "[encoded data removed]",
      "text/plain": [
       "<Figure size 640x480 with 1 Axes>"
      ]
     },
     "metadata": {},
     "output_type": "display_data"
    }
   ],
   "source": [
    "l=np.random.randint(0,len(centers))\n",
    "data_loader.plot_image_with_centers(l)\n",
    "plt.imshow(images[l])"
   ]
  },
  {
   "cell_type": "code",
   "execution_count": 7,
   "metadata": {},
   "outputs": [
    {
     "name": "stderr",
     "output_type": "stream",
     "text": [
      "2024-09-18 20:11:54.210962: I tensorflow/core/common_runtime/gpu/gpu_device.cc:2021] Created device /job:localhost/replica:0/task:0/device:GPU:0 with 79196 MB memory:  -> device: 8, name: NVIDIA A100 80GB PCIe, pci bus id: 0000:ce:00.0, compute capability: 8.0\n"
     ]
    },
    {
     "name": "stdout",
     "output_type": "stream",
     "text": [
      "Train Images: (8000, 64, 64), Train Midpoints: (8000, 1, 280, 2)\n",
      "Validation Images: (2000, 64, 64), Validation Midpoints: (2000, 1, 280, 2)\n"
     ]
    }
   ],
   "source": [
    "# Normalize the data and split it into training and validation sets\n",
    "train_images, val_images, train_midpoints, val_midpoints = data_loader.split_data()\n",
    "\n",
    "# Check the shape of the datasets\n",
    "print(f'Train Images: {train_images.shape}, Train Midpoints: {train_midpoints.shape}')\n",
    "print(f'Validation Images: {val_images.shape}, Validation Midpoints: {val_midpoints.shape}')\n"
   ]
  },
  {
   "cell_type": "code",
   "execution_count": 9,
   "metadata": {},
   "outputs": [
    {
     "data": {
      "text/plain": [
       "<matplotlib.image.AxesImage at 0x7f6a14f9dd60>"
      ]
     },
     "execution_count": 9,
     "metadata": {},
     "output_type": "execute_result"
    },
    {
     "data": {
      "image/png": "[encoded data removed]",
      "text/plain": [
       "<Figure size 640x480 with 1 Axes>"
      ]
     },
     "metadata": {},
     "output_type": "display_data"
    }
   ],
   "source": [
    "plt.imshow(train_images[1])"
   ]
  },
  {
   "cell_type": "code",
   "execution_count": 14,
   "metadata": {},
   "outputs": [
    {
     "data": {
      "text/plain": [
       "<matplotlib.image.AxesImage at 0x7f15e9ef1950>"
      ]
     },
     "execution_count": 14,
     "metadata": {},
     "output_type": "execute_result"
    },
    {
     "data": {
      "image/png": "[encoded data removed]",
      "text/plain": [
       "<Figure size 640x480 with 1 Axes>"
      ]
     },
     "metadata": {},
     "output_type": "display_data"
    }
   ],
   "source": [
    "plt.imshow(train_images[1])"
   ]
  },
  {
   "cell_type": "code",
   "execution_count": 8,
   "metadata": {},
   "outputs": [],
   "source": [
    "\n",
    "train_dataset = tf.data.Dataset.from_tensor_slices((train_images, train_midpoints))\n",
    "val_dataset = tf.data.Dataset.from_tensor_slices((val_images, val_midpoints))\n",
    "\n",
    "batch_size = 400\n",
    "train_dataset = train_dataset.shuffle(buffer_size=8000, reshuffle_each_iteration=True).batch(batch_size)\n",
    "val_dataset = val_dataset.shuffle(buffer_size=8000).batch(batch_size)\n"
   ]
  },
  {
   "cell_type": "code",
   "execution_count": 9,
   "metadata": {},
   "outputs": [
    {
     "data": {
      "text/plain": [
       "array([[[0.       , 0.       ],\n",
       "        [0.       , 0.       ],\n",
       "        [0.       , 0.       ],\n",
       "        [0.       , 0.       ],\n",
       "        [0.       , 0.       ],\n",
       "        [0.       , 0.       ],\n",
       "        [0.       , 0.       ],\n",
       "        [0.       , 0.       ],\n",
       "        [0.       , 0.       ],\n",
       "        [0.       , 0.       ],\n",
       "        [0.       , 0.       ],\n",
       "        [0.       , 0.       ],\n",
       "        [0.       , 0.       ],\n",
       "        [0.       , 0.       ],\n",
       "        [0.       , 0.       ],\n",
       "        [0.       , 0.       ],\n",
       "        [0.       , 0.       ],\n",
       "        [0.       , 0.       ],\n",
       "        [0.       , 0.       ],\n",
       "        [0.       , 0.       ],\n",
       "        [0.       , 0.       ],\n",
       "        [0.       , 0.       ],\n",
       "        [0.       , 0.       ],\n",
       "        [0.       , 0.       ],\n",
       "        [0.       , 0.       ],\n",
       "        [0.       , 0.       ],\n",
       "        [0.       , 0.       ],\n",
       "        [0.       , 0.       ],\n",
       "        [0.       , 0.       ],\n",
       "        [0.       , 0.       ],\n",
       "        [0.       , 0.       ],\n",
       "        [0.       , 0.       ],\n",
       "        [0.       , 0.       ],\n",
       "        [0.       , 0.       ],\n",
       "        [0.       , 0.       ],\n",
       "        [0.       , 0.       ],\n",
       "        [0.       , 0.       ],\n",
       "        [0.       , 0.       ],\n",
       "        [0.       , 0.       ],\n",
       "        [0.       , 0.       ],\n",
       "        [0.       , 0.       ],\n",
       "        [0.       , 0.       ],\n",
       "        [0.       , 0.       ],\n",
       "        [0.       , 0.       ],\n",
       "        [0.       , 0.       ],\n",
       "        [0.       , 0.       ],\n",
       "        [0.       , 0.       ],\n",
       "        [0.       , 0.       ],\n",
       "        [0.       , 0.       ],\n",
       "        [0.       , 0.       ],\n",
       "        [0.       , 0.       ],\n",
       "        [0.       , 0.       ],\n",
       "        [0.       , 0.       ],\n",
       "        [0.       , 0.       ],\n",
       "        [0.       , 0.       ],\n",
       "        [0.       , 0.       ],\n",
       "        [0.       , 0.       ],\n",
       "        [0.       , 0.       ],\n",
       "        [0.       , 0.       ],\n",
       "        [0.       , 0.       ],\n",
       "        [0.       , 0.       ],\n",
       "        [0.       , 0.       ],\n",
       "        [0.       , 0.       ],\n",
       "        [0.       , 0.       ],\n",
       "        [0.       , 0.       ],\n",
       "        [0.       , 0.       ],\n",
       "        [0.       , 0.       ],\n",
       "        [0.       , 0.       ],\n",
       "        [0.       , 0.       ],\n",
       "        [0.       , 0.       ],\n",
       "        [0.       , 0.       ],\n",
       "        [0.       , 0.       ],\n",
       "        [0.       , 0.       ],\n",
       "        [0.       , 0.       ],\n",
       "        [0.       , 0.       ],\n",
       "        [0.       , 0.       ],\n",
       "        [0.       , 0.       ],\n",
       "        [0.       , 0.       ],\n",
       "        [0.       , 0.       ],\n",
       "        [0.       , 0.       ],\n",
       "        [0.       , 0.       ],\n",
       "        [0.       , 0.       ],\n",
       "        [0.       , 0.       ],\n",
       "        [0.       , 0.       ],\n",
       "        [0.       , 0.       ],\n",
       "        [0.       , 0.       ],\n",
       "        [0.       , 0.       ],\n",
       "        [0.       , 0.       ],\n",
       "        [0.       , 0.       ],\n",
       "        [0.       , 0.       ],\n",
       "        [0.       , 0.       ],\n",
       "        [0.       , 0.       ],\n",
       "        [0.       , 0.       ],\n",
       "        [0.       , 0.       ],\n",
       "        [0.       , 0.       ],\n",
       "        [0.       , 0.       ],\n",
       "        [0.       , 0.       ],\n",
       "        [0.       , 0.       ],\n",
       "        [0.       , 0.       ],\n",
       "        [0.       , 0.       ],\n",
       "        [0.       , 0.       ],\n",
       "        [0.       , 0.       ],\n",
       "        [0.       , 0.       ],\n",
       "        [0.       , 0.       ],\n",
       "        [0.       , 0.       ],\n",
       "        [0.       , 0.       ],\n",
       "        [0.       , 0.       ],\n",
       "        [0.       , 0.       ],\n",
       "        [0.       , 0.       ],\n",
       "        [0.       , 0.       ],\n",
       "        [0.       , 0.       ],\n",
       "        [0.       , 0.       ],\n",
       "        [0.       , 0.       ],\n",
       "        [0.       , 0.       ],\n",
       "        [0.       , 0.       ],\n",
       "        [0.       , 0.       ],\n",
       "        [0.       , 0.       ],\n",
       "        [0.       , 0.       ],\n",
       "        [0.       , 0.       ],\n",
       "        [0.       , 0.       ],\n",
       "        [0.       , 0.       ],\n",
       "        [0.       , 0.       ],\n",
       "        [0.       , 0.       ],\n",
       "        [0.       , 0.       ],\n",
       "        [0.       , 0.       ],\n",
       "        [0.       , 0.       ],\n",
       "        [0.       , 0.       ],\n",
       "        [0.       , 0.       ],\n",
       "        [0.       , 0.       ],\n",
       "        [0.       , 0.       ],\n",
       "        [0.       , 0.       ],\n",
       "        [0.       , 0.       ],\n",
       "        [0.       , 0.       ],\n",
       "        [0.       , 0.       ],\n",
       "        [0.       , 0.       ],\n",
       "        [0.       , 0.       ],\n",
       "        [0.       , 0.       ],\n",
       "        [0.       , 0.       ],\n",
       "        [0.       , 0.       ],\n",
       "        [0.       , 0.       ],\n",
       "        [0.       , 0.       ],\n",
       "        [0.       , 0.       ],\n",
       "        [0.       , 0.       ],\n",
       "        [0.       , 0.       ],\n",
       "        [0.       , 0.       ],\n",
       "        [0.       , 0.       ],\n",
       "        [0.       , 0.       ],\n",
       "        [0.       , 0.       ],\n",
       "        [0.       , 0.       ],\n",
       "        [0.       , 0.       ],\n",
       "        [0.       , 0.       ],\n",
       "        [0.       , 0.       ],\n",
       "        [0.       , 0.       ],\n",
       "        [0.       , 0.       ],\n",
       "        [0.       , 0.       ],\n",
       "        [0.       , 0.       ],\n",
       "        [0.       , 0.       ],\n",
       "        [0.       , 0.       ],\n",
       "        [0.       , 0.       ],\n",
       "        [0.       , 0.       ],\n",
       "        [0.       , 0.       ],\n",
       "        [0.       , 0.       ],\n",
       "        [0.       , 0.       ],\n",
       "        [0.       , 0.       ],\n",
       "        [0.       , 0.       ],\n",
       "        [0.       , 0.       ],\n",
       "        [0.       , 0.       ],\n",
       "        [0.       , 0.       ],\n",
       "        [0.       , 0.       ],\n",
       "        [0.0234375, 0.       ],\n",
       "        [0.6328125, 0.       ],\n",
       "        [0.1328125, 0.0078125],\n",
       "        [0.3984375, 0.0078125],\n",
       "        [0.1953125, 0.015625 ],\n",
       "        [0.8984375, 0.015625 ],\n",
       "        [0.7421875, 0.03125  ],\n",
       "        [0.453125 , 0.0390625],\n",
       "        [0.640625 , 0.0390625],\n",
       "        [0.9453125, 0.0390625],\n",
       "        [0.46875  , 0.0546875],\n",
       "        [0.2421875, 0.0625   ],\n",
       "        [0.7109375, 0.0703125],\n",
       "        [0.0234375, 0.0859375],\n",
       "        [0.34375  , 0.0859375],\n",
       "        [0.59375  , 0.0859375],\n",
       "        [0.59375  , 0.1171875],\n",
       "        [0.9765625, 0.1171875],\n",
       "        [0.4453125, 0.1328125],\n",
       "        [0.8984375, 0.1484375],\n",
       "        [0.0703125, 0.15625  ],\n",
       "        [0.84375  , 0.1640625],\n",
       "        [0.6796875, 0.171875 ],\n",
       "        [0.8046875, 0.1796875],\n",
       "        [0.890625 , 0.1796875],\n",
       "        [0.2421875, 0.1875   ],\n",
       "        [0.1640625, 0.2109375],\n",
       "        [0.2265625, 0.2109375],\n",
       "        [0.8125   , 0.2109375],\n",
       "        [0.078125 , 0.2265625],\n",
       "        [0.6953125, 0.234375 ],\n",
       "        [0.3984375, 0.25     ],\n",
       "        [0.5625   , 0.2734375],\n",
       "        [0.3984375, 0.2890625],\n",
       "        [0.703125 , 0.2890625],\n",
       "        [0.0625   , 0.3046875],\n",
       "        [0.4296875, 0.328125 ],\n",
       "        [0.5859375, 0.328125 ],\n",
       "        [0.8671875, 0.3359375],\n",
       "        [0.4453125, 0.3515625],\n",
       "        [0.375    , 0.3671875],\n",
       "        [0.4296875, 0.375    ],\n",
       "        [0.5546875, 0.3984375],\n",
       "        [0.578125 , 0.40625  ],\n",
       "        [0.7265625, 0.40625  ],\n",
       "        [0.0546875, 0.421875 ],\n",
       "        [0.0546875, 0.4296875],\n",
       "        [0.359375 , 0.4296875],\n",
       "        [0.28125  , 0.4453125],\n",
       "        [0.3046875, 0.453125 ],\n",
       "        [0.46875  , 0.4609375],\n",
       "        [0.484375 , 0.4609375],\n",
       "        [0.671875 , 0.4609375],\n",
       "        [0.1484375, 0.46875  ],\n",
       "        [0.3828125, 0.5234375],\n",
       "        [0.6796875, 0.5234375],\n",
       "        [0.703125 , 0.5234375],\n",
       "        [0.578125 , 0.53125  ],\n",
       "        [0.4140625, 0.5390625],\n",
       "        [0.0703125, 0.546875 ],\n",
       "        [0.0703125, 0.546875 ],\n",
       "        [0.3359375, 0.546875 ],\n",
       "        [0.6953125, 0.5703125],\n",
       "        [0.4453125, 0.578125 ],\n",
       "        [0.0625   , 0.5859375],\n",
       "        [0.8984375, 0.5859375],\n",
       "        [0.5078125, 0.59375  ],\n",
       "        [0.6875   , 0.6171875],\n",
       "        [0.21875  , 0.6328125],\n",
       "        [0.3671875, 0.6328125],\n",
       "        [0.7109375, 0.6328125],\n",
       "        [0.       , 0.6484375],\n",
       "        [0.0078125, 0.6484375],\n",
       "        [0.921875 , 0.6484375],\n",
       "        [0.8125   , 0.6640625],\n",
       "        [0.5078125, 0.671875 ],\n",
       "        [0.03125  , 0.6796875],\n",
       "        [0.7265625, 0.6796875],\n",
       "        [0.2890625, 0.703125 ],\n",
       "        [0.40625  , 0.7109375],\n",
       "        [0.28125  , 0.7265625],\n",
       "        [0.828125 , 0.7265625],\n",
       "        [0.8671875, 0.734375 ],\n",
       "        [0.25     , 0.7421875],\n",
       "        [0.3125   , 0.7421875],\n",
       "        [0.34375  , 0.7421875],\n",
       "        [0.7578125, 0.75     ],\n",
       "        [0.       , 0.7578125],\n",
       "        [0.4140625, 0.7578125],\n",
       "        [0.8828125, 0.765625 ],\n",
       "        [0.2421875, 0.7734375],\n",
       "        [0.6484375, 0.796875 ],\n",
       "        [0.2578125, 0.8046875],\n",
       "        [0.890625 , 0.8046875],\n",
       "        [0.1484375, 0.8125   ],\n",
       "        [0.0546875, 0.8203125],\n",
       "        [0.0703125, 0.8203125],\n",
       "        [0.2421875, 0.8203125],\n",
       "        [0.328125 , 0.8203125],\n",
       "        [0.8359375, 0.8671875],\n",
       "        [0.0859375, 0.890625 ],\n",
       "        [0.265625 , 0.890625 ],\n",
       "        [0.7578125, 0.890625 ],\n",
       "        [0.1484375, 0.9140625],\n",
       "        [0.03125  , 0.9453125],\n",
       "        [0.5390625, 0.953125 ],\n",
       "        [0.7734375, 0.953125 ],\n",
       "        [0.140625 , 0.9765625],\n",
       "        [0.1640625, 0.9765625],\n",
       "        [0.1796875, 0.984375 ],\n",
       "        [0.8046875, 0.984375 ]]])"
      ]
     },
     "execution_count": 9,
     "metadata": {},
     "output_type": "execute_result"
    }
   ],
   "source": [
    "l = np.random.randint(0,len(train_midpoints))\n",
    "train_midpoints[l]"
   ]
  },
  {
   "cell_type": "markdown",
   "metadata": {},
   "source": [
    "Examples of what goes into the model"
   ]
  },
  {
   "cell_type": "code",
   "execution_count": 36,
   "metadata": {},
   "outputs": [
    {
     "data": {
      "image/png": "[encoded data removed]",
      "text/plain": [
       "<Figure size 600x600 with 4 Axes>"
      ]
     },
     "metadata": {},
     "output_type": "display_data"
    }
   ],
   "source": [
    "plot_transposed_images_with_midpoints(train_dataset, image_indices=[0, 1, 2, 3])"
   ]
  },
  {
   "cell_type": "code",
   "execution_count": 37,
   "metadata": {},
   "outputs": [
    {
     "data": {
      "text/plain": [
       "(0.984375, 0.0)"
      ]
     },
     "execution_count": 37,
     "metadata": {},
     "output_type": "execute_result"
    }
   ],
   "source": [
    "np.max(train_midpoints ),np.min(train_midpoints)"
   ]
  },
  {
   "cell_type": "code",
   "execution_count": 10,
   "metadata": {},
   "outputs": [],
   "source": [
    "\n",
    "\n",
    "lr_scheduler = tf.keras.callbacks.ReduceLROnPlateau(\n",
    "    monitor='val_loss', factor=0.2, patience=8, verbose=1, mode='min', min_lr=7e-15\n",
    ")\n"
   ]
  },
  {
   "cell_type": "code",
   "execution_count": 11,
   "metadata": {},
   "outputs": [
    {
     "data": {
      "text/html": [
       "<pre style=\"white-space:pre;overflow-x:auto;line-height:normal;font-family:Menlo,'DejaVu Sans Mono',consolas,'Courier New',monospace\"><span style=\"font-weight: bold\">Model: \"functional_1\"</span>\n",
       "</pre>\n"
      ],
      "text/plain": [
       "\u001b[1mModel: \"functional_1\"\u001b[0m\n"
      ]
     },
     "metadata": {},
     "output_type": "display_data"
    },
    {
     "data": {
      "text/html": [
       "<pre style=\"white-space:pre;overflow-x:auto;line-height:normal;font-family:Menlo,'DejaVu Sans Mono',consolas,'Courier New',monospace\">┏━━━━━━━━━━━━━━━━━━━━━━━━━━━━━━━━━┳━━━━━━━━━━━━━━━━━━━━━━━━┳━━━━━━━━━━━━━━━┓\n",
       "┃<span style=\"font-weight: bold\"> Layer (type)                    </span>┃<span style=\"font-weight: bold\"> Output Shape           </span>┃<span style=\"font-weight: bold\">       Param # </span>┃\n",
       "┡━━━━━━━━━━━━━━━━━━━━━━━━━━━━━━━━━╇━━━━━━━━━━━━━━━━━━━━━━━━╇━━━━━━━━━━━━━━━┩\n",
       "│ input_layer_1 (<span style=\"color: #0087ff; text-decoration-color: #0087ff\">InputLayer</span>)      │ (<span style=\"color: #00d7ff; text-decoration-color: #00d7ff\">None</span>, <span style=\"color: #00af00; text-decoration-color: #00af00\">64</span>, <span style=\"color: #00af00; text-decoration-color: #00af00\">64</span>, <span style=\"color: #00af00; text-decoration-color: #00af00\">1</span>)      │             <span style=\"color: #00af00; text-decoration-color: #00af00\">0</span> │\n",
       "├─────────────────────────────────┼────────────────────────┼───────────────┤\n",
       "│ conv2d_10 (<span style=\"color: #0087ff; text-decoration-color: #0087ff\">Conv2D</span>)              │ (<span style=\"color: #00d7ff; text-decoration-color: #00d7ff\">None</span>, <span style=\"color: #00af00; text-decoration-color: #00af00\">64</span>, <span style=\"color: #00af00; text-decoration-color: #00af00\">64</span>, <span style=\"color: #00af00; text-decoration-color: #00af00\">64</span>)     │           <span style=\"color: #00af00; text-decoration-color: #00af00\">640</span> │\n",
       "├─────────────────────────────────┼────────────────────────┼───────────────┤\n",
       "│ max_pooling2d_5 (<span style=\"color: #0087ff; text-decoration-color: #0087ff\">MaxPooling2D</span>)  │ (<span style=\"color: #00d7ff; text-decoration-color: #00d7ff\">None</span>, <span style=\"color: #00af00; text-decoration-color: #00af00\">32</span>, <span style=\"color: #00af00; text-decoration-color: #00af00\">32</span>, <span style=\"color: #00af00; text-decoration-color: #00af00\">64</span>)     │             <span style=\"color: #00af00; text-decoration-color: #00af00\">0</span> │\n",
       "├─────────────────────────────────┼────────────────────────┼───────────────┤\n",
       "│ batch_normalization_4           │ (<span style=\"color: #00d7ff; text-decoration-color: #00d7ff\">None</span>, <span style=\"color: #00af00; text-decoration-color: #00af00\">32</span>, <span style=\"color: #00af00; text-decoration-color: #00af00\">32</span>, <span style=\"color: #00af00; text-decoration-color: #00af00\">64</span>)     │           <span style=\"color: #00af00; text-decoration-color: #00af00\">256</span> │\n",
       "│ (<span style=\"color: #0087ff; text-decoration-color: #0087ff\">BatchNormalization</span>)            │                        │               │\n",
       "├─────────────────────────────────┼────────────────────────┼───────────────┤\n",
       "│ conv2d_11 (<span style=\"color: #0087ff; text-decoration-color: #0087ff\">Conv2D</span>)              │ (<span style=\"color: #00d7ff; text-decoration-color: #00d7ff\">None</span>, <span style=\"color: #00af00; text-decoration-color: #00af00\">32</span>, <span style=\"color: #00af00; text-decoration-color: #00af00\">32</span>, <span style=\"color: #00af00; text-decoration-color: #00af00\">64</span>)     │        <span style=\"color: #00af00; text-decoration-color: #00af00\">36,928</span> │\n",
       "├─────────────────────────────────┼────────────────────────┼───────────────┤\n",
       "│ conv2d_12 (<span style=\"color: #0087ff; text-decoration-color: #0087ff\">Conv2D</span>)              │ (<span style=\"color: #00d7ff; text-decoration-color: #00d7ff\">None</span>, <span style=\"color: #00af00; text-decoration-color: #00af00\">32</span>, <span style=\"color: #00af00; text-decoration-color: #00af00\">32</span>, <span style=\"color: #00af00; text-decoration-color: #00af00\">128</span>)    │        <span style=\"color: #00af00; text-decoration-color: #00af00\">73,856</span> │\n",
       "├─────────────────────────────────┼────────────────────────┼───────────────┤\n",
       "│ conv2d_13 (<span style=\"color: #0087ff; text-decoration-color: #0087ff\">Conv2D</span>)              │ (<span style=\"color: #00d7ff; text-decoration-color: #00d7ff\">None</span>, <span style=\"color: #00af00; text-decoration-color: #00af00\">32</span>, <span style=\"color: #00af00; text-decoration-color: #00af00\">32</span>, <span style=\"color: #00af00; text-decoration-color: #00af00\">128</span>)    │       <span style=\"color: #00af00; text-decoration-color: #00af00\">147,584</span> │\n",
       "├─────────────────────────────────┼────────────────────────┼───────────────┤\n",
       "│ batch_normalization_5           │ (<span style=\"color: #00d7ff; text-decoration-color: #00d7ff\">None</span>, <span style=\"color: #00af00; text-decoration-color: #00af00\">32</span>, <span style=\"color: #00af00; text-decoration-color: #00af00\">32</span>, <span style=\"color: #00af00; text-decoration-color: #00af00\">128</span>)    │           <span style=\"color: #00af00; text-decoration-color: #00af00\">512</span> │\n",
       "│ (<span style=\"color: #0087ff; text-decoration-color: #0087ff\">BatchNormalization</span>)            │                        │               │\n",
       "├─────────────────────────────────┼────────────────────────┼───────────────┤\n",
       "│ conv2d_14 (<span style=\"color: #0087ff; text-decoration-color: #0087ff\">Conv2D</span>)              │ (<span style=\"color: #00d7ff; text-decoration-color: #00d7ff\">None</span>, <span style=\"color: #00af00; text-decoration-color: #00af00\">32</span>, <span style=\"color: #00af00; text-decoration-color: #00af00\">32</span>, <span style=\"color: #00af00; text-decoration-color: #00af00\">256</span>)    │       <span style=\"color: #00af00; text-decoration-color: #00af00\">295,168</span> │\n",
       "├─────────────────────────────────┼────────────────────────┼───────────────┤\n",
       "│ conv2d_15 (<span style=\"color: #0087ff; text-decoration-color: #0087ff\">Conv2D</span>)              │ (<span style=\"color: #00d7ff; text-decoration-color: #00d7ff\">None</span>, <span style=\"color: #00af00; text-decoration-color: #00af00\">32</span>, <span style=\"color: #00af00; text-decoration-color: #00af00\">32</span>, <span style=\"color: #00af00; text-decoration-color: #00af00\">256</span>)    │       <span style=\"color: #00af00; text-decoration-color: #00af00\">590,080</span> │\n",
       "├─────────────────────────────────┼────────────────────────┼───────────────┤\n",
       "│ batch_normalization_6           │ (<span style=\"color: #00d7ff; text-decoration-color: #00d7ff\">None</span>, <span style=\"color: #00af00; text-decoration-color: #00af00\">32</span>, <span style=\"color: #00af00; text-decoration-color: #00af00\">32</span>, <span style=\"color: #00af00; text-decoration-color: #00af00\">256</span>)    │         <span style=\"color: #00af00; text-decoration-color: #00af00\">1,024</span> │\n",
       "│ (<span style=\"color: #0087ff; text-decoration-color: #0087ff\">BatchNormalization</span>)            │                        │               │\n",
       "├─────────────────────────────────┼────────────────────────┼───────────────┤\n",
       "│ conv2d_16 (<span style=\"color: #0087ff; text-decoration-color: #0087ff\">Conv2D</span>)              │ (<span style=\"color: #00d7ff; text-decoration-color: #00d7ff\">None</span>, <span style=\"color: #00af00; text-decoration-color: #00af00\">32</span>, <span style=\"color: #00af00; text-decoration-color: #00af00\">32</span>, <span style=\"color: #00af00; text-decoration-color: #00af00\">512</span>)    │     <span style=\"color: #00af00; text-decoration-color: #00af00\">1,180,160</span> │\n",
       "├─────────────────────────────────┼────────────────────────┼───────────────┤\n",
       "│ max_pooling2d_6 (<span style=\"color: #0087ff; text-decoration-color: #0087ff\">MaxPooling2D</span>)  │ (<span style=\"color: #00d7ff; text-decoration-color: #00d7ff\">None</span>, <span style=\"color: #00af00; text-decoration-color: #00af00\">16</span>, <span style=\"color: #00af00; text-decoration-color: #00af00\">16</span>, <span style=\"color: #00af00; text-decoration-color: #00af00\">512</span>)    │             <span style=\"color: #00af00; text-decoration-color: #00af00\">0</span> │\n",
       "├─────────────────────────────────┼────────────────────────┼───────────────┤\n",
       "│ conv2d_17 (<span style=\"color: #0087ff; text-decoration-color: #0087ff\">Conv2D</span>)              │ (<span style=\"color: #00d7ff; text-decoration-color: #00d7ff\">None</span>, <span style=\"color: #00af00; text-decoration-color: #00af00\">16</span>, <span style=\"color: #00af00; text-decoration-color: #00af00\">16</span>, <span style=\"color: #00af00; text-decoration-color: #00af00\">512</span>)    │     <span style=\"color: #00af00; text-decoration-color: #00af00\">2,359,808</span> │\n",
       "├─────────────────────────────────┼────────────────────────┼───────────────┤\n",
       "│ max_pooling2d_7 (<span style=\"color: #0087ff; text-decoration-color: #0087ff\">MaxPooling2D</span>)  │ (<span style=\"color: #00d7ff; text-decoration-color: #00d7ff\">None</span>, <span style=\"color: #00af00; text-decoration-color: #00af00\">8</span>, <span style=\"color: #00af00; text-decoration-color: #00af00\">8</span>, <span style=\"color: #00af00; text-decoration-color: #00af00\">512</span>)      │             <span style=\"color: #00af00; text-decoration-color: #00af00\">0</span> │\n",
       "├─────────────────────────────────┼────────────────────────┼───────────────┤\n",
       "│ conv2d_18 (<span style=\"color: #0087ff; text-decoration-color: #0087ff\">Conv2D</span>)              │ (<span style=\"color: #00d7ff; text-decoration-color: #00d7ff\">None</span>, <span style=\"color: #00af00; text-decoration-color: #00af00\">8</span>, <span style=\"color: #00af00; text-decoration-color: #00af00\">8</span>, <span style=\"color: #00af00; text-decoration-color: #00af00\">512</span>)      │     <span style=\"color: #00af00; text-decoration-color: #00af00\">2,359,808</span> │\n",
       "├─────────────────────────────────┼────────────────────────┼───────────────┤\n",
       "│ max_pooling2d_8 (<span style=\"color: #0087ff; text-decoration-color: #0087ff\">MaxPooling2D</span>)  │ (<span style=\"color: #00d7ff; text-decoration-color: #00d7ff\">None</span>, <span style=\"color: #00af00; text-decoration-color: #00af00\">4</span>, <span style=\"color: #00af00; text-decoration-color: #00af00\">4</span>, <span style=\"color: #00af00; text-decoration-color: #00af00\">512</span>)      │             <span style=\"color: #00af00; text-decoration-color: #00af00\">0</span> │\n",
       "├─────────────────────────────────┼────────────────────────┼───────────────┤\n",
       "│ conv2d_19 (<span style=\"color: #0087ff; text-decoration-color: #0087ff\">Conv2D</span>)              │ (<span style=\"color: #00d7ff; text-decoration-color: #00d7ff\">None</span>, <span style=\"color: #00af00; text-decoration-color: #00af00\">4</span>, <span style=\"color: #00af00; text-decoration-color: #00af00\">4</span>, <span style=\"color: #00af00; text-decoration-color: #00af00\">256</span>)      │     <span style=\"color: #00af00; text-decoration-color: #00af00\">3,277,056</span> │\n",
       "├─────────────────────────────────┼────────────────────────┼───────────────┤\n",
       "│ max_pooling2d_9 (<span style=\"color: #0087ff; text-decoration-color: #0087ff\">MaxPooling2D</span>)  │ (<span style=\"color: #00d7ff; text-decoration-color: #00d7ff\">None</span>, <span style=\"color: #00af00; text-decoration-color: #00af00\">2</span>, <span style=\"color: #00af00; text-decoration-color: #00af00\">2</span>, <span style=\"color: #00af00; text-decoration-color: #00af00\">256</span>)      │             <span style=\"color: #00af00; text-decoration-color: #00af00\">0</span> │\n",
       "├─────────────────────────────────┼────────────────────────┼───────────────┤\n",
       "│ batch_normalization_7           │ (<span style=\"color: #00d7ff; text-decoration-color: #00d7ff\">None</span>, <span style=\"color: #00af00; text-decoration-color: #00af00\">2</span>, <span style=\"color: #00af00; text-decoration-color: #00af00\">2</span>, <span style=\"color: #00af00; text-decoration-color: #00af00\">256</span>)      │         <span style=\"color: #00af00; text-decoration-color: #00af00\">1,024</span> │\n",
       "│ (<span style=\"color: #0087ff; text-decoration-color: #0087ff\">BatchNormalization</span>)            │                        │               │\n",
       "├─────────────────────────────────┼────────────────────────┼───────────────┤\n",
       "│ flatten_1 (<span style=\"color: #0087ff; text-decoration-color: #0087ff\">Flatten</span>)             │ (<span style=\"color: #00d7ff; text-decoration-color: #00d7ff\">None</span>, <span style=\"color: #00af00; text-decoration-color: #00af00\">1024</span>)           │             <span style=\"color: #00af00; text-decoration-color: #00af00\">0</span> │\n",
       "├─────────────────────────────────┼────────────────────────┼───────────────┤\n",
       "│ x_midpoints (<span style=\"color: #0087ff; text-decoration-color: #0087ff\">Dense</span>)             │ (<span style=\"color: #00d7ff; text-decoration-color: #00d7ff\">None</span>, <span style=\"color: #00af00; text-decoration-color: #00af00\">560</span>)            │       <span style=\"color: #00af00; text-decoration-color: #00af00\">574,000</span> │\n",
       "├─────────────────────────────────┼────────────────────────┼───────────────┤\n",
       "│ x_midpoints_reshape (<span style=\"color: #0087ff; text-decoration-color: #0087ff\">Reshape</span>)   │ (<span style=\"color: #00d7ff; text-decoration-color: #00d7ff\">None</span>, <span style=\"color: #00af00; text-decoration-color: #00af00\">1</span>, <span style=\"color: #00af00; text-decoration-color: #00af00\">280</span>, <span style=\"color: #00af00; text-decoration-color: #00af00\">2</span>)      │             <span style=\"color: #00af00; text-decoration-color: #00af00\">0</span> │\n",
       "└─────────────────────────────────┴────────────────────────┴───────────────┘\n",
       "</pre>\n"
      ],
      "text/plain": [
       "┏━━━━━━━━━━━━━━━━━━━━━━━━━━━━━━━━━┳━━━━━━━━━━━━━━━━━━━━━━━━┳━━━━━━━━━━━━━━━┓\n",
       "┃\u001b[1m \u001b[0m\u001b[1mLayer (type)                   \u001b[0m\u001b[1m \u001b[0m┃\u001b[1m \u001b[0m\u001b[1mOutput Shape          \u001b[0m\u001b[1m \u001b[0m┃\u001b[1m \u001b[0m\u001b[1m      Param #\u001b[0m\u001b[1m \u001b[0m┃\n",
       "┡━━━━━━━━━━━━━━━━━━━━━━━━━━━━━━━━━╇━━━━━━━━━━━━━━━━━━━━━━━━╇━━━━━━━━━━━━━━━┩\n",
       "│ input_layer_1 (\u001b[38;5;33mInputLayer\u001b[0m)      │ (\u001b[38;5;45mNone\u001b[0m, \u001b[38;5;34m64\u001b[0m, \u001b[38;5;34m64\u001b[0m, \u001b[38;5;34m1\u001b[0m)      │             \u001b[38;5;34m0\u001b[0m │\n",
       "├─────────────────────────────────┼────────────────────────┼───────────────┤\n",
       "│ conv2d_10 (\u001b[38;5;33mConv2D\u001b[0m)              │ (\u001b[38;5;45mNone\u001b[0m, \u001b[38;5;34m64\u001b[0m, \u001b[38;5;34m64\u001b[0m, \u001b[38;5;34m64\u001b[0m)     │           \u001b[38;5;34m640\u001b[0m │\n",
       "├─────────────────────────────────┼────────────────────────┼───────────────┤\n",
       "│ max_pooling2d_5 (\u001b[38;5;33mMaxPooling2D\u001b[0m)  │ (\u001b[38;5;45mNone\u001b[0m, \u001b[38;5;34m32\u001b[0m, \u001b[38;5;34m32\u001b[0m, \u001b[38;5;34m64\u001b[0m)     │             \u001b[38;5;34m0\u001b[0m │\n",
       "├─────────────────────────────────┼────────────────────────┼───────────────┤\n",
       "│ batch_normalization_4           │ (\u001b[38;5;45mNone\u001b[0m, \u001b[38;5;34m32\u001b[0m, \u001b[38;5;34m32\u001b[0m, \u001b[38;5;34m64\u001b[0m)     │           \u001b[38;5;34m256\u001b[0m │\n",
       "│ (\u001b[38;5;33mBatchNormalization\u001b[0m)            │                        │               │\n",
       "├─────────────────────────────────┼────────────────────────┼───────────────┤\n",
       "│ conv2d_11 (\u001b[38;5;33mConv2D\u001b[0m)              │ (\u001b[38;5;45mNone\u001b[0m, \u001b[38;5;34m32\u001b[0m, \u001b[38;5;34m32\u001b[0m, \u001b[38;5;34m64\u001b[0m)     │        \u001b[38;5;34m36,928\u001b[0m │\n",
       "├─────────────────────────────────┼────────────────────────┼───────────────┤\n",
       "│ conv2d_12 (\u001b[38;5;33mConv2D\u001b[0m)              │ (\u001b[38;5;45mNone\u001b[0m, \u001b[38;5;34m32\u001b[0m, \u001b[38;5;34m32\u001b[0m, \u001b[38;5;34m128\u001b[0m)    │        \u001b[38;5;34m73,856\u001b[0m │\n",
       "├─────────────────────────────────┼────────────────────────┼───────────────┤\n",
       "│ conv2d_13 (\u001b[38;5;33mConv2D\u001b[0m)              │ (\u001b[38;5;45mNone\u001b[0m, \u001b[38;5;34m32\u001b[0m, \u001b[38;5;34m32\u001b[0m, \u001b[38;5;34m128\u001b[0m)    │       \u001b[38;5;34m147,584\u001b[0m │\n",
       "├─────────────────────────────────┼────────────────────────┼───────────────┤\n",
       "│ batch_normalization_5           │ (\u001b[38;5;45mNone\u001b[0m, \u001b[38;5;34m32\u001b[0m, \u001b[38;5;34m32\u001b[0m, \u001b[38;5;34m128\u001b[0m)    │           \u001b[38;5;34m512\u001b[0m │\n",
       "│ (\u001b[38;5;33mBatchNormalization\u001b[0m)            │                        │               │\n",
       "├─────────────────────────────────┼────────────────────────┼───────────────┤\n",
       "│ conv2d_14 (\u001b[38;5;33mConv2D\u001b[0m)              │ (\u001b[38;5;45mNone\u001b[0m, \u001b[38;5;34m32\u001b[0m, \u001b[38;5;34m32\u001b[0m, \u001b[38;5;34m256\u001b[0m)    │       \u001b[38;5;34m295,168\u001b[0m │\n",
       "├─────────────────────────────────┼────────────────────────┼───────────────┤\n",
       "│ conv2d_15 (\u001b[38;5;33mConv2D\u001b[0m)              │ (\u001b[38;5;45mNone\u001b[0m, \u001b[38;5;34m32\u001b[0m, \u001b[38;5;34m32\u001b[0m, \u001b[38;5;34m256\u001b[0m)    │       \u001b[38;5;34m590,080\u001b[0m │\n",
       "├─────────────────────────────────┼────────────────────────┼───────────────┤\n",
       "│ batch_normalization_6           │ (\u001b[38;5;45mNone\u001b[0m, \u001b[38;5;34m32\u001b[0m, \u001b[38;5;34m32\u001b[0m, \u001b[38;5;34m256\u001b[0m)    │         \u001b[38;5;34m1,024\u001b[0m │\n",
       "│ (\u001b[38;5;33mBatchNormalization\u001b[0m)            │                        │               │\n",
       "├─────────────────────────────────┼────────────────────────┼───────────────┤\n",
       "│ conv2d_16 (\u001b[38;5;33mConv2D\u001b[0m)              │ (\u001b[38;5;45mNone\u001b[0m, \u001b[38;5;34m32\u001b[0m, \u001b[38;5;34m32\u001b[0m, \u001b[38;5;34m512\u001b[0m)    │     \u001b[38;5;34m1,180,160\u001b[0m │\n",
       "├─────────────────────────────────┼────────────────────────┼───────────────┤\n",
       "│ max_pooling2d_6 (\u001b[38;5;33mMaxPooling2D\u001b[0m)  │ (\u001b[38;5;45mNone\u001b[0m, \u001b[38;5;34m16\u001b[0m, \u001b[38;5;34m16\u001b[0m, \u001b[38;5;34m512\u001b[0m)    │             \u001b[38;5;34m0\u001b[0m │\n",
       "├─────────────────────────────────┼────────────────────────┼───────────────┤\n",
       "│ conv2d_17 (\u001b[38;5;33mConv2D\u001b[0m)              │ (\u001b[38;5;45mNone\u001b[0m, \u001b[38;5;34m16\u001b[0m, \u001b[38;5;34m16\u001b[0m, \u001b[38;5;34m512\u001b[0m)    │     \u001b[38;5;34m2,359,808\u001b[0m │\n",
       "├─────────────────────────────────┼────────────────────────┼───────────────┤\n",
       "│ max_pooling2d_7 (\u001b[38;5;33mMaxPooling2D\u001b[0m)  │ (\u001b[38;5;45mNone\u001b[0m, \u001b[38;5;34m8\u001b[0m, \u001b[38;5;34m8\u001b[0m, \u001b[38;5;34m512\u001b[0m)      │             \u001b[38;5;34m0\u001b[0m │\n",
       "├─────────────────────────────────┼────────────────────────┼───────────────┤\n",
       "│ conv2d_18 (\u001b[38;5;33mConv2D\u001b[0m)              │ (\u001b[38;5;45mNone\u001b[0m, \u001b[38;5;34m8\u001b[0m, \u001b[38;5;34m8\u001b[0m, \u001b[38;5;34m512\u001b[0m)      │     \u001b[38;5;34m2,359,808\u001b[0m │\n",
       "├─────────────────────────────────┼────────────────────────┼───────────────┤\n",
       "│ max_pooling2d_8 (\u001b[38;5;33mMaxPooling2D\u001b[0m)  │ (\u001b[38;5;45mNone\u001b[0m, \u001b[38;5;34m4\u001b[0m, \u001b[38;5;34m4\u001b[0m, \u001b[38;5;34m512\u001b[0m)      │             \u001b[38;5;34m0\u001b[0m │\n",
       "├─────────────────────────────────┼────────────────────────┼───────────────┤\n",
       "│ conv2d_19 (\u001b[38;5;33mConv2D\u001b[0m)              │ (\u001b[38;5;45mNone\u001b[0m, \u001b[38;5;34m4\u001b[0m, \u001b[38;5;34m4\u001b[0m, \u001b[38;5;34m256\u001b[0m)      │     \u001b[38;5;34m3,277,056\u001b[0m │\n",
       "├─────────────────────────────────┼────────────────────────┼───────────────┤\n",
       "│ max_pooling2d_9 (\u001b[38;5;33mMaxPooling2D\u001b[0m)  │ (\u001b[38;5;45mNone\u001b[0m, \u001b[38;5;34m2\u001b[0m, \u001b[38;5;34m2\u001b[0m, \u001b[38;5;34m256\u001b[0m)      │             \u001b[38;5;34m0\u001b[0m │\n",
       "├─────────────────────────────────┼────────────────────────┼───────────────┤\n",
       "│ batch_normalization_7           │ (\u001b[38;5;45mNone\u001b[0m, \u001b[38;5;34m2\u001b[0m, \u001b[38;5;34m2\u001b[0m, \u001b[38;5;34m256\u001b[0m)      │         \u001b[38;5;34m1,024\u001b[0m │\n",
       "│ (\u001b[38;5;33mBatchNormalization\u001b[0m)            │                        │               │\n",
       "├─────────────────────────────────┼────────────────────────┼───────────────┤\n",
       "│ flatten_1 (\u001b[38;5;33mFlatten\u001b[0m)             │ (\u001b[38;5;45mNone\u001b[0m, \u001b[38;5;34m1024\u001b[0m)           │             \u001b[38;5;34m0\u001b[0m │\n",
       "├─────────────────────────────────┼────────────────────────┼───────────────┤\n",
       "│ x_midpoints (\u001b[38;5;33mDense\u001b[0m)             │ (\u001b[38;5;45mNone\u001b[0m, \u001b[38;5;34m560\u001b[0m)            │       \u001b[38;5;34m574,000\u001b[0m │\n",
       "├─────────────────────────────────┼────────────────────────┼───────────────┤\n",
       "│ x_midpoints_reshape (\u001b[38;5;33mReshape\u001b[0m)   │ (\u001b[38;5;45mNone\u001b[0m, \u001b[38;5;34m1\u001b[0m, \u001b[38;5;34m280\u001b[0m, \u001b[38;5;34m2\u001b[0m)      │             \u001b[38;5;34m0\u001b[0m │\n",
       "└─────────────────────────────────┴────────────────────────┴───────────────┘\n"
      ]
     },
     "metadata": {},
     "output_type": "display_data"
    },
    {
     "data": {
      "text/html": [
       "<pre style=\"white-space:pre;overflow-x:auto;line-height:normal;font-family:Menlo,'DejaVu Sans Mono',consolas,'Courier New',monospace\"><span style=\"font-weight: bold\"> Total params: </span><span style=\"color: #00af00; text-decoration-color: #00af00\">10,897,904</span> (41.57 MB)\n",
       "</pre>\n"
      ],
      "text/plain": [
       "\u001b[1m Total params: \u001b[0m\u001b[38;5;34m10,897,904\u001b[0m (41.57 MB)\n"
      ]
     },
     "metadata": {},
     "output_type": "display_data"
    },
    {
     "data": {
      "text/html": [
       "<pre style=\"white-space:pre;overflow-x:auto;line-height:normal;font-family:Menlo,'DejaVu Sans Mono',consolas,'Courier New',monospace\"><span style=\"font-weight: bold\"> Trainable params: </span><span style=\"color: #00af00; text-decoration-color: #00af00\">10,896,496</span> (41.57 MB)\n",
       "</pre>\n"
      ],
      "text/plain": [
       "\u001b[1m Trainable params: \u001b[0m\u001b[38;5;34m10,896,496\u001b[0m (41.57 MB)\n"
      ]
     },
     "metadata": {},
     "output_type": "display_data"
    },
    {
     "data": {
      "text/html": [
       "<pre style=\"white-space:pre;overflow-x:auto;line-height:normal;font-family:Menlo,'DejaVu Sans Mono',consolas,'Courier New',monospace\"><span style=\"font-weight: bold\"> Non-trainable params: </span><span style=\"color: #00af00; text-decoration-color: #00af00\">1,408</span> (5.50 KB)\n",
       "</pre>\n"
      ],
      "text/plain": [
       "\u001b[1m Non-trainable params: \u001b[0m\u001b[38;5;34m1,408\u001b[0m (5.50 KB)\n"
      ]
     },
     "metadata": {},
     "output_type": "display_data"
    }
   ],
   "source": [
    "# Initialize the ModelBuilder\n",
    "model_builder = ModelBuilder()\n",
    "\n",
    "# Build the model\n",
    "model = model_builder.build_model()\n",
    "\n",
    "# Display the model architecture\n",
    "model.summary()"
   ]
  },
  {
   "cell_type": "markdown",
   "metadata": {},
   "source": [
    "Cyclic Learning Rate Scheduler"
   ]
  },
  {
   "cell_type": "code",
   "execution_count": 12,
   "metadata": {},
   "outputs": [],
   "source": [
    "import tensorflow as tf\n",
    "import math\n",
    "\n",
    "def cyclic_learning_rate(epoch, base_lr=3e-8, max_lr=1e-4, step_size=120, mode='triangular'):\n",
    "    \"\"\"\n",
    "    Calculate the cyclic learning rate.\n",
    "    \n",
    "    :param epoch: Current epoch number.\n",
    "    :param base_lr: The minimum learning rate.\n",
    "    :param max_lr: The maximum learning rate.\n",
    "    :param step_size: The number of iterations in half a cycle.\n",
    "    :param mode: One of {‘triangular’, ‘triangular2’, ‘exp_range’}.\n",
    "    :return: The updated learning rate.\n",
    "    \"\"\"\n",
    "    cycle = math.floor(1 + epoch / (2 * step_size))\n",
    "    x = abs(epoch / step_size - 2 * cycle + 1)\n",
    "    \n",
    "    if mode == 'triangular':\n",
    "        lr = base_lr + (max_lr - base_lr) * max(0, (1 - x))\n",
    "    elif mode == 'triangular2':\n",
    "        lr = base_lr + (max_lr - base_lr) * max(0, (1 - x)) / float(2 ** (cycle - 1))\n",
    "    elif mode == 'exp_range':\n",
    "        gamma = 0.99994  # Can be tuned\n",
    "        lr = base_lr + (max_lr - base_lr) * max(0, (1 - x)) * (gamma**epoch)\n",
    "    return lr\n"
   ]
  },
  {
   "cell_type": "code",
   "execution_count": 12,
   "metadata": {},
   "outputs": [],
   "source": [
    "model_builder = ModelBuilder()\n",
    "# dynamic_exponent_callback = DynamicExponentCallback(2, 1, 100)\n",
    "# clr_callback = tf.keras.callbacks.LearningRateScheduler(cyclic_learning_rate)\n",
    "# model_builder.compile_model(loss_function=dynamic_exponent_callback.custom_loss(2))\n",
    "model_builder.compile_model(loss_function=tf.keras.losses.MeanSquaredError())\n",
    "\n",
    "\n",
    "\n"
   ]
  },
  {
   "cell_type": "code",
   "execution_count": 13,
   "metadata": {},
   "outputs": [
    {
     "name": "stdout",
     "output_type": "stream",
     "text": [
      "Epoch 1/108\n"
     ]
    },
    {
     "name": "stderr",
     "output_type": "stream",
     "text": [
      "WARNING: All log messages before absl::InitializeLog() is called are written to STDERR\n",
      "I0000 00:00:1726690353.711185 1758244 service.cc:146] XLA service 0x7f8c1400c760 initialized for platform CUDA (this does not guarantee that XLA will be used). Devices:\n",
      "I0000 00:00:1726690353.711247 1758244 service.cc:154]   StreamExecutor device (0): NVIDIA A100 80GB PCIe, Compute Capability 8.0\n",
      "2024-09-18 20:12:33.799127: I tensorflow/compiler/mlir/tensorflow/utils/dump_mlir_util.cc:268] disabling MLIR crash reproducer, set env var `MLIR_CRASH_REPRODUCER_DIRECTORY` to enable.\n",
      "2024-09-18 20:12:34.152962: I external/local_xla/xla/stream_executor/cuda/cuda_dnn.cc:531] Loaded cuDNN version 8907\n",
      "2024-09-18 20:12:40.374804: E external/local_xla/xla/service/slow_operation_alarm.cc:65] Trying algorithm eng0{} for conv (f32[400,512,16,16]{3,2,1,0}, u8[0]{0}) custom-call(f32[400,512,16,16]{3,2,1,0}, f32[512,512,3,3]{3,2,1,0}), window={size=3x3 pad=1_1x1_1}, dim_labels=bf01_oi01->bf01, custom_call_target=\"__cudnn$convBackwardInput\", backend_config={\"operation_queue_id\":\"0\",\"wait_on_operation_queues\":[],\"cudnn_conv_backend_config\":{\"conv_result_scale\":1,\"activation_mode\":\"kNone\",\"side_input_scale\":0,\"leakyrelu_alpha\":0},\"force_earliest_schedule\":false} is taking a while...\n",
      "2024-09-18 20:12:40.436407: E external/local_xla/xla/service/slow_operation_alarm.cc:133] The operation took 1.061755374s\n",
      "Trying algorithm eng0{} for conv (f32[400,512,16,16]{3,2,1,0}, u8[0]{0}) custom-call(f32[400,512,16,16]{3,2,1,0}, f32[512,512,3,3]{3,2,1,0}), window={size=3x3 pad=1_1x1_1}, dim_labels=bf01_oi01->bf01, custom_call_target=\"__cudnn$convBackwardInput\", backend_config={\"operation_queue_id\":\"0\",\"wait_on_operation_queues\":[],\"cudnn_conv_backend_config\":{\"conv_result_scale\":1,\"activation_mode\":\"kNone\",\"side_input_scale\":0,\"leakyrelu_alpha\":0},\"force_earliest_schedule\":false} is taking a while...\n",
      "2024-09-18 20:12:43.566966: E external/local_xla/xla/service/slow_operation_alarm.cc:65] Trying algorithm eng0{} for conv (f32[400,256,32,32]{3,2,1,0}, u8[0]{0}) custom-call(f32[400,512,32,32]{3,2,1,0}, f32[512,256,3,3]{3,2,1,0}), window={size=3x3 pad=1_1x1_1}, dim_labels=bf01_oi01->bf01, custom_call_target=\"__cudnn$convBackwardInput\", backend_config={\"operation_queue_id\":\"0\",\"wait_on_operation_queues\":[],\"cudnn_conv_backend_config\":{\"conv_result_scale\":1,\"activation_mode\":\"kNone\",\"side_input_scale\":0,\"leakyrelu_alpha\":0},\"force_earliest_schedule\":false} is taking a while...\n",
      "2024-09-18 20:12:44.681479: E external/local_xla/xla/service/slow_operation_alarm.cc:133] The operation took 2.114634309s\n",
      "Trying algorithm eng0{} for conv (f32[400,256,32,32]{3,2,1,0}, u8[0]{0}) custom-call(f32[400,512,32,32]{3,2,1,0}, f32[512,256,3,3]{3,2,1,0}), window={size=3x3 pad=1_1x1_1}, dim_labels=bf01_oi01->bf01, custom_call_target=\"__cudnn$convBackwardInput\", backend_config={\"operation_queue_id\":\"0\",\"wait_on_operation_queues\":[],\"cudnn_conv_backend_config\":{\"conv_result_scale\":1,\"activation_mode\":\"kNone\",\"side_input_scale\":0,\"leakyrelu_alpha\":0},\"force_earliest_schedule\":false} is taking a while...\n",
      "2024-09-18 20:12:47.666956: E external/local_xla/xla/service/slow_operation_alarm.cc:65] Trying algorithm eng0{} for conv (f32[400,256,32,32]{3,2,1,0}, u8[0]{0}) custom-call(f32[400,256,32,32]{3,2,1,0}, f32[256,256,3,3]{3,2,1,0}), window={size=3x3 pad=1_1x1_1}, dim_labels=bf01_oi01->bf01, custom_call_target=\"__cudnn$convBackwardInput\", backend_config={\"operation_queue_id\":\"0\",\"wait_on_operation_queues\":[],\"cudnn_conv_backend_config\":{\"conv_result_scale\":1,\"activation_mode\":\"kNone\",\"side_input_scale\":0,\"leakyrelu_alpha\":0},\"force_earliest_schedule\":false} is taking a while...\n",
      "2024-09-18 20:12:47.726411: E external/local_xla/xla/service/slow_operation_alarm.cc:133] The operation took 1.059564852s\n",
      "Trying algorithm eng0{} for conv (f32[400,256,32,32]{3,2,1,0}, u8[0]{0}) custom-call(f32[400,256,32,32]{3,2,1,0}, f32[256,256,3,3]{3,2,1,0}), window={size=3x3 pad=1_1x1_1}, dim_labels=bf01_oi01->bf01, custom_call_target=\"__cudnn$convBackwardInput\", backend_config={\"operation_queue_id\":\"0\",\"wait_on_operation_queues\":[],\"cudnn_conv_backend_config\":{\"conv_result_scale\":1,\"activation_mode\":\"kNone\",\"side_input_scale\":0,\"leakyrelu_alpha\":0},\"force_earliest_schedule\":false} is taking a while...\n",
      "2024-09-18 20:12:57.921930: E external/local_xla/xla/service/slow_operation_alarm.cc:65] Trying algorithm eng0{} for conv (f32[256,256,3,3]{3,2,1,0}, u8[0]{0}) custom-call(f32[400,256,32,32]{3,2,1,0}, f32[400,256,32,32]{3,2,1,0}), window={size=3x3 pad=1_1x1_1}, dim_labels=bf01_oi01->bf01, custom_call_target=\"__cudnn$convBackwardFilter\", backend_config={\"operation_queue_id\":\"0\",\"wait_on_operation_queues\":[],\"cudnn_conv_backend_config\":{\"conv_result_scale\":1,\"activation_mode\":\"kNone\",\"side_input_scale\":0,\"leakyrelu_alpha\":0},\"force_earliest_schedule\":false} is taking a while...\n",
      "2024-09-18 20:12:58.659268: E external/local_xla/xla/service/slow_operation_alarm.cc:133] The operation took 1.737437458s\n",
      "Trying algorithm eng0{} for conv (f32[256,256,3,3]{3,2,1,0}, u8[0]{0}) custom-call(f32[400,256,32,32]{3,2,1,0}, f32[400,256,32,32]{3,2,1,0}), window={size=3x3 pad=1_1x1_1}, dim_labels=bf01_oi01->bf01, custom_call_target=\"__cudnn$convBackwardFilter\", backend_config={\"operation_queue_id\":\"0\",\"wait_on_operation_queues\":[],\"cudnn_conv_backend_config\":{\"conv_result_scale\":1,\"activation_mode\":\"kNone\",\"side_input_scale\":0,\"leakyrelu_alpha\":0},\"force_earliest_schedule\":false} is taking a while...\n",
      "2024-09-18 20:13:03.201975: E external/local_xla/xla/service/slow_operation_alarm.cc:65] Trying algorithm eng0{} for conv (f32[512,256,3,3]{3,2,1,0}, u8[0]{0}) custom-call(f32[400,256,32,32]{3,2,1,0}, f32[400,512,32,32]{3,2,1,0}), window={size=3x3 pad=1_1x1_1}, dim_labels=bf01_oi01->bf01, custom_call_target=\"__cudnn$convBackwardFilter\", backend_config={\"operation_queue_id\":\"0\",\"wait_on_operation_queues\":[],\"cudnn_conv_backend_config\":{\"conv_result_scale\":1,\"activation_mode\":\"kNone\",\"side_input_scale\":0,\"leakyrelu_alpha\":0},\"force_earliest_schedule\":false} is taking a while...\n",
      "2024-09-18 20:13:05.693066: E external/local_xla/xla/service/slow_operation_alarm.cc:133] The operation took 3.49121173s\n",
      "Trying algorithm eng0{} for conv (f32[512,256,3,3]{3,2,1,0}, u8[0]{0}) custom-call(f32[400,256,32,32]{3,2,1,0}, f32[400,512,32,32]{3,2,1,0}), window={size=3x3 pad=1_1x1_1}, dim_labels=bf01_oi01->bf01, custom_call_target=\"__cudnn$convBackwardFilter\", backend_config={\"operation_queue_id\":\"0\",\"wait_on_operation_queues\":[],\"cudnn_conv_backend_config\":{\"conv_result_scale\":1,\"activation_mode\":\"kNone\",\"side_input_scale\":0,\"leakyrelu_alpha\":0},\"force_earliest_schedule\":false} is taking a while...\n",
      "2024-09-18 20:13:09.085420: E external/local_xla/xla/service/slow_operation_alarm.cc:65] Trying algorithm eng0{} for conv (f32[512,512,3,3]{3,2,1,0}, u8[0]{0}) custom-call(f32[400,512,16,16]{3,2,1,0}, f32[400,512,16,16]{3,2,1,0}), window={size=3x3 pad=1_1x1_1}, dim_labels=bf01_oi01->bf01, custom_call_target=\"__cudnn$convBackwardFilter\", backend_config={\"operation_queue_id\":\"0\",\"wait_on_operation_queues\":[],\"cudnn_conv_backend_config\":{\"conv_result_scale\":1,\"activation_mode\":\"kNone\",\"side_input_scale\":0,\"leakyrelu_alpha\":0},\"force_earliest_schedule\":false} is taking a while...\n",
      "2024-09-18 20:13:09.784637: E external/local_xla/xla/service/slow_operation_alarm.cc:133] The operation took 1.699333674s\n",
      "Trying algorithm eng0{} for conv (f32[512,512,3,3]{3,2,1,0}, u8[0]{0}) custom-call(f32[400,512,16,16]{3,2,1,0}, f32[400,512,16,16]{3,2,1,0}), window={size=3x3 pad=1_1x1_1}, dim_labels=bf01_oi01->bf01, custom_call_target=\"__cudnn$convBackwardFilter\", backend_config={\"operation_queue_id\":\"0\",\"wait_on_operation_queues\":[],\"cudnn_conv_backend_config\":{\"conv_result_scale\":1,\"activation_mode\":\"kNone\",\"side_input_scale\":0,\"leakyrelu_alpha\":0},\"force_earliest_schedule\":false} is taking a while...\n"
     ]
    },
    {
     "name": "stdout",
     "output_type": "stream",
     "text": [
      "\u001b[1m 1/20\u001b[0m \u001b[32m━\u001b[0m\u001b[37m━━━━━━━━━━━━━━━━━━━\u001b[0m \u001b[1m13:10\u001b[0m 42s/step - loss: 0.2210"
     ]
    },
    {
     "name": "stderr",
     "output_type": "stream",
     "text": [
      "I0000 00:00:1726690393.105571 1758244 device_compiler.h:188] Compiled cluster using XLA!  This line is logged at most once for the lifetime of the process.\n"
     ]
    },
    {
     "name": "stdout",
     "output_type": "stream",
     "text": [
      "\u001b[1m20/20\u001b[0m \u001b[32m━━━━━━━━━━━━━━━━━━━━\u001b[0m\u001b[37m\u001b[0m \u001b[1m49s\u001b[0m 367ms/step - loss: 0.1021 - val_loss: 0.0988 - learning_rate: 3.0000e-04\n",
      "Epoch 2/108\n",
      "\u001b[1m20/20\u001b[0m \u001b[32m━━━━━━━━━━━━━━━━━━━━\u001b[0m\u001b[37m\u001b[0m \u001b[1m2s\u001b[0m 109ms/step - loss: 0.0268 - val_loss: 0.0652 - learning_rate: 3.0000e-04\n",
      "Epoch 3/108\n",
      "\u001b[1m20/20\u001b[0m \u001b[32m━━━━━━━━━━━━━━━━━━━━\u001b[0m\u001b[37m\u001b[0m \u001b[1m2s\u001b[0m 108ms/step - loss: 0.0237 - val_loss: 0.0551 - learning_rate: 3.0000e-04\n",
      "Epoch 4/108\n",
      "\u001b[1m20/20\u001b[0m \u001b[32m━━━━━━━━━━━━━━━━━━━━\u001b[0m\u001b[37m\u001b[0m \u001b[1m2s\u001b[0m 108ms/step - loss: 0.0227 - val_loss: 0.0532 - learning_rate: 3.0000e-04\n",
      "Epoch 5/108\n",
      "\u001b[1m20/20\u001b[0m \u001b[32m━━━━━━━━━━━━━━━━━━━━\u001b[0m\u001b[37m\u001b[0m \u001b[1m2s\u001b[0m 109ms/step - loss: 0.0226 - val_loss: 0.0534 - learning_rate: 3.0000e-04\n",
      "Epoch 6/108\n",
      "\u001b[1m20/20\u001b[0m \u001b[32m━━━━━━━━━━━━━━━━━━━━\u001b[0m\u001b[37m\u001b[0m \u001b[1m2s\u001b[0m 109ms/step - loss: 0.0222 - val_loss: 0.0540 - learning_rate: 3.0000e-04\n",
      "Epoch 7/108\n",
      "\u001b[1m20/20\u001b[0m \u001b[32m━━━━━━━━━━━━━━━━━━━━\u001b[0m\u001b[37m\u001b[0m \u001b[1m2s\u001b[0m 109ms/step - loss: 0.0217 - val_loss: 0.0545 - learning_rate: 3.0000e-04\n",
      "Epoch 8/108\n",
      "\u001b[1m20/20\u001b[0m \u001b[32m━━━━━━━━━━━━━━━━━━━━\u001b[0m\u001b[37m\u001b[0m \u001b[1m2s\u001b[0m 109ms/step - loss: 0.0215 - val_loss: 0.0589 - learning_rate: 3.0000e-04\n",
      "Epoch 9/108\n",
      "\u001b[1m20/20\u001b[0m \u001b[32m━━━━━━━━━━━━━━━━━━━━\u001b[0m\u001b[37m\u001b[0m \u001b[1m2s\u001b[0m 109ms/step - loss: 0.0213 - val_loss: 0.0598 - learning_rate: 3.0000e-04\n",
      "Epoch 10/108\n",
      "\u001b[1m20/20\u001b[0m \u001b[32m━━━━━━━━━━━━━━━━━━━━\u001b[0m\u001b[37m\u001b[0m \u001b[1m2s\u001b[0m 109ms/step - loss: 0.0219 - val_loss: 0.0555 - learning_rate: 3.0000e-04\n",
      "Epoch 11/108\n",
      "\u001b[1m20/20\u001b[0m \u001b[32m━━━━━━━━━━━━━━━━━━━━\u001b[0m\u001b[37m\u001b[0m \u001b[1m2s\u001b[0m 110ms/step - loss: 0.0212 - val_loss: 0.0524 - learning_rate: 3.0000e-04\n",
      "Epoch 12/108\n",
      "\u001b[1m20/20\u001b[0m \u001b[32m━━━━━━━━━━━━━━━━━━━━\u001b[0m\u001b[37m\u001b[0m \u001b[1m2s\u001b[0m 109ms/step - loss: 0.0209 - val_loss: 0.0535 - learning_rate: 3.0000e-04\n",
      "Epoch 13/108\n",
      "\u001b[1m20/20\u001b[0m \u001b[32m━━━━━━━━━━━━━━━━━━━━\u001b[0m\u001b[37m\u001b[0m \u001b[1m2s\u001b[0m 109ms/step - loss: 0.0210 - val_loss: 0.0527 - learning_rate: 3.0000e-04\n",
      "Epoch 14/108\n",
      "\u001b[1m20/20\u001b[0m \u001b[32m━━━━━━━━━━━━━━━━━━━━\u001b[0m\u001b[37m\u001b[0m \u001b[1m2s\u001b[0m 109ms/step - loss: 0.0212 - val_loss: 0.0534 - learning_rate: 3.0000e-04\n",
      "Epoch 15/108\n",
      "\u001b[1m20/20\u001b[0m \u001b[32m━━━━━━━━━━━━━━━━━━━━\u001b[0m\u001b[37m\u001b[0m \u001b[1m2s\u001b[0m 109ms/step - loss: 0.0204 - val_loss: 0.0554 - learning_rate: 3.0000e-04\n",
      "Epoch 16/108\n",
      "\u001b[1m20/20\u001b[0m \u001b[32m━━━━━━━━━━━━━━━━━━━━\u001b[0m\u001b[37m\u001b[0m \u001b[1m2s\u001b[0m 109ms/step - loss: 0.0205 - val_loss: 0.0546 - learning_rate: 3.0000e-04\n",
      "Epoch 17/108\n",
      "\u001b[1m20/20\u001b[0m \u001b[32m━━━━━━━━━━━━━━━━━━━━\u001b[0m\u001b[37m\u001b[0m \u001b[1m2s\u001b[0m 110ms/step - loss: 0.0205 - val_loss: 0.0538 - learning_rate: 3.0000e-04\n",
      "Epoch 18/108\n",
      "\u001b[1m20/20\u001b[0m \u001b[32m━━━━━━━━━━━━━━━━━━━━\u001b[0m\u001b[37m\u001b[0m \u001b[1m2s\u001b[0m 110ms/step - loss: 0.0206 - val_loss: 0.0569 - learning_rate: 3.0000e-04\n",
      "Epoch 19/108\n",
      "\u001b[1m20/20\u001b[0m \u001b[32m━━━━━━━━━━━━━━━━━━━━\u001b[0m\u001b[37m\u001b[0m \u001b[1m0s\u001b[0m 100ms/step - loss: 0.0202\n",
      "Epoch 19: ReduceLROnPlateau reducing learning rate to 6.000000284984708e-05.\n",
      "\u001b[1m20/20\u001b[0m \u001b[32m━━━━━━━━━━━━━━━━━━━━\u001b[0m\u001b[37m\u001b[0m \u001b[1m2s\u001b[0m 110ms/step - loss: 0.0202 - val_loss: 0.0537 - learning_rate: 3.0000e-04\n",
      "Epoch 20/108\n",
      "\u001b[1m20/20\u001b[0m \u001b[32m━━━━━━━━━━━━━━━━━━━━\u001b[0m\u001b[37m\u001b[0m \u001b[1m2s\u001b[0m 110ms/step - loss: 0.0201 - val_loss: 0.0593 - learning_rate: 6.0000e-05\n",
      "Epoch 21/108\n",
      "\u001b[1m20/20\u001b[0m \u001b[32m━━━━━━━━━━━━━━━━━━━━\u001b[0m\u001b[37m\u001b[0m \u001b[1m2s\u001b[0m 109ms/step - loss: 0.0196 - val_loss: 0.0665 - learning_rate: 6.0000e-05\n",
      "Epoch 22/108\n",
      "\u001b[1m20/20\u001b[0m \u001b[32m━━━━━━━━━━━━━━━━━━━━\u001b[0m\u001b[37m\u001b[0m \u001b[1m2s\u001b[0m 109ms/step - loss: 0.0198 - val_loss: 0.0685 - learning_rate: 6.0000e-05\n",
      "Epoch 23/108\n",
      "\u001b[1m20/20\u001b[0m \u001b[32m━━━━━━━━━━━━━━━━━━━━\u001b[0m\u001b[37m\u001b[0m \u001b[1m2s\u001b[0m 109ms/step - loss: 0.0198 - val_loss: 0.0741 - learning_rate: 6.0000e-05\n",
      "Epoch 24/108\n",
      "\u001b[1m20/20\u001b[0m \u001b[32m━━━━━━━━━━━━━━━━━━━━\u001b[0m\u001b[37m\u001b[0m \u001b[1m2s\u001b[0m 109ms/step - loss: 0.0198 - val_loss: 0.0722 - learning_rate: 6.0000e-05\n",
      "Epoch 25/108\n",
      "\u001b[1m20/20\u001b[0m \u001b[32m━━━━━━━━━━━━━━━━━━━━\u001b[0m\u001b[37m\u001b[0m \u001b[1m2s\u001b[0m 110ms/step - loss: 0.0195 - val_loss: 0.0784 - learning_rate: 6.0000e-05\n",
      "Epoch 26/108\n",
      "\u001b[1m20/20\u001b[0m \u001b[32m━━━━━━━━━━━━━━━━━━━━\u001b[0m\u001b[37m\u001b[0m \u001b[1m2s\u001b[0m 110ms/step - loss: 0.0195 - val_loss: 0.0825 - learning_rate: 6.0000e-05\n",
      "Epoch 27/108\n",
      "\u001b[1m20/20\u001b[0m \u001b[32m━━━━━━━━━━━━━━━━━━━━\u001b[0m\u001b[37m\u001b[0m \u001b[1m0s\u001b[0m 101ms/step - loss: 0.0195\n",
      "Epoch 27: ReduceLROnPlateau reducing learning rate to 1.2000000424450263e-05.\n",
      "\u001b[1m20/20\u001b[0m \u001b[32m━━━━━━━━━━━━━━━━━━━━\u001b[0m\u001b[37m\u001b[0m \u001b[1m2s\u001b[0m 110ms/step - loss: 0.0196 - val_loss: 0.0790 - learning_rate: 6.0000e-05\n",
      "Epoch 28/108\n",
      "\u001b[1m20/20\u001b[0m \u001b[32m━━━━━━━━━━━━━━━━━━━━\u001b[0m\u001b[37m\u001b[0m \u001b[1m2s\u001b[0m 110ms/step - loss: 0.0197 - val_loss: 0.0807 - learning_rate: 1.2000e-05\n",
      "Epoch 29/108\n",
      "\u001b[1m20/20\u001b[0m \u001b[32m━━━━━━━━━━━━━━━━━━━━\u001b[0m\u001b[37m\u001b[0m \u001b[1m2s\u001b[0m 110ms/step - loss: 0.0197 - val_loss: 0.0833 - learning_rate: 1.2000e-05\n",
      "Epoch 30/108\n",
      "\u001b[1m20/20\u001b[0m \u001b[32m━━━━━━━━━━━━━━━━━━━━\u001b[0m\u001b[37m\u001b[0m \u001b[1m2s\u001b[0m 110ms/step - loss: 0.0196 - val_loss: 0.0865 - learning_rate: 1.2000e-05\n",
      "Epoch 31/108\n",
      "\u001b[1m20/20\u001b[0m \u001b[32m━━━━━━━━━━━━━━━━━━━━\u001b[0m\u001b[37m\u001b[0m \u001b[1m2s\u001b[0m 110ms/step - loss: 0.0198 - val_loss: 0.0840 - learning_rate: 1.2000e-05\n",
      "Epoch 32/108\n",
      "\u001b[1m20/20\u001b[0m \u001b[32m━━━━━━━━━━━━━━━━━━━━\u001b[0m\u001b[37m\u001b[0m \u001b[1m2s\u001b[0m 110ms/step - loss: 0.0196 - val_loss: 0.0834 - learning_rate: 1.2000e-05\n",
      "Epoch 33/108\n",
      "\u001b[1m20/20\u001b[0m \u001b[32m━━━━━━━━━━━━━━━━━━━━\u001b[0m\u001b[37m\u001b[0m \u001b[1m2s\u001b[0m 110ms/step - loss: 0.0196 - val_loss: 0.0828 - learning_rate: 1.2000e-05\n",
      "Epoch 34/108\n",
      "\u001b[1m20/20\u001b[0m \u001b[32m━━━━━━━━━━━━━━━━━━━━\u001b[0m\u001b[37m\u001b[0m \u001b[1m2s\u001b[0m 110ms/step - loss: 0.0197 - val_loss: 0.0808 - learning_rate: 1.2000e-05\n",
      "Epoch 35/108\n",
      "\u001b[1m20/20\u001b[0m \u001b[32m━━━━━━━━━━━━━━━━━━━━\u001b[0m\u001b[37m\u001b[0m \u001b[1m0s\u001b[0m 100ms/step - loss: 0.0195\n",
      "Epoch 35: ReduceLROnPlateau reducing learning rate to 2.4000000848900527e-06.\n",
      "\u001b[1m20/20\u001b[0m \u001b[32m━━━━━━━━━━━━━━━━━━━━\u001b[0m\u001b[37m\u001b[0m \u001b[1m2s\u001b[0m 109ms/step - loss: 0.0195 - val_loss: 0.0808 - learning_rate: 1.2000e-05\n",
      "Epoch 36/108\n",
      "\u001b[1m20/20\u001b[0m \u001b[32m━━━━━━━━━━━━━━━━━━━━\u001b[0m\u001b[37m\u001b[0m \u001b[1m2s\u001b[0m 110ms/step - loss: 0.0198 - val_loss: 0.0766 - learning_rate: 2.4000e-06\n",
      "Epoch 37/108\n",
      "\u001b[1m20/20\u001b[0m \u001b[32m━━━━━━━━━━━━━━━━━━━━\u001b[0m\u001b[37m\u001b[0m \u001b[1m2s\u001b[0m 110ms/step - loss: 0.0196 - val_loss: 0.0698 - learning_rate: 2.4000e-06\n",
      "Epoch 38/108\n",
      "\u001b[1m20/20\u001b[0m \u001b[32m━━━━━━━━━━━━━━━━━━━━\u001b[0m\u001b[37m\u001b[0m \u001b[1m2s\u001b[0m 110ms/step - loss: 0.0195 - val_loss: 0.0641 - learning_rate: 2.4000e-06\n",
      "Epoch 39/108\n",
      "\u001b[1m20/20\u001b[0m \u001b[32m━━━━━━━━━━━━━━━━━━━━\u001b[0m\u001b[37m\u001b[0m \u001b[1m2s\u001b[0m 110ms/step - loss: 0.0196 - val_loss: 0.0567 - learning_rate: 2.4000e-06\n",
      "Epoch 40/108\n",
      "\u001b[1m20/20\u001b[0m \u001b[32m━━━━━━━━━━━━━━━━━━━━\u001b[0m\u001b[37m\u001b[0m \u001b[1m2s\u001b[0m 110ms/step - loss: 0.0194 - val_loss: 0.0494 - learning_rate: 2.4000e-06\n",
      "Epoch 41/108\n",
      "\u001b[1m20/20\u001b[0m \u001b[32m━━━━━━━━━━━━━━━━━━━━\u001b[0m\u001b[37m\u001b[0m \u001b[1m2s\u001b[0m 109ms/step - loss: 0.0196 - val_loss: 0.0432 - learning_rate: 2.4000e-06\n",
      "Epoch 42/108\n",
      "\u001b[1m20/20\u001b[0m \u001b[32m━━━━━━━━━━━━━━━━━━━━\u001b[0m\u001b[37m\u001b[0m \u001b[1m2s\u001b[0m 110ms/step - loss: 0.0196 - val_loss: 0.0379 - learning_rate: 2.4000e-06\n",
      "Epoch 43/108\n",
      "\u001b[1m20/20\u001b[0m \u001b[32m━━━━━━━━━━━━━━━━━━━━\u001b[0m\u001b[37m\u001b[0m \u001b[1m2s\u001b[0m 110ms/step - loss: 0.0194 - val_loss: 0.0336 - learning_rate: 2.4000e-06\n",
      "Epoch 44/108\n",
      "\u001b[1m20/20\u001b[0m \u001b[32m━━━━━━━━━━━━━━━━━━━━\u001b[0m\u001b[37m\u001b[0m \u001b[1m2s\u001b[0m 110ms/step - loss: 0.0196 - val_loss: 0.0302 - learning_rate: 2.4000e-06\n",
      "Epoch 45/108\n",
      "\u001b[1m20/20\u001b[0m \u001b[32m━━━━━━━━━━━━━━━━━━━━\u001b[0m\u001b[37m\u001b[0m \u001b[1m2s\u001b[0m 110ms/step - loss: 0.0195 - val_loss: 0.0277 - learning_rate: 2.4000e-06\n",
      "Epoch 46/108\n",
      "\u001b[1m20/20\u001b[0m \u001b[32m━━━━━━━━━━━━━━━━━━━━\u001b[0m\u001b[37m\u001b[0m \u001b[1m2s\u001b[0m 110ms/step - loss: 0.0196 - val_loss: 0.0258 - learning_rate: 2.4000e-06\n",
      "Epoch 47/108\n",
      "\u001b[1m20/20\u001b[0m \u001b[32m━━━━━━━━━━━━━━━━━━━━\u001b[0m\u001b[37m\u001b[0m \u001b[1m2s\u001b[0m 110ms/step - loss: 0.0195 - val_loss: 0.0241 - learning_rate: 2.4000e-06\n",
      "Epoch 48/108\n",
      "\u001b[1m20/20\u001b[0m \u001b[32m━━━━━━━━━━━━━━━━━━━━\u001b[0m\u001b[37m\u001b[0m \u001b[1m2s\u001b[0m 109ms/step - loss: 0.0193 - val_loss: 0.0225 - learning_rate: 2.4000e-06\n",
      "Epoch 49/108\n",
      "\u001b[1m20/20\u001b[0m \u001b[32m━━━━━━━━━━━━━━━━━━━━\u001b[0m\u001b[37m\u001b[0m \u001b[1m2s\u001b[0m 110ms/step - loss: 0.0197 - val_loss: 0.0217 - learning_rate: 2.4000e-06\n",
      "Epoch 50/108\n",
      "\u001b[1m20/20\u001b[0m \u001b[32m━━━━━━━━━━━━━━━━━━━━\u001b[0m\u001b[37m\u001b[0m \u001b[1m2s\u001b[0m 110ms/step - loss: 0.0195 - val_loss: 0.0211 - learning_rate: 2.4000e-06\n",
      "Epoch 51/108\n",
      "\u001b[1m20/20\u001b[0m \u001b[32m━━━━━━━━━━━━━━━━━━━━\u001b[0m\u001b[37m\u001b[0m \u001b[1m2s\u001b[0m 110ms/step - loss: 0.0197 - val_loss: 0.0208 - learning_rate: 2.4000e-06\n",
      "Epoch 52/108\n",
      "\u001b[1m20/20\u001b[0m \u001b[32m━━━━━━━━━━━━━━━━━━━━\u001b[0m\u001b[37m\u001b[0m \u001b[1m2s\u001b[0m 110ms/step - loss: 0.0196 - val_loss: 0.0204 - learning_rate: 2.4000e-06\n",
      "Epoch 53/108\n",
      "\u001b[1m20/20\u001b[0m \u001b[32m━━━━━━━━━━━━━━━━━━━━\u001b[0m\u001b[37m\u001b[0m \u001b[1m2s\u001b[0m 110ms/step - loss: 0.0195 - val_loss: 0.0200 - learning_rate: 2.4000e-06\n",
      "Epoch 54/108\n",
      "\u001b[1m20/20\u001b[0m \u001b[32m━━━━━━━━━━━━━━━━━━━━\u001b[0m\u001b[37m\u001b[0m \u001b[1m2s\u001b[0m 110ms/step - loss: 0.0198 - val_loss: 0.0200 - learning_rate: 2.4000e-06\n",
      "Epoch 55/108\n",
      "\u001b[1m20/20\u001b[0m \u001b[32m━━━━━━━━━━━━━━━━━━━━\u001b[0m\u001b[37m\u001b[0m \u001b[1m2s\u001b[0m 110ms/step - loss: 0.0197 - val_loss: 0.0199 - learning_rate: 2.4000e-06\n",
      "Epoch 56/108\n",
      "\u001b[1m20/20\u001b[0m \u001b[32m━━━━━━━━━━━━━━━━━━━━\u001b[0m\u001b[37m\u001b[0m \u001b[1m2s\u001b[0m 110ms/step - loss: 0.0194 - val_loss: 0.0198 - learning_rate: 2.4000e-06\n",
      "Epoch 57/108\n",
      "\u001b[1m20/20\u001b[0m \u001b[32m━━━━━━━━━━━━━━━━━━━━\u001b[0m\u001b[37m\u001b[0m \u001b[1m2s\u001b[0m 110ms/step - loss: 0.0195 - val_loss: 0.0198 - learning_rate: 2.4000e-06\n",
      "Epoch 58/108\n",
      "\u001b[1m20/20\u001b[0m \u001b[32m━━━━━━━━━━━━━━━━━━━━\u001b[0m\u001b[37m\u001b[0m \u001b[1m2s\u001b[0m 110ms/step - loss: 0.0196 - val_loss: 0.0198 - learning_rate: 2.4000e-06\n",
      "Epoch 59/108\n",
      "\u001b[1m20/20\u001b[0m \u001b[32m━━━━━━━━━━━━━━━━━━━━\u001b[0m\u001b[37m\u001b[0m \u001b[1m2s\u001b[0m 110ms/step - loss: 0.0198 - val_loss: 0.0197 - learning_rate: 2.4000e-06\n",
      "Epoch 60/108\n",
      "\u001b[1m20/20\u001b[0m \u001b[32m━━━━━━━━━━━━━━━━━━━━\u001b[0m\u001b[37m\u001b[0m \u001b[1m2s\u001b[0m 110ms/step - loss: 0.0193 - val_loss: 0.0197 - learning_rate: 2.4000e-06\n",
      "Epoch 61/108\n",
      "\u001b[1m20/20\u001b[0m \u001b[32m━━━━━━━━━━━━━━━━━━━━\u001b[0m\u001b[37m\u001b[0m \u001b[1m2s\u001b[0m 110ms/step - loss: 0.0195 - val_loss: 0.0196 - learning_rate: 2.4000e-06\n",
      "Epoch 62/108\n",
      "\u001b[1m20/20\u001b[0m \u001b[32m━━━━━━━━━━━━━━━━━━━━\u001b[0m\u001b[37m\u001b[0m \u001b[1m2s\u001b[0m 110ms/step - loss: 0.0194 - val_loss: 0.0196 - learning_rate: 2.4000e-06\n",
      "Epoch 63/108\n",
      "\u001b[1m20/20\u001b[0m \u001b[32m━━━━━━━━━━━━━━━━━━━━\u001b[0m\u001b[37m\u001b[0m \u001b[1m2s\u001b[0m 110ms/step - loss: 0.0194 - val_loss: 0.0196 - learning_rate: 2.4000e-06\n",
      "Epoch 64/108\n",
      "\u001b[1m20/20\u001b[0m \u001b[32m━━━━━━━━━━━━━━━━━━━━\u001b[0m\u001b[37m\u001b[0m \u001b[1m2s\u001b[0m 110ms/step - loss: 0.0198 - val_loss: 0.0196 - learning_rate: 2.4000e-06\n",
      "Epoch 65/108\n",
      "\u001b[1m20/20\u001b[0m \u001b[32m━━━━━━━━━━━━━━━━━━━━\u001b[0m\u001b[37m\u001b[0m \u001b[1m2s\u001b[0m 110ms/step - loss: 0.0195 - val_loss: 0.0196 - learning_rate: 2.4000e-06\n",
      "Epoch 66/108\n",
      "\u001b[1m20/20\u001b[0m \u001b[32m━━━━━━━━━━━━━━━━━━━━\u001b[0m\u001b[37m\u001b[0m \u001b[1m2s\u001b[0m 110ms/step - loss: 0.0195 - val_loss: 0.0196 - learning_rate: 2.4000e-06\n",
      "Epoch 67/108\n",
      "\u001b[1m20/20\u001b[0m \u001b[32m━━━━━━━━━━━━━━━━━━━━\u001b[0m\u001b[37m\u001b[0m \u001b[1m2s\u001b[0m 110ms/step - loss: 0.0194 - val_loss: 0.0196 - learning_rate: 2.4000e-06\n",
      "Epoch 68/108\n",
      "\u001b[1m20/20\u001b[0m \u001b[32m━━━━━━━━━━━━━━━━━━━━\u001b[0m\u001b[37m\u001b[0m \u001b[1m2s\u001b[0m 110ms/step - loss: 0.0194 - val_loss: 0.0196 - learning_rate: 2.4000e-06\n",
      "Epoch 69/108\n",
      "\u001b[1m20/20\u001b[0m \u001b[32m━━━━━━━━━━━━━━━━━━━━\u001b[0m\u001b[37m\u001b[0m \u001b[1m0s\u001b[0m 101ms/step - loss: 0.0196\n",
      "Epoch 69: ReduceLROnPlateau reducing learning rate to 4.800000169780105e-07.\n",
      "\u001b[1m20/20\u001b[0m \u001b[32m━━━━━━━━━━━━━━━━━━━━\u001b[0m\u001b[37m\u001b[0m \u001b[1m2s\u001b[0m 110ms/step - loss: 0.0196 - val_loss: 0.0196 - learning_rate: 2.4000e-06\n",
      "Epoch 70/108\n",
      "\u001b[1m20/20\u001b[0m \u001b[32m━━━━━━━━━━━━━━━━━━━━\u001b[0m\u001b[37m\u001b[0m \u001b[1m2s\u001b[0m 110ms/step - loss: 0.0194 - val_loss: 0.0196 - learning_rate: 4.8000e-07\n",
      "Epoch 71/108\n",
      "\u001b[1m20/20\u001b[0m \u001b[32m━━━━━━━━━━━━━━━━━━━━\u001b[0m\u001b[37m\u001b[0m \u001b[1m2s\u001b[0m 110ms/step - loss: 0.0195 - val_loss: 0.0196 - learning_rate: 4.8000e-07\n",
      "Epoch 72/108\n",
      "\u001b[1m20/20\u001b[0m \u001b[32m━━━━━━━━━━━━━━━━━━━━\u001b[0m\u001b[37m\u001b[0m \u001b[1m2s\u001b[0m 110ms/step - loss: 0.0194 - val_loss: 0.0196 - learning_rate: 4.8000e-07\n",
      "Epoch 73/108\n",
      "\u001b[1m20/20\u001b[0m \u001b[32m━━━━━━━━━━━━━━━━━━━━\u001b[0m\u001b[37m\u001b[0m \u001b[1m2s\u001b[0m 110ms/step - loss: 0.0197 - val_loss: 0.0196 - learning_rate: 4.8000e-07\n",
      "Epoch 74/108\n",
      "\u001b[1m20/20\u001b[0m \u001b[32m━━━━━━━━━━━━━━━━━━━━\u001b[0m\u001b[37m\u001b[0m \u001b[1m2s\u001b[0m 110ms/step - loss: 0.0195 - val_loss: 0.0195 - learning_rate: 4.8000e-07\n",
      "Epoch 75/108\n",
      "\u001b[1m20/20\u001b[0m \u001b[32m━━━━━━━━━━━━━━━━━━━━\u001b[0m\u001b[37m\u001b[0m \u001b[1m2s\u001b[0m 110ms/step - loss: 0.0195 - val_loss: 0.0195 - learning_rate: 4.8000e-07\n",
      "Epoch 76/108\n",
      "\u001b[1m20/20\u001b[0m \u001b[32m━━━━━━━━━━━━━━━━━━━━\u001b[0m\u001b[37m\u001b[0m \u001b[1m2s\u001b[0m 110ms/step - loss: 0.0195 - val_loss: 0.0195 - learning_rate: 4.8000e-07\n",
      "Epoch 77/108\n",
      "\u001b[1m20/20\u001b[0m \u001b[32m━━━━━━━━━━━━━━━━━━━━\u001b[0m\u001b[37m\u001b[0m \u001b[1m0s\u001b[0m 101ms/step - loss: 0.0196\n",
      "Epoch 77: ReduceLROnPlateau reducing learning rate to 9.600000794307562e-08.\n",
      "\u001b[1m20/20\u001b[0m \u001b[32m━━━━━━━━━━━━━━━━━━━━\u001b[0m\u001b[37m\u001b[0m \u001b[1m2s\u001b[0m 111ms/step - loss: 0.0196 - val_loss: 0.0195 - learning_rate: 4.8000e-07\n",
      "Epoch 78/108\n",
      "\u001b[1m20/20\u001b[0m \u001b[32m━━━━━━━━━━━━━━━━━━━━\u001b[0m\u001b[37m\u001b[0m \u001b[1m2s\u001b[0m 110ms/step - loss: 0.0194 - val_loss: 0.0195 - learning_rate: 9.6000e-08\n",
      "Epoch 79/108\n",
      "\u001b[1m20/20\u001b[0m \u001b[32m━━━━━━━━━━━━━━━━━━━━\u001b[0m\u001b[37m\u001b[0m \u001b[1m2s\u001b[0m 111ms/step - loss: 0.0195 - val_loss: 0.0195 - learning_rate: 9.6000e-08\n",
      "Epoch 80/108\n",
      "\u001b[1m20/20\u001b[0m \u001b[32m━━━━━━━━━━━━━━━━━━━━\u001b[0m\u001b[37m\u001b[0m \u001b[1m2s\u001b[0m 110ms/step - loss: 0.0198 - val_loss: 0.0195 - learning_rate: 9.6000e-08\n",
      "Epoch 81/108\n",
      "\u001b[1m20/20\u001b[0m \u001b[32m━━━━━━━━━━━━━━━━━━━━\u001b[0m\u001b[37m\u001b[0m \u001b[1m2s\u001b[0m 111ms/step - loss: 0.0197 - val_loss: 0.0195 - learning_rate: 9.6000e-08\n",
      "Epoch 82/108\n",
      "\u001b[1m20/20\u001b[0m \u001b[32m━━━━━━━━━━━━━━━━━━━━\u001b[0m\u001b[37m\u001b[0m \u001b[1m2s\u001b[0m 111ms/step - loss: 0.0196 - val_loss: 0.0195 - learning_rate: 9.6000e-08\n",
      "Epoch 83/108\n",
      "\u001b[1m20/20\u001b[0m \u001b[32m━━━━━━━━━━━━━━━━━━━━\u001b[0m\u001b[37m\u001b[0m \u001b[1m2s\u001b[0m 110ms/step - loss: 0.0195 - val_loss: 0.0195 - learning_rate: 9.6000e-08\n",
      "Epoch 84/108\n",
      "\u001b[1m20/20\u001b[0m \u001b[32m━━━━━━━━━━━━━━━━━━━━\u001b[0m\u001b[37m\u001b[0m \u001b[1m2s\u001b[0m 110ms/step - loss: 0.0196 - val_loss: 0.0195 - learning_rate: 9.6000e-08\n",
      "Epoch 85/108\n",
      "\u001b[1m20/20\u001b[0m \u001b[32m━━━━━━━━━━━━━━━━━━━━\u001b[0m\u001b[37m\u001b[0m \u001b[1m0s\u001b[0m 101ms/step - loss: 0.0193\n",
      "Epoch 85: ReduceLROnPlateau reducing learning rate to 1.9200001588615123e-08.\n",
      "\u001b[1m20/20\u001b[0m \u001b[32m━━━━━━━━━━━━━━━━━━━━\u001b[0m\u001b[37m\u001b[0m \u001b[1m2s\u001b[0m 111ms/step - loss: 0.0193 - val_loss: 0.0195 - learning_rate: 9.6000e-08\n",
      "Epoch 86/108\n",
      "\u001b[1m20/20\u001b[0m \u001b[32m━━━━━━━━━━━━━━━━━━━━\u001b[0m\u001b[37m\u001b[0m \u001b[1m2s\u001b[0m 110ms/step - loss: 0.0197 - val_loss: 0.0195 - learning_rate: 1.9200e-08\n",
      "Epoch 87/108\n",
      "\u001b[1m20/20\u001b[0m \u001b[32m━━━━━━━━━━━━━━━━━━━━\u001b[0m\u001b[37m\u001b[0m \u001b[1m2s\u001b[0m 110ms/step - loss: 0.0198 - val_loss: 0.0195 - learning_rate: 1.9200e-08\n",
      "Epoch 88/108\n",
      "\u001b[1m20/20\u001b[0m \u001b[32m━━━━━━━━━━━━━━━━━━━━\u001b[0m\u001b[37m\u001b[0m \u001b[1m2s\u001b[0m 110ms/step - loss: 0.0196 - val_loss: 0.0195 - learning_rate: 1.9200e-08\n",
      "Epoch 89/108\n",
      "\u001b[1m20/20\u001b[0m \u001b[32m━━━━━━━━━━━━━━━━━━━━\u001b[0m\u001b[37m\u001b[0m \u001b[1m2s\u001b[0m 110ms/step - loss: 0.0195 - val_loss: 0.0195 - learning_rate: 1.9200e-08\n",
      "Epoch 90/108\n",
      "\u001b[1m20/20\u001b[0m \u001b[32m━━━━━━━━━━━━━━━━━━━━\u001b[0m\u001b[37m\u001b[0m \u001b[1m2s\u001b[0m 110ms/step - loss: 0.0197 - val_loss: 0.0195 - learning_rate: 1.9200e-08\n",
      "Epoch 91/108\n",
      "\u001b[1m20/20\u001b[0m \u001b[32m━━━━━━━━━━━━━━━━━━━━\u001b[0m\u001b[37m\u001b[0m \u001b[1m2s\u001b[0m 110ms/step - loss: 0.0194 - val_loss: 0.0195 - learning_rate: 1.9200e-08\n",
      "Epoch 92/108\n",
      "\u001b[1m20/20\u001b[0m \u001b[32m━━━━━━━━━━━━━━━━━━━━\u001b[0m\u001b[37m\u001b[0m \u001b[1m2s\u001b[0m 110ms/step - loss: 0.0196 - val_loss: 0.0195 - learning_rate: 1.9200e-08\n",
      "Epoch 93/108\n",
      "\u001b[1m20/20\u001b[0m \u001b[32m━━━━━━━━━━━━━━━━━━━━\u001b[0m\u001b[37m\u001b[0m \u001b[1m0s\u001b[0m 101ms/step - loss: 0.0194\n",
      "Epoch 93: ReduceLROnPlateau reducing learning rate to 3.840000317723025e-09.\n",
      "\u001b[1m20/20\u001b[0m \u001b[32m━━━━━━━━━━━━━━━━━━━━\u001b[0m\u001b[37m\u001b[0m \u001b[1m2s\u001b[0m 111ms/step - loss: 0.0194 - val_loss: 0.0195 - learning_rate: 1.9200e-08\n",
      "Epoch 94/108\n",
      "\u001b[1m20/20\u001b[0m \u001b[32m━━━━━━━━━━━━━━━━━━━━\u001b[0m\u001b[37m\u001b[0m \u001b[1m2s\u001b[0m 110ms/step - loss: 0.0195 - val_loss: 0.0195 - learning_rate: 3.8400e-09\n",
      "Epoch 95/108\n",
      "\u001b[1m20/20\u001b[0m \u001b[32m━━━━━━━━━━━━━━━━━━━━\u001b[0m\u001b[37m\u001b[0m \u001b[1m2s\u001b[0m 110ms/step - loss: 0.0194 - val_loss: 0.0195 - learning_rate: 3.8400e-09\n",
      "Epoch 96/108\n",
      "\u001b[1m20/20\u001b[0m \u001b[32m━━━━━━━━━━━━━━━━━━━━\u001b[0m\u001b[37m\u001b[0m \u001b[1m2s\u001b[0m 110ms/step - loss: 0.0195 - val_loss: 0.0195 - learning_rate: 3.8400e-09\n",
      "Epoch 97/108\n",
      "\u001b[1m20/20\u001b[0m \u001b[32m━━━━━━━━━━━━━━━━━━━━\u001b[0m\u001b[37m\u001b[0m \u001b[1m2s\u001b[0m 110ms/step - loss: 0.0194 - val_loss: 0.0195 - learning_rate: 3.8400e-09\n",
      "Epoch 98/108\n",
      "\u001b[1m20/20\u001b[0m \u001b[32m━━━━━━━━━━━━━━━━━━━━\u001b[0m\u001b[37m\u001b[0m \u001b[1m2s\u001b[0m 110ms/step - loss: 0.0193 - val_loss: 0.0195 - learning_rate: 3.8400e-09\n",
      "Epoch 99/108\n",
      "\u001b[1m20/20\u001b[0m \u001b[32m━━━━━━━━━━━━━━━━━━━━\u001b[0m\u001b[37m\u001b[0m \u001b[1m2s\u001b[0m 110ms/step - loss: 0.0197 - val_loss: 0.0195 - learning_rate: 3.8400e-09\n",
      "Epoch 100/108\n",
      "\u001b[1m20/20\u001b[0m \u001b[32m━━━━━━━━━━━━━━━━━━━━\u001b[0m\u001b[37m\u001b[0m \u001b[1m2s\u001b[0m 110ms/step - loss: 0.0197 - val_loss: 0.0195 - learning_rate: 3.8400e-09\n",
      "Epoch 101/108\n",
      "\u001b[1m20/20\u001b[0m \u001b[32m━━━━━━━━━━━━━━━━━━━━\u001b[0m\u001b[37m\u001b[0m \u001b[1m0s\u001b[0m 101ms/step - loss: 0.0197\n",
      "Epoch 101: ReduceLROnPlateau reducing learning rate to 7.68000063544605e-10.\n",
      "\u001b[1m20/20\u001b[0m \u001b[32m━━━━━━━━━━━━━━━━━━━━\u001b[0m\u001b[37m\u001b[0m \u001b[1m2s\u001b[0m 110ms/step - loss: 0.0197 - val_loss: 0.0195 - learning_rate: 3.8400e-09\n",
      "Epoch 102/108\n",
      "\u001b[1m20/20\u001b[0m \u001b[32m━━━━━━━━━━━━━━━━━━━━\u001b[0m\u001b[37m\u001b[0m \u001b[1m2s\u001b[0m 110ms/step - loss: 0.0196 - val_loss: 0.0195 - learning_rate: 7.6800e-10\n",
      "Epoch 103/108\n",
      "\u001b[1m20/20\u001b[0m \u001b[32m━━━━━━━━━━━━━━━━━━━━\u001b[0m\u001b[37m\u001b[0m \u001b[1m2s\u001b[0m 111ms/step - loss: 0.0198 - val_loss: 0.0195 - learning_rate: 7.6800e-10\n",
      "Epoch 104/108\n",
      "\u001b[1m20/20\u001b[0m \u001b[32m━━━━━━━━━━━━━━━━━━━━\u001b[0m\u001b[37m\u001b[0m \u001b[1m2s\u001b[0m 110ms/step - loss: 0.0193 - val_loss: 0.0195 - learning_rate: 7.6800e-10\n",
      "Epoch 105/108\n",
      "\u001b[1m20/20\u001b[0m \u001b[32m━━━━━━━━━━━━━━━━━━━━\u001b[0m\u001b[37m\u001b[0m \u001b[1m2s\u001b[0m 111ms/step - loss: 0.0195 - val_loss: 0.0195 - learning_rate: 7.6800e-10\n",
      "Epoch 106/108\n",
      "\u001b[1m20/20\u001b[0m \u001b[32m━━━━━━━━━━━━━━━━━━━━\u001b[0m\u001b[37m\u001b[0m \u001b[1m2s\u001b[0m 110ms/step - loss: 0.0198 - val_loss: 0.0195 - learning_rate: 7.6800e-10\n",
      "Epoch 107/108\n",
      "\u001b[1m20/20\u001b[0m \u001b[32m━━━━━━━━━━━━━━━━━━━━\u001b[0m\u001b[37m\u001b[0m \u001b[1m2s\u001b[0m 110ms/step - loss: 0.0194 - val_loss: 0.0195 - learning_rate: 7.6800e-10\n",
      "Epoch 108/108\n",
      "\u001b[1m20/20\u001b[0m \u001b[32m━━━━━━━━━━━━━━━━━━━━\u001b[0m\u001b[37m\u001b[0m \u001b[1m2s\u001b[0m 110ms/step - loss: 0.0194 - val_loss: 0.0195 - learning_rate: 7.6800e-10\n"
     ]
    }
   ],
   "source": [
    "\n",
    "history = model_builder.train_model(train_dataset, val_dataset, epochs=108,callbacks_list=[lr_scheduler])\n"
   ]
  },
  {
   "cell_type": "code",
   "execution_count": 14,
   "metadata": {},
   "outputs": [
    {
     "data": {
      "image/png": "[encoded data removed]",
      "text/plain": [
       "<Figure size 1200x600 with 1 Axes>"
      ]
     },
     "metadata": {},
     "output_type": "display_data"
    }
   ],
   "source": [
    "\n",
    "\n",
    "# Extract the losses from the history object\n",
    "train_loss = history.history['loss']\n",
    "val_loss = history.history['val_loss']\n",
    "\n",
    "\n",
    "train_loss_x_midpoints = history.history.get('x_midpoints_reshape_loss', train_loss)\n",
    "val_loss_x_midpoints = history.history.get('val_x_midpoints_reshape_loss', val_loss)\n",
    "\n",
    "plt.figure(figsize=(12, 6))\n",
    "plt.subplot(1, 2,1)\n",
    "plt.plot(train_loss_x_midpoints, label='Train Loss x_midpoints_reshape')\n",
    "plt.plot(val_loss_x_midpoints, label='Validation Loss x_midpoints_reshape')\n",
    "plt.xlabel('Epochs')\n",
    "plt.yscale('log')\n",
    "\n",
    "plt.ylabel('Loss')\n",
    "plt.title('Training and Validation Loss ')\n",
    "plt.legend()\n",
    "\n",
    "plt.tight_layout()\n",
    "plt.show()\n"
   ]
  },
  {
   "cell_type": "code",
   "execution_count": 19,
   "metadata": {},
   "outputs": [],
   "source": [
    "# loaded_model = tf.keras.models.load_model(\n",
    "#     \"/home/da886/Electron Counting Extended Arch/Weights For Classes/3onlymixed.keras\",safe_mode=False,\n",
    "#     custom_objects={'DynamicExponentCallback': DynamicExponentCallback, 'custom_loss': custom_loss}\n",
    "# )\n",
    "\n",
    "loaded_model = tf.keras.models.load_model('/home/da886/Final Electron counting project/Trained weights/Fixed weights/13Fixed_overfit.keras',custom_objects={'loss':dynamic_exponent_callback.custom_loss(3)},safe_mode=False\n",
    ")\n"
   ]
  },
  {
   "cell_type": "code",
   "execution_count": 24,
   "metadata": {},
   "outputs": [],
   "source": [
    "# model.save('/home/da886/Final Electron counting project/Trained weights/Fixed weights/13Fixed_regularized-1.keras')"
   ]
  },
  {
   "cell_type": "markdown",
   "metadata": {},
   "source": [
    "Josh's edit"
   ]
  },
  {
   "cell_type": "code",
   "execution_count": 232,
   "metadata": {},
   "outputs": [],
   "source": [
    "# val_dataset = tf.data.Dataset.from_tensor_slices((val_images, val_midpoints))\n",
    "# val_dataset = val_dataset.batch(400)\n",
    "# inputs,targets = next(iter(val_dataset))\n",
    "# output =loaded_model.predict(inputs)\n",
    "\n",
    "# train_dataset = tf.data.Dataset.from_tensor_slices((train_images, train_midpoints))\n",
    "# train_dataset = train_dataset.batch(400)\n",
    "# inputs,targets = next(iter(train_dataset))\n",
    "# output =loaded_model.predict(inputs)\n",
    "\n",
    "# train_dataset = tf.data.Dataset.from_tensor_slices((train_images, train_midpoints))\n",
    "# train_dataset = train_dataset.batch(800)\n",
    "# inputs,targets = next(iter(train_dataset))\n",
    "# output =model_builder.model.predict(inputs)\n",
    "\n",
    "# val_dataset = tf.data.Dataset.from_tensor_slices((val_images, val_midpoints))\n",
    "# # val_dataset = val_dataset.shuffle()\n",
    "# val_dataset = val_dataset.batch(800)\n",
    "# # inputs,targets = next(iter(val_dataset))\n",
    "\n",
    "# outputs = []\n",
    "# for i, (data, pred) in enumerate(val_dataset):\n",
    "#     print(data.shape)\n",
    "#     outputs.extend(model_builder.model.predict(data))"
   ]
  },
  {
   "cell_type": "code",
   "execution_count": 47,
   "metadata": {},
   "outputs": [],
   "source": [
    "# import numpy as np\n",
    "# import matplotlib.pyplot as plt\n",
    "\n",
    "# def visualize_midpoints(image, midpoints):\n",
    "#     \"\"\"\n",
    "#     Visualizes midpoints on an image without using a probability vector.\n",
    "\n",
    "#     Parameters:\n",
    "#     - image: A 3D tensor representing the image.\n",
    "#     - midpoints: A 2D tensor representing the midpoint coordinates (x, y).\n",
    "\n",
    "#     Returns:\n",
    "#     None (displays the image with midpoints).\n",
    "#     \"\"\"\n",
    "#     # Convert to NumPy arrays for easier handling\n",
    "#     image_np = image\n",
    "#     midpoints_np = midpoints\n",
    "\n",
    "#     # Denormalize image if necessary (adjust based on your normalization method)\n",
    "#     denormalized_image = image_np  # Modify if normalization was applied during training\n",
    "\n",
    "#     # Visualize the image\n",
    "#     plt.figure(figsize=(4, 4))\n",
    "#     plt.imshow(denormalized_image, cmap='gray')\n",
    "#     plt.title(\"Predicted Midpoint Visualization\")\n",
    "\n",
    "#     # Plot midpoints directly\n",
    "#     for i, (x, y) in enumerate(midpoints_np):\n",
    "#         plt.scatter(x, y, color='red', s=5)\n",
    "\n",
    "#     plt.show()\n",
    "\n",
    "# def visualize_midpoints2(image, midpoints):\n",
    "#     \"\"\"\n",
    "#     Visualizes ground truth midpoints on an image without using a probability vector.\n",
    "\n",
    "#     Parameters:\n",
    "#     - image: A 3D tensor representing the image.\n",
    "#     - midpoints: A 2D tensor representing the midpoint coordinates (x, y).\n",
    "\n",
    "#     Returns:\n",
    "#     None (displays the image with midpoints).\n",
    "#     \"\"\"\n",
    "    \n",
    "#     image_np = image\n",
    "#     midpoints_np = midpoints\n",
    "#     denormalized_image = image_np \n",
    "\n",
    "#     # Visualize the image\n",
    "#     plt.figure(figsize=(4, 4))\n",
    "#     plt.imshow(denormalized_image, cmap='gray')\n",
    "#     plt.title(\"Ground Truth Midpoint Visualization\")\n",
    "\n",
    "#     # Plot midpoints directly\n",
    "#     for i, (x, y) in enumerate(midpoints_np):\n",
    "#         plt.scatter(x, y, color='red', s=5)\n",
    "\n",
    "#     plt.show()\n",
    "\n",
    "# # Example usage with random data\n",
    "# t = np.random.randint(0, 800)\n",
    "# # t=100\n",
    "\n",
    "# visualize_midpoints(tf.convert_to_tensor(inputs[t]), tf.convert_to_tensor(output[t,0,:,:])*64)\n",
    "# visualize_midpoints2(tf.convert_to_tensor(inputs[t]), tf.convert_to_tensor(targets[t,0,:,:])*64)\n"
   ]
  },
  {
   "cell_type": "code",
   "execution_count": 20,
   "metadata": {},
   "outputs": [
    {
     "name": "stdout",
     "output_type": "stream",
     "text": [
      "Processing batch 1, batch shape: (800, 64, 64)\n",
      "\u001b[1m25/25\u001b[0m \u001b[32m━━━━━━━━━━━━━━━━━━━━\u001b[0m\u001b[37m\u001b[0m \u001b[1m0s\u001b[0m 3ms/step\n",
      "Processing batch 2, batch shape: (800, 64, 64)\n",
      "\u001b[1m25/25\u001b[0m \u001b[32m━━━━━━━━━━━━━━━━━━━━\u001b[0m\u001b[37m\u001b[0m \u001b[1m0s\u001b[0m 3ms/step\n",
      "Processing batch 3, batch shape: (800, 64, 64)\n",
      "\u001b[1m25/25\u001b[0m \u001b[32m━━━━━━━━━━━━━━━━━━━━\u001b[0m\u001b[37m\u001b[0m \u001b[1m0s\u001b[0m 3ms/step\n",
      "Processing batch 4, batch shape: (800, 64, 64)\n",
      "\u001b[1m25/25\u001b[0m \u001b[32m━━━━━━━━━━━━━━━━━━━━\u001b[0m\u001b[37m\u001b[0m \u001b[1m0s\u001b[0m 3ms/step\n",
      "Processing batch 5, batch shape: (800, 64, 64)\n",
      "\u001b[1m25/25\u001b[0m \u001b[32m━━━━━━━━━━━━━━━━━━━━\u001b[0m\u001b[37m\u001b[0m \u001b[1m0s\u001b[0m 3ms/step\n",
      "Processing batch 6, batch shape: (800, 64, 64)\n",
      "\u001b[1m25/25\u001b[0m \u001b[32m━━━━━━━━━━━━━━━━━━━━\u001b[0m\u001b[37m\u001b[0m \u001b[1m0s\u001b[0m 3ms/step\n",
      "Processing batch 7, batch shape: (800, 64, 64)\n",
      "\u001b[1m25/25\u001b[0m \u001b[32m━━━━━━━━━━━━━━━━━━━━\u001b[0m\u001b[37m\u001b[0m \u001b[1m0s\u001b[0m 3ms/step\n",
      "Processing batch 8, batch shape: (800, 64, 64)\n",
      "\u001b[1m25/25\u001b[0m \u001b[32m━━━━━━━━━━━━━━━━━━━━\u001b[0m\u001b[37m\u001b[0m \u001b[1m0s\u001b[0m 3ms/step\n",
      "Processing batch 9, batch shape: (800, 64, 64)\n",
      "\u001b[1m25/25\u001b[0m \u001b[32m━━━━━━━━━━━━━━━━━━━━\u001b[0m\u001b[37m\u001b[0m \u001b[1m0s\u001b[0m 3ms/step\n",
      "Processing batch 10, batch shape: (800, 64, 64)\n",
      "\u001b[1m25/25\u001b[0m \u001b[32m━━━━━━━━━━━━━━━━━━━━\u001b[0m\u001b[37m\u001b[0m \u001b[1m0s\u001b[0m 3ms/step\n"
     ]
    },
    {
     "name": "stderr",
     "output_type": "stream",
     "text": [
      "2024-09-18 20:23:09.896281: I tensorflow/core/framework/local_rendezvous.cc:404] Local rendezvous is aborting with status: OUT_OF_RANGE: End of sequence\n"
     ]
    }
   ],
   "source": [
    "import numpy as np\n",
    "import matplotlib.pyplot as plt\n",
    "import tensorflow as tf\n",
    "\n",
    "# Define the function for visualizing midpoints\n",
    "def visualize_midpoints(image, midpoints, title=\"Predicted Midpoint Visualization\"):\n",
    "    \"\"\"\n",
    "    Visualizes midpoints on an image without using a probability vector.\n",
    "\n",
    "    Parameters:\n",
    "    - image: A 3D tensor representing the image.\n",
    "    - midpoints: A 2D tensor representing the midpoint coordinates (x, y).\n",
    "    - title: The title of the plot.\n",
    "\n",
    "    Returns:\n",
    "    None (displays the image with midpoints).\n",
    "    \"\"\"\n",
    "    # Convert to NumPy arrays for easier handling\n",
    "    image_np = image\n",
    "    midpoints_np = midpoints\n",
    "\n",
    "    # Denormalize image if necessary (adjust based on your normalization method)\n",
    "    denormalized_image = image_np  # Modify if normalization was applied during training\n",
    "\n",
    "    # Visualize the image\n",
    "    plt.figure(figsize=(4, 4))\n",
    "    plt.imshow(denormalized_image, cmap='gray')\n",
    "    plt.title(title)\n",
    "\n",
    "    # Plot midpoints directly, only if they are not (0, 0)\n",
    "    for i, (x, y) in enumerate(midpoints_np):\n",
    "        if x >= 3 and y >= 3:  # Only plot if the point is not (0, 0)\n",
    "            plt.scatter(x, y, color='red', s=5)\n",
    "\n",
    "    plt.show()\n",
    "\n",
    "# Create the validation dataset\n",
    "# val_dataset = tf.data.Dataset.from_tensor_slices((val_images, val_midpoints))\n",
    "# val_dataset = val_dataset.batch(800)\n",
    "train_dataset = tf.data.Dataset.from_tensor_slices((train_images, train_midpoints))\n",
    "train_dataset = train_dataset.batch(800)\n",
    "\n",
    "# Initialize lists to collect the data\n",
    "all_images = []\n",
    "all_true_midpoints = []\n",
    "all_pred_midpoints = []\n",
    "\n",
    "# Loop through each batch in the validation dataset, predict, and collect results\n",
    "# for i, (data_batch, midpoints_batch) in enumerate(val_dataset):\n",
    "\n",
    "for i, (data_batch, midpoints_batch) in enumerate(train_dataset):\n",
    "    print(f\"Processing batch {i + 1}, batch shape: {data_batch.shape}\")\n",
    "    \n",
    "    # Get the model predictions\n",
    "    predictions = model_builder.model.predict(data_batch)\n",
    "\n",
    "    # Extend the lists to store data from each batch\n",
    "    all_images.extend(data_batch.numpy())  # Store all images\n",
    "    all_true_midpoints.extend(midpoints_batch.numpy())  # Store all true midpoints\n",
    "    all_pred_midpoints.extend(predictions)  # Store all predicted midpoints\n",
    "\n",
    "# Convert lists to arrays for easier indexing\n",
    "all_images = np.array(all_images)\n",
    "all_true_midpoints = np.array(all_true_midpoints)\n",
    "all_pred_midpoints = np.array(all_pred_midpoints)\n"
   ]
  },
  {
   "cell_type": "code",
   "execution_count": 41,
   "metadata": {},
   "outputs": [
    {
     "data": {
      "image/png": "[encoded data removed]",
      "text/plain": [
       "<Figure size 400x400 with 1 Axes>"
      ]
     },
     "metadata": {},
     "output_type": "display_data"
    },
    {
     "data": {
      "image/png": "[encoded data removed]",
      "text/plain": [
       "<Figure size 400x400 with 1 Axes>"
      ]
     },
     "metadata": {},
     "output_type": "display_data"
    }
   ],
   "source": [
    "\n",
    "# Select an index to visualize from the entire dataset\n",
    "index_to_visualize = np.random.randint(0, len(all_images))\n",
    "# index_to_visualize =1\n",
    "# index_to_visualize = 11548\n",
    "# Visualize the selected image with predicted and true midpoints\n",
    "visualize_midpoints(all_images[index_to_visualize], all_pred_midpoints[index_to_visualize, 0, :, :] * 64, title=\"Predicted Midpoints\")\n",
    "visualize_midpoints(all_images[index_to_visualize], all_true_midpoints[index_to_visualize, 0, :, :] * 64, title=\"Ground Truth Midpoints\")\n"
   ]
  },
  {
   "cell_type": "code",
   "execution_count": 273,
   "metadata": {},
   "outputs": [
    {
     "data": {
      "text/plain": [
       "array([[[0.78126204, 0.734375  ],\n",
       "        [0.828125  , 0.796875  ],\n",
       "        [0.703125  , 0.8125    ]]], dtype=float32)"
      ]
     },
     "execution_count": 273,
     "metadata": {},
     "output_type": "execute_result"
    }
   ],
   "source": [
    "all_true_midpoints[11548]"
   ]
  },
  {
   "cell_type": "code",
   "execution_count": 274,
   "metadata": {},
   "outputs": [
    {
     "data": {
      "text/plain": [
       "array([[[3.3416320e-06, 6.6482944e-06],\n",
       "        [1.1129316e-02, 1.0827443e-02],\n",
       "        [8.3547854e-01, 8.0358070e-01]]], dtype=float32)"
      ]
     },
     "execution_count": 274,
     "metadata": {},
     "output_type": "execute_result"
    }
   ],
   "source": [
    "all_pred_midpoints[11548]"
   ]
  },
  {
   "cell_type": "code",
   "execution_count": 250,
   "metadata": {},
   "outputs": [
    {
     "data": {
      "text/plain": [
       "24000"
      ]
     },
     "execution_count": 250,
     "metadata": {},
     "output_type": "execute_result"
    }
   ],
   "source": [
    "len(all_images)"
   ]
  },
  {
   "cell_type": "code",
   "execution_count": 183,
   "metadata": {},
   "outputs": [
    {
     "data": {
      "text/plain": [
       "TensorShape([800, 64, 64])"
      ]
     },
     "execution_count": 183,
     "metadata": {},
     "output_type": "execute_result"
    }
   ],
   "source": [
    "data.shape"
   ]
  },
  {
   "cell_type": "code",
   "execution_count": 191,
   "metadata": {},
   "outputs": [],
   "source": [
    "# import numpy as np\n",
    "# import matplotlib.pyplot as plt\n",
    "\n",
    "# def visualize_midpoints(image, midpoints):\n",
    "#     \"\"\"\n",
    "#     Visualizes midpoints on an image without using a probability vector.\n",
    "\n",
    "#     Parameters:\n",
    "#     - image: A 3D tensor representing the image.\n",
    "#     - midpoints: A 2D tensor representing the midpoint coordinates (x, y).\n",
    "\n",
    "#     Returns:\n",
    "#     None (displays the image with midpoints).\n",
    "#     \"\"\"\n",
    "#     # Convert to NumPy arrays for easier handling\n",
    "#     image_np = image\n",
    "#     midpoints_np = midpoints\n",
    "\n",
    "#     # Denormalize image if necessary (adjust based on your normalization method)\n",
    "#     denormalized_image = image_np  # Modify if normalization was applied during training\n",
    "\n",
    "#     # Visualize the image\n",
    "#     plt.figure(figsize=(4, 4))\n",
    "#     plt.imshow(denormalized_image, cmap='gray')\n",
    "#     plt.title(\"Predicted Midpoint Visualization\")\n",
    "\n",
    "#     # Plot midpoints directly, only if they are not (0, 0)\n",
    "#     for i, (x, y) in enumerate(midpoints_np):\n",
    "#         if x >= 3 and y >= 3:  # Only plot if the point is not (0, 0)\n",
    "#             plt.scatter(x, y, color='red', s=5)\n",
    "\n",
    "#     plt.show()\n",
    "\n",
    "# def visualize_midpoints2(image, midpoints):\n",
    "#     \"\"\"\n",
    "#     Visualizes ground truth midpoints on an image without using a probability vector.\n",
    "\n",
    "#     Parameters:\n",
    "#     - image: A 3D tensor representing the image.\n",
    "#     - midpoints: A 2D tensor representing the midpoint coordinates (x, y).\n",
    "\n",
    "#     Returns:\n",
    "#     None (displays the image with midpoints).\n",
    "#     \"\"\"\n",
    "#     image_np = image\n",
    "#     midpoints_np = midpoints\n",
    "#     denormalized_image = image_np \n",
    "\n",
    "#     # Visualize the image\n",
    "#     plt.figure(figsize=(4, 4))\n",
    "#     plt.imshow(denormalized_image, cmap='gray')\n",
    "#     plt.title(\"Ground Truth Midpoint Visualization\")\n",
    "\n",
    "#     # Plot midpoints directly, only if they are not (0, 0)\n",
    "#     for i, (x, y) in enumerate(midpoints_np):\n",
    "#         # if x != 0 and y != 0:  # Only plot if the point is not (0, 0)\n",
    "#         if x >= 3 and y >= 3:\n",
    "#             plt.scatter(x, y, color='red', s=5)\n",
    "\n",
    "#     plt.show()\n",
    "\n",
    "# # Example usage with random data\n",
    "# t = np.random.randint(0, 800)\n",
    "\n",
    "# # t= 100 #### noise example\n",
    "# # visualize_midpoints(tf.convert_to_tensor(inputs[t]), tf.convert_to_tensor(output[t,0,:,:])*np.max(centers))\n",
    "# # visualize_midpoints2(tf.convert_to_tensor(inputs[t]), tf.convert_to_tensor(targets[t,0,:,:])*np.max(centers))\n",
    "# visualize_midpoints(tf.convert_to_tensor(data[t]), tf.convert_to_tensor(outputs[2][t,0,:,:])*64)\n",
    "# visualize_midpoints2(tf.convert_to_tensor(data[t]), tf.convert_to_tensor(pred[2][t,0,:,:])*64)\n"
   ]
  },
  {
   "cell_type": "markdown",
   "metadata": {},
   "source": [
    "code to visualize Josh's edit"
   ]
  },
  {
   "cell_type": "code",
   "execution_count": 233,
   "metadata": {},
   "outputs": [],
   "source": [
    "# import numpy as np\n",
    "# import matplotlib.pyplot as plt\n",
    "# import tensorflow as tf\n",
    "\n",
    "# def visualize_midpoints(image, midpoints, title=\"Predicted Midpoint Visualization\"):\n",
    "#     \"\"\"\n",
    "#     Visualizes midpoints on an image without using a probability vector.\n",
    "\n",
    "#     Parameters:\n",
    "#     - image: A 3D tensor representing the image.\n",
    "#     - midpoints: A 2D tensor representing the midpoint coordinates (x, y).\n",
    "#     - title: The title of the plot.\n",
    "\n",
    "#     Returns:\n",
    "#     None (displays the image with midpoints).\n",
    "#     \"\"\"\n",
    "#     # Convert to NumPy arrays for easier handling\n",
    "#     image_np = image\n",
    "#     midpoints_np = midpoints\n",
    "\n",
    "#     # Denormalize image if necessary (adjust based on your normalization method)\n",
    "#     denormalized_image = image_np  # Modify if normalization was applied during training\n",
    "\n",
    "#     # Visualize the image\n",
    "#     plt.figure(figsize=(4, 4))\n",
    "#     plt.imshow(denormalized_image, cmap='gray')\n",
    "#     plt.title(title)\n",
    "\n",
    "#     # Plot midpoints directly, only if they are not (0, 0)\n",
    "#     for i, (x, y) in enumerate(midpoints_np):\n",
    "#         if x >= 3 and y >= 3:  # Only plot if the point is not (0, 0)\n",
    "#             plt.scatter(x, y, color='red', s=5)\n",
    "\n",
    "#     plt.show()\n",
    "\n",
    "# # Example processing and visualization\n",
    "# t = np.random.randint(0, 800)\n",
    "\n",
    "# # Visualize one batch at a time\n",
    "# for i, (data_batch, midpoints_batch) in enumerate(val_dataset):\n",
    "#     predictions = model_builder.model.predict(data_batch)\n",
    "\n",
    "#     # Select a random image from the batch\n",
    "#     data_sample = data_batch[t]\n",
    "#     pred_midpoints = predictions[t, 0, :, :]\n",
    "#     true_midpoints = midpoints_batch[t, 0, :, :]\n",
    "\n",
    "#     # Visualize predicted and true midpoints\n",
    "#     visualize_midpoints(data_sample, pred_midpoints * 64, title=\"Predicted Midpoints\")\n",
    "#     visualize_midpoints(data_sample, true_midpoints * 64, title=\"Ground Truth Midpoints\")\n",
    "\n",
    "#     # Only visualize for one batch, break after the first\n",
    "#     break\n"
   ]
  },
  {
   "cell_type": "code",
   "execution_count": 45,
   "metadata": {},
   "outputs": [],
   "source": [
    "# model_builder.model.save('/home/da886/Electron Counting Extended Arch/Overfitted weights/increased_model_Padded_weights.keras')"
   ]
  },
  {
   "cell_type": "code",
   "execution_count": 268,
   "metadata": {},
   "outputs": [
    {
     "name": "stdout",
     "output_type": "stream",
     "text": [
      "\u001b[1m30/30\u001b[0m \u001b[32m━━━━━━━━━━━━━━━━━━━━\u001b[0m\u001b[37m\u001b[0m \u001b[1m6s\u001b[0m 193ms/step - loss: 0.0136\n"
     ]
    }
   ],
   "source": [
    "val_loss = model_builder.model.evaluate(val_dataset)"
   ]
  },
  {
   "cell_type": "code",
   "execution_count": 148,
   "metadata": {},
   "outputs": [],
   "source": [
    "\n",
    "# Squeeze the singleton dimension at index 1 from both predictions and targets\n",
    "output = np.squeeze(output, axis=1)\n",
    "targets = np.squeeze(targets, axis=1)\n"
   ]
  },
  {
   "cell_type": "code",
   "execution_count": 145,
   "metadata": {},
   "outputs": [
    {
     "data": {
      "text/plain": [
       "(800, 3, 2)"
      ]
     },
     "execution_count": 145,
     "metadata": {},
     "output_type": "execute_result"
    }
   ],
   "source": [
    "output.shape"
   ]
  },
  {
   "cell_type": "markdown",
   "metadata": {},
   "source": [
    "Code to visualize taking just n batch"
   ]
  },
  {
   "cell_type": "code",
   "execution_count": 260,
   "metadata": {},
   "outputs": [],
   "source": [
    "\n",
    "# # Initialize variables to track the min and max MSE\n",
    "# min_mse = float('inf')\n",
    "# max_mse = float('-inf')\n",
    "# min_mse_index = -1\n",
    "# max_mse_index = -1\n",
    "\n",
    "# # Loop through each prediction to calculate the MSE\n",
    "# for i in range(len(output)):\n",
    "#     mse = np.mean((output[i] - targets[i]) ** 2)\n",
    "    \n",
    "#     if mse < min_mse:\n",
    "#         min_mse = mse\n",
    "#         min_mse_index = i\n",
    "    \n",
    "#     if mse > max_mse:\n",
    "#         max_mse = mse\n",
    "#         max_mse_index = i\n",
    "\n",
    "# # Function to plot an image with its centers\n",
    "# def plot_image_with_centers(image, true_center, predicted_center, title):\n",
    "#     plt.figure(figsize=(5, 5))\n",
    "#     plt.imshow(image.squeeze(), cmap='gray')  \n",
    "\n",
    "#     # Plot the actual center\n",
    "#     plt.scatter(true_center[:, 0], true_center[:, 1], color='green', label='Groundtruth', s=10)\n",
    "\n",
    "#     # Plot the predicted center\n",
    "#     plt.scatter(predicted_center[:, 0], predicted_center[:, 1], color='red', label='Predictions', s=10)\n",
    "\n",
    "#     plt.title(title)\n",
    "#     plt.legend()\n",
    "#     plt.show()\n",
    "\n",
    "# # Convert inputs to numpy arrays for plotting\n",
    "# inputs_np = data.numpy()\n",
    "\n",
    "# # Plotting the image with the least MSE\n",
    "# plot_image_with_centers(inputs_np[min_mse_index],\n",
    "#                         targets[min_mse_index]*64,\n",
    "#                         output[min_mse_index]*64,\n",
    "#                         f'Image with Least MSE. MSE: {min_mse:.4f}')\n",
    "\n",
    "# # Plotting the image with the largest MSE\n",
    "# plot_image_with_centers(inputs_np[max_mse_index],\n",
    "#                         targets[max_mse_index]*64,\n",
    "#                         output[max_mse_index]*64,\n",
    "#                         f'Image with Largest MSE. MSE: {max_mse:.4f}')\n"
   ]
  },
  {
   "cell_type": "code",
   "execution_count": 285,
   "metadata": {},
   "outputs": [],
   "source": [
    "# import numpy as np\n",
    "# import matplotlib.pyplot as plt\n",
    "\n",
    "# # Initialize variables to track the min and max MSE\n",
    "# min_mse = float('inf')\n",
    "# max_mse = float('-inf')\n",
    "# min_mse_index = -1\n",
    "# max_mse_index = -1\n",
    "\n",
    "# # Loop through each prediction to calculate the MSE\n",
    "# for i in range(len(all_pred_midpoints)):\n",
    "#     mse = np.mean((all_pred_midpoints[i] - all_true_midpoints[i]) ** 2)\n",
    "    \n",
    "#     if mse < min_mse:\n",
    "#         min_mse = mse\n",
    "#         min_mse_index = i\n",
    "    \n",
    "#     if mse > max_mse:\n",
    "#         max_mse = mse\n",
    "#         max_mse_index = i\n",
    "\n",
    "# # Function to plot an image with its centers\n",
    "# def plot_image_with_centers(image, true_center, predicted_center, title):\n",
    "#     plt.figure(figsize=(4, 4))\n",
    "#     plt.imshow(image.squeeze(), cmap='gray')  \n",
    "\n",
    "#     # Plot the actual center\n",
    "#     plt.scatter(true_center[:, 0], true_center[:, 1], color='green', label='Groundtruth', s=10)\n",
    "\n",
    "#     # Plot the predicted center\n",
    "#     plt.scatter(predicted_center[:, 0], predicted_center[:, 1], color='red', label='Predictions', s=10)\n",
    "\n",
    "#     plt.title(title)\n",
    "#     plt.legend()\n",
    "#     plt.show()\n",
    "\n",
    "# # Plotting the image with the least MSE\n",
    "# plot_image_with_centers(all_images[min_mse_index],\n",
    "#                         all_true_midpoints[min_mse_index] * 64,  # Adjust for scaling if needed\n",
    "#                         all_pred_midpoints[min_mse_index] * 64,  # Adjust for scaling if needed\n",
    "#                         f'Image with Least MSE. MSE: {min_mse:.4f}')\n",
    "\n",
    "# # Plotting the image with the largest MSE\n",
    "# plot_image_with_centers(all_images[max_mse_index],\n",
    "#                         all_true_midpoints[max_mse_index] * 64,  # Adjust for scaling if needed\n",
    "#                         all_pred_midpoints[max_mse_index] * 64,  # Adjust for scaling if needed\n",
    "#                         f'Image with Largest MSE. MSE: {max_mse:.4f}')\n"
   ]
  },
  {
   "cell_type": "code",
   "execution_count": 22,
   "metadata": {},
   "outputs": [
    {
     "data": {
      "image/png": "[encoded data removed]",
      "text/plain": [
       "<Figure size 500x500 with 1 Axes>"
      ]
     },
     "metadata": {},
     "output_type": "display_data"
    },
    {
     "data": {
      "image/png": "[encoded data removed]",
      "text/plain": [
       "<Figure size 500x500 with 1 Axes>"
      ]
     },
     "metadata": {},
     "output_type": "display_data"
    }
   ],
   "source": [
    "import numpy as np\n",
    "import matplotlib.pyplot as plt\n",
    "\n",
    "# Initialize variables to track the min and max MSE\n",
    "min_mse = float('inf')\n",
    "max_mse = float('-inf')\n",
    "min_mse_index = -1\n",
    "max_mse_index = -1\n",
    "\n",
    "# Loop through each prediction to calculate the MSE\n",
    "for i in range(len(all_pred_midpoints)):\n",
    "    mse = np.mean((all_pred_midpoints[i] - all_true_midpoints[i]) ** 2)\n",
    "    \n",
    "    if mse < min_mse:\n",
    "        min_mse = mse\n",
    "        min_mse_index = i\n",
    "    \n",
    "    if mse > max_mse:\n",
    "        max_mse = mse\n",
    "        max_mse_index = i\n",
    "import numpy as np\n",
    "import matplotlib.pyplot as plt\n",
    "\n",
    "# Function to plot an image with its centers\n",
    "def plot_image_with_centers(image, true_center, predicted_center, title):\n",
    "    plt.figure(figsize=(5, 5))\n",
    "    plt.imshow(image.squeeze(), cmap='gray')  # Display the image\n",
    "\n",
    "    # Plot the actual center (Groundtruth)\n",
    "    plt.scatter(true_center[:, 0], true_center[:, 1], color='green', label='Groundtruth', s=10)\n",
    "\n",
    "    # Plot the predicted center\n",
    "    plt.scatter(predicted_center[:, 0], predicted_center[:, 1], color='red', label='Predictions', s=10)\n",
    "\n",
    "    plt.title(title)\n",
    "    plt.legend()\n",
    "    plt.show()\n",
    "\n",
    "\n",
    "\n",
    "\n",
    "\n",
    "\n",
    "# Plotting the image with the least MSE\n",
    "plot_image_with_centers(all_images[min_mse_index],\n",
    "                        all_true_midpoints[min_mse_index][0] * 64,  # Adjust for scaling if needed\n",
    "                        all_pred_midpoints[min_mse_index][0] * 64,  # Adjust for scaling if needed\n",
    "                        f'Image with Least MSE. MSE: {min_mse:.4f}')\n",
    "\n",
    "# Plotting the image with the largest MSE\n",
    "plot_image_with_centers(all_images[max_mse_index],\n",
    "                        all_true_midpoints[max_mse_index][0] * 64,  # Adjust for scaling if needed\n",
    "                        all_pred_midpoints[max_mse_index][0] * 64,  # Adjust for scaling if needed\n",
    "                        f'Image with Largest MSE. MSE: {max_mse:.4f}')\n",
    "\n",
    "\n"
   ]
  },
  {
   "cell_type": "code",
   "execution_count": 263,
   "metadata": {},
   "outputs": [
    {
     "data": {
      "text/plain": [
       "11548"
      ]
     },
     "execution_count": 263,
     "metadata": {},
     "output_type": "execute_result"
    }
   ],
   "source": [
    "max_mse_index"
   ]
  }
 ],
 "metadata": {
  "kernelspec": {
   "display_name": "objectdetection",
   "language": "python",
   "name": "python3"
  },
  "language_info": {
   "codemirror_mode": {
    "name": "ipython",
    "version": 3
   },
   "file_extension": ".py",
   "mimetype": "text/x-python",
   "name": "python",
   "nbconvert_exporter": "python",
   "pygments_lexer": "ipython3",
   "version": "3.11.5"
  }
 },
 "nbformat": 4,
 "nbformat_minor": 2
}
