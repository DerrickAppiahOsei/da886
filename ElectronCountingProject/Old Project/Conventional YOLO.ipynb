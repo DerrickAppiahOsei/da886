{
 "cells": [
  {
   "cell_type": "code",
   "execution_count": 1,
   "metadata": {},
   "outputs": [
    {
     "name": "stderr",
     "output_type": "stream",
     "text": [
      "2024-08-01 21:29:16.515915: I tensorflow/core/util/port.cc:153] oneDNN custom operations are on. You may see slightly different numerical results due to floating-point round-off errors from different computation orders. To turn them off, set the environment variable `TF_ENABLE_ONEDNN_OPTS=0`.\n",
      "2024-08-01 21:29:16.588136: E external/local_xla/xla/stream_executor/cuda/cuda_fft.cc:485] Unable to register cuFFT factory: Attempting to register factory for plugin cuFFT when one has already been registered\n",
      "2024-08-01 21:29:16.662095: E external/local_xla/xla/stream_executor/cuda/cuda_dnn.cc:8454] Unable to register cuDNN factory: Attempting to register factory for plugin cuDNN when one has already been registered\n",
      "2024-08-01 21:29:16.692046: E external/local_xla/xla/stream_executor/cuda/cuda_blas.cc:1452] Unable to register cuBLAS factory: Attempting to register factory for plugin cuBLAS when one has already been registered\n",
      "2024-08-01 21:29:16.762645: I tensorflow/core/platform/cpu_feature_guard.cc:210] This TensorFlow binary is optimized to use available CPU instructions in performance-critical operations.\n",
      "To enable the following instructions: AVX2 AVX512F AVX512_VNNI AVX512_BF16 FMA, in other operations, rebuild TensorFlow with the appropriate compiler flags.\n",
      "2024-08-01 21:29:20.379509: W tensorflow/compiler/tf2tensorrt/utils/py_utils.cc:38] TF-TRT Warning: Could not find TensorRT\n"
     ]
    },
    {
     "name": "stdout",
     "output_type": "stream",
     "text": [
      "device /gpu:9\n"
     ]
    }
   ],
   "source": [
    "import os\n",
    "import tensorflow as tf\n",
    "\n",
    "# Set CUDA device order and visible devices\n",
    "os.environ[\"CUDA_DEVICE_ORDER\"] = \"PCI_BUS_ID\"\n",
    "os.environ[\"CUDA_VISIBLE_DEVICES\"] = \"0,1,2,3,4,5,6,7,8,9\"\n",
    "\n",
    "# Set the device\n",
    "device = '/cpu:0'\n",
    "if tf.config.experimental.list_physical_devices('GPU'):\n",
    "    try:\n",
    "        # Restrict TensorFlow to only use the second GPU\n",
    "        gpus = tf.config.experimental.list_physical_devices('GPU')\n",
    "        if gpus:\n",
    "            tf.config.experimental.set_visible_devices(gpus[9], 'GPU')\n",
    "            device = '/gpu:9'\n",
    "    except RuntimeError as e:\n",
    "        print(e)\n",
    "\n",
    "print(\"device\", device)"
   ]
  },
  {
   "cell_type": "code",
   "execution_count": 2,
   "metadata": {},
   "outputs": [],
   "source": [
    "import matplotlib.pyplot as plt\n",
    "import numpy as np\n",
    "import tensorflow as tf\n",
    "from tensorflow import keras\n",
    "from tensorflow.keras import layers\n",
    "from tensorflow.keras.models import Sequential\n",
    "import h5py \n",
    "\n"
   ]
  },
  {
   "cell_type": "code",
   "execution_count": 3,
   "metadata": {},
   "outputs": [],
   "source": [
    "\n",
    "\n",
    "# Load HDF5 data\n",
    "h5_filename = '/home/da886/ElectronCountingProject/500KImagesForOverfitting_smaller_negative paddings.h5'\n",
    "with h5py.File(h5_filename, 'r') as f:\n",
    "    images = np.array(f['images'])\n",
    "    # bounding_boxes = np.array(f['bounding_boxes'])\n",
    "    centers = np.array(f['centers_training'])\n",
    "\n",
    "\n",
    "#####For Bounding boxes \n",
    "# # Step 1: Calculate the maximum value across the entire dataset\n",
    "# global_max_image_value = np.max(images)\n",
    "# global_max_box_value = np.max(bounding_boxes)\n",
    "\n",
    "# # Step 2: Normalize each image using the global maximum value\n",
    "# normalized_images = images / global_max_image_value\n",
    "# normalized_bounding_boxes = bounding_boxes / global_max_box_value\n",
    "\n",
    "global_max_image_value = np.max(images)\n",
    "global_max_center_value = np.max(centers)\n",
    "normalized_images = images / global_max_image_value\n",
    "normalized_centers = centers / global_max_center_value"
   ]
  },
  {
   "cell_type": "code",
   "execution_count": 4,
   "metadata": {},
   "outputs": [
    {
     "name": "stderr",
     "output_type": "stream",
     "text": [
      "2024-08-01 21:31:40.608840: I tensorflow/core/common_runtime/gpu/gpu_device.cc:2021] Created device /job:localhost/replica:0/task:0/device:GPU:0 with 79078 MB memory:  -> device: 9, name: NVIDIA A100 80GB PCIe, pci bus id: 0000:cf:00.0, compute capability: 8.0\n"
     ]
    }
   ],
   "source": [
    "normalized_images = np.array(normalized_images)\n",
    "normalized_centers= np.array(normalized_centers[:, :, 1:])\n",
    "normalized_centers =tf.expand_dims(normalized_centers,axis=1)\n"
   ]
  },
  {
   "cell_type": "code",
   "execution_count": 5,
   "metadata": {},
   "outputs": [
    {
     "data": {
      "text/plain": [
       "<tf.Tensor: shape=(500000, 1, 12, 2), dtype=float32, numpy=\n",
       "array([[[[ 0.10236221,  0.13385826],\n",
       "         [ 0.46456692,  0.71653545],\n",
       "         [ 0.79527557,  0.16535433],\n",
       "         ...,\n",
       "         [-0.01574803, -0.01574803],\n",
       "         [-0.01574803, -0.01574803],\n",
       "         [-0.01574803, -0.01574803]]],\n",
       "\n",
       "\n",
       "       [[[ 0.11811024,  0.63779527],\n",
       "         [ 0.16535433,  0.9527559 ],\n",
       "         [ 0.22834645,  0.1496063 ],\n",
       "         ...,\n",
       "         [-0.01574803, -0.01574803],\n",
       "         [-0.01574803, -0.01574803],\n",
       "         [-0.01574803, -0.01574803]]],\n",
       "\n",
       "\n",
       "       [[[ 0.96850395,  0.13385826],\n",
       "         [ 0.6062992 ,  0.68503934],\n",
       "         [ 0.10236221,  0.7322835 ],\n",
       "         ...,\n",
       "         [-0.01574803, -0.01574803],\n",
       "         [-0.01574803, -0.01574803],\n",
       "         [-0.01574803, -0.01574803]]],\n",
       "\n",
       "\n",
       "       ...,\n",
       "\n",
       "\n",
       "       [[[ 0.30708662,  0.8425197 ],\n",
       "         [ 0.03937008,  0.496063  ],\n",
       "         [-0.01574803, -0.01574803],\n",
       "         ...,\n",
       "         [-0.01574803, -0.01574803],\n",
       "         [-0.01574803, -0.01574803],\n",
       "         [-0.01574803, -0.01574803]]],\n",
       "\n",
       "\n",
       "       [[[ 0.02362205,  0.511811  ],\n",
       "         [ 0.8110236 ,  0.79527557],\n",
       "         [ 0.16535433,  0.7480315 ],\n",
       "         ...,\n",
       "         [-0.01574803, -0.01574803],\n",
       "         [-0.01574803, -0.01574803],\n",
       "         [-0.01574803, -0.01574803]]],\n",
       "\n",
       "\n",
       "       [[[ 0.27559054,  0.22834645],\n",
       "         [ 0.6535433 ,  0.9055118 ],\n",
       "         [ 0.16535433,  0.25984251],\n",
       "         ...,\n",
       "         [-0.01574803, -0.01574803],\n",
       "         [-0.01574803, -0.01574803],\n",
       "         [-0.01574803, -0.01574803]]]], dtype=float32)>"
      ]
     },
     "execution_count": 5,
     "metadata": {},
     "output_type": "execute_result"
    }
   ],
   "source": [
    "normalized_centers"
   ]
  },
  {
   "cell_type": "code",
   "execution_count": 5,
   "metadata": {},
   "outputs": [],
   "source": [
    "\n",
    "split_idx = int(0.8 * len(normalized_images))\n",
    "train_images, val_images = normalized_images[:split_idx], normalized_images[split_idx:]\n",
    "train_boxes, val_boxes = normalized_centers[:split_idx], normalized_centers[split_idx:]\n",
    "train_dataset = tf.data.Dataset.from_tensor_slices((train_images, train_boxes))\n",
    "val_dataset = tf.data.Dataset.from_tensor_slices((val_images, val_boxes))\n",
    "batch_size = 250\n",
    "\n",
    "# Shuffle each dataset separately\n",
    "train_dataset = train_dataset.shuffle(buffer_size=500,reshuffle_each_iteration= True).batch(batch_size)\n",
    "val_dataset = val_dataset.shuffle(buffer_size=500).batch(batch_size)"
   ]
  },
  {
   "cell_type": "code",
   "execution_count": 7,
   "metadata": {},
   "outputs": [
    {
     "data": {
      "text/plain": [
       "(450000, 64, 64)"
      ]
     },
     "execution_count": 7,
     "metadata": {},
     "output_type": "execute_result"
    }
   ],
   "source": [
    "train_images.shape"
   ]
  },
  {
   "cell_type": "code",
   "execution_count": 7,
   "metadata": {},
   "outputs": [
    {
     "data": {
      "text/plain": [
       "(array([[64.,  0.,  0.,  0.,  0.,  0.,  0.,  0.,  0.,  0.],\n",
       "        [64.,  0.,  0.,  0.,  0.,  0.,  0.,  0.,  0.,  0.],\n",
       "        [63.,  0.,  0.,  0.,  0.,  1.,  0.,  0.,  0.,  0.],\n",
       "        [63.,  0.,  0.,  0.,  0.,  1.,  0.,  0.,  0.,  0.],\n",
       "        [64.,  0.,  0.,  0.,  0.,  0.,  0.,  0.,  0.,  0.],\n",
       "        [64.,  0.,  0.,  0.,  0.,  0.,  0.,  0.,  0.,  0.],\n",
       "        [64.,  0.,  0.,  0.,  0.,  0.,  0.,  0.,  0.,  0.],\n",
       "        [64.,  0.,  0.,  0.,  0.,  0.,  0.,  0.,  0.,  0.],\n",
       "        [63.,  0.,  1.,  0.,  0.,  0.,  0.,  0.,  0.,  0.],\n",
       "        [62.,  2.,  0.,  0.,  0.,  0.,  0.,  0.,  0.,  0.],\n",
       "        [64.,  0.,  0.,  0.,  0.,  0.,  0.,  0.,  0.,  0.],\n",
       "        [64.,  0.,  0.,  0.,  0.,  0.,  0.,  0.,  0.,  0.],\n",
       "        [64.,  0.,  0.,  0.,  0.,  0.,  0.,  0.,  0.,  0.],\n",
       "        [64.,  0.,  0.,  0.,  0.,  0.,  0.,  0.,  0.,  0.],\n",
       "        [64.,  0.,  0.,  0.,  0.,  0.,  0.,  0.,  0.,  0.],\n",
       "        [64.,  0.,  0.,  0.,  0.,  0.,  0.,  0.,  0.,  0.],\n",
       "        [64.,  0.,  0.,  0.,  0.,  0.,  0.,  0.,  0.,  0.],\n",
       "        [64.,  0.,  0.,  0.,  0.,  0.,  0.,  0.,  0.,  0.],\n",
       "        [64.,  0.,  0.,  0.,  0.,  0.,  0.,  0.,  0.,  0.],\n",
       "        [64.,  0.,  0.,  0.,  0.,  0.,  0.,  0.,  0.,  0.],\n",
       "        [64.,  0.,  0.,  0.,  0.,  0.,  0.,  0.,  0.,  0.],\n",
       "        [64.,  0.,  0.,  0.,  0.,  0.,  0.,  0.,  0.,  0.],\n",
       "        [64.,  0.,  0.,  0.,  0.,  0.,  0.,  0.,  0.,  0.],\n",
       "        [64.,  0.,  0.,  0.,  0.,  0.,  0.,  0.,  0.,  0.],\n",
       "        [64.,  0.,  0.,  0.,  0.,  0.,  0.,  0.,  0.,  0.],\n",
       "        [64.,  0.,  0.,  0.,  0.,  0.,  0.,  0.,  0.,  0.],\n",
       "        [64.,  0.,  0.,  0.,  0.,  0.,  0.,  0.,  0.,  0.],\n",
       "        [64.,  0.,  0.,  0.,  0.,  0.,  0.,  0.,  0.,  0.],\n",
       "        [64.,  0.,  0.,  0.,  0.,  0.,  0.,  0.,  0.,  0.],\n",
       "        [64.,  0.,  0.,  0.,  0.,  0.,  0.,  0.,  0.,  0.],\n",
       "        [63.,  0.,  0.,  0.,  0.,  0.,  1.,  0.,  0.,  0.],\n",
       "        [64.,  0.,  0.,  0.,  0.,  0.,  0.,  0.,  0.,  0.],\n",
       "        [64.,  0.,  0.,  0.,  0.,  0.,  0.,  0.,  0.,  0.],\n",
       "        [64.,  0.,  0.,  0.,  0.,  0.,  0.,  0.,  0.,  0.],\n",
       "        [64.,  0.,  0.,  0.,  0.,  0.,  0.,  0.,  0.,  0.],\n",
       "        [64.,  0.,  0.,  0.,  0.,  0.,  0.,  0.,  0.,  0.],\n",
       "        [64.,  0.,  0.,  0.,  0.,  0.,  0.,  0.,  0.,  0.],\n",
       "        [64.,  0.,  0.,  0.,  0.,  0.,  0.,  0.,  0.,  0.],\n",
       "        [64.,  0.,  0.,  0.,  0.,  0.,  0.,  0.,  0.,  0.],\n",
       "        [64.,  0.,  0.,  0.,  0.,  0.,  0.,  0.,  0.,  0.],\n",
       "        [63.,  0.,  0.,  0.,  1.,  0.,  0.,  0.,  0.,  0.],\n",
       "        [63.,  0.,  1.,  0.,  0.,  0.,  0.,  0.,  0.,  0.],\n",
       "        [64.,  0.,  0.,  0.,  0.,  0.,  0.,  0.,  0.,  0.],\n",
       "        [64.,  0.,  0.,  0.,  0.,  0.,  0.,  0.,  0.,  0.],\n",
       "        [64.,  0.,  0.,  0.,  0.,  0.,  0.,  0.,  0.,  0.],\n",
       "        [64.,  0.,  0.,  0.,  0.,  0.,  0.,  0.,  0.,  0.],\n",
       "        [64.,  0.,  0.,  0.,  0.,  0.,  0.,  0.,  0.,  0.],\n",
       "        [64.,  0.,  0.,  0.,  0.,  0.,  0.,  0.,  0.,  0.],\n",
       "        [64.,  0.,  0.,  0.,  0.,  0.,  0.,  0.,  0.,  0.],\n",
       "        [62.,  1.,  0.,  0.,  0.,  0.,  1.,  0.,  0.,  0.],\n",
       "        [64.,  0.,  0.,  0.,  0.,  0.,  0.,  0.,  0.,  0.],\n",
       "        [64.,  0.,  0.,  0.,  0.,  0.,  0.,  0.,  0.,  0.],\n",
       "        [64.,  0.,  0.,  0.,  0.,  0.,  0.,  0.,  0.,  0.],\n",
       "        [64.,  0.,  0.,  0.,  0.,  0.,  0.,  0.,  0.,  0.],\n",
       "        [64.,  0.,  0.,  0.,  0.,  0.,  0.,  0.,  0.,  0.],\n",
       "        [64.,  0.,  0.,  0.,  0.,  0.,  0.,  0.,  0.,  0.],\n",
       "        [64.,  0.,  0.,  0.,  0.,  0.,  0.,  0.,  0.,  0.],\n",
       "        [62.,  0.,  0.,  0.,  0.,  1.,  0.,  0.,  0.,  1.],\n",
       "        [61.,  1.,  0.,  0.,  0.,  1.,  1.,  0.,  0.,  0.],\n",
       "        [63.,  0.,  0.,  0.,  0.,  0.,  1.,  0.,  0.,  0.],\n",
       "        [64.,  0.,  0.,  0.,  0.,  0.,  0.,  0.,  0.,  0.],\n",
       "        [64.,  0.,  0.,  0.,  0.,  0.,  0.,  0.,  0.,  0.],\n",
       "        [64.,  0.,  0.,  0.,  0.,  0.,  0.,  0.,  0.,  0.],\n",
       "        [64.,  0.,  0.,  0.,  0.,  0.,  0.,  0.,  0.,  0.]]),\n",
       " array([0.  , 0.08, 0.16, 0.24, 0.32, 0.4 , 0.48, 0.56, 0.64, 0.72, 0.8 ]),\n",
       " <a list of 64 BarContainer objects>)"
      ]
     },
     "execution_count": 7,
     "metadata": {},
     "output_type": "execute_result"
    },
    {
     "data": {
      "image/png": "[encoded data removed]",
      "text/plain": [
       "<Figure size 640x480 with 1 Axes>"
      ]
     },
     "metadata": {},
     "output_type": "display_data"
    }
   ],
   "source": [
    "y = np.random.randint(0, len(normalized_images))\n",
    "plt.hist(normalized_images[y].squeeze())"
   ]
  },
  {
   "cell_type": "code",
   "execution_count": 7,
   "metadata": {},
   "outputs": [],
   "source": [
    "from tensorflow.keras import layers\n",
    "from tensorflow.keras.regularizers import l2\n",
    "\n",
    "input_shape = (64, 64,1)\n",
    "num_classes = 12\n",
    "num_coordinates = 2\n",
    "\n",
    "\n",
    "x_input = layers.Input(shape=input_shape)\n",
    "#Layer 1\n",
    "x = layers.Conv2D(512, kernel_size=5, padding='same', activation='relu')(x_input)\n",
    "x = layers.Conv2D(256, kernel_size=3, padding='same', activation='relu')(x)\n",
    "x = layers.MaxPool2D()(x)\n",
    "x = layers.BatchNormalization()(x) \n",
    "x = layers.Dropout(0.2)(x) \n",
    "\n",
    "\n",
    "x = layers.Flatten()(x)\n",
    "x = layers.Dense(128,activation='relu')(x)\n",
    "x = layers.Dense(64,activation='relu')(x)\n",
    "x = layers.Dense(32,activation='relu')(x)\n",
    "\n",
    "x_prob = layers.Dense(num_classes,activation='sigmoid', name='x_prob')(x)\n",
    "x_prob_reshape = layers.Reshape((-1, num_classes,1), name='x_probabilities_reshape')(x_prob)\n",
    "# Bounding box output\n",
    "x_midpoints = layers.Dense(num_classes * num_coordinates, name='x_midpoints')(x)\n",
    "x_midpoints_reshape = layers.Reshape((-1, num_classes, num_coordinates), name='x_midpoints_reshape')(x_midpoints)\n",
    "\n",
    "\n",
    "\n",
    "\n",
    "model = tf.keras.models.Model(x_input,[x_prob_reshape,x_midpoints_reshape])\n",
    "optimizer = tf.keras.optimizers.Adam(learning_rate=1e-2) \n",
    "\n"
   ]
  },
  {
   "cell_type": "code",
   "execution_count": 8,
   "metadata": {},
   "outputs": [],
   "source": [
    "model = tf.keras.Model(x_input,\n",
    "           outputs=x_midpoints_reshape)"
   ]
  },
  {
   "cell_type": "code",
   "execution_count": 9,
   "metadata": {},
   "outputs": [],
   "source": [
    "model.compile(loss=tf.losses.MeanSquaredError(), optimizer=optimizer, metrics=['accuracy'])"
   ]
  },
  {
   "cell_type": "code",
   "execution_count": 10,
   "metadata": {},
   "outputs": [
    {
     "name": "stdout",
     "output_type": "stream",
     "text": [
      "Epoch 1/100\n"
     ]
    },
    {
     "name": "stderr",
     "output_type": "stream",
     "text": [
      "WARNING: All log messages before absl::InitializeLog() is called are written to STDERR\n",
      "I0000 00:00:1722548214.956641 1911492 service.cc:146] XLA service 0x7ef9a8016630 initialized for platform CUDA (this does not guarantee that XLA will be used). Devices:\n",
      "I0000 00:00:1722548214.956836 1911492 service.cc:154]   StreamExecutor device (0): NVIDIA A100 80GB PCIe, Compute Capability 8.0\n",
      "2024-08-01 21:36:55.397976: I tensorflow/compiler/mlir/tensorflow/utils/dump_mlir_util.cc:268] disabling MLIR crash reproducer, set env var `MLIR_CRASH_REPRODUCER_DIRECTORY` to enable.\n",
      "2024-08-01 21:36:56.686546: I external/local_xla/xla/stream_executor/cuda/cuda_dnn.cc:531] Loaded cuDNN version 8907\n",
      "2024-08-01 21:36:57.661908: W external/local_xla/xla/service/gpu/nvptx_compiler.cc:762] The NVIDIA driver's CUDA version is 12.4 which is older than the ptxas CUDA version (12.5.82). Because the driver is older than the ptxas version, XLA is disabling parallel compilation, which may slow down compilation. You should update your NVIDIA driver or use the NVIDIA-provided CUDA forward compatibility packages.\n",
      "2024-08-01 21:37:06.154025: I external/local_xla/xla/stream_executor/cuda/cuda_asm_compiler.cc:393] ptxas warning : Registers are spilled to local memory in function 'gemm_fusion_dot_841', 4 bytes spill stores, 4 bytes spill loads\n",
      "\n",
      "2024-08-01 21:37:06.920814: I external/local_xla/xla/stream_executor/cuda/cuda_asm_compiler.cc:393] ptxas warning : Registers are spilled to local memory in function 'gemm_fusion_dot_834', 84 bytes spill stores, 84 bytes spill loads\n",
      "\n",
      "2024-08-01 21:37:18.478606: E external/local_xla/xla/service/slow_operation_alarm.cc:65] Trying algorithm eng0{} for conv (f32[250,512,64,64]{3,2,1,0}, u8[0]{0}) custom-call(f32[250,256,64,64]{3,2,1,0}, f32[256,512,3,3]{3,2,1,0}), window={size=3x3 pad=1_1x1_1}, dim_labels=bf01_oi01->bf01, custom_call_target=\"__cudnn$convBackwardInput\", backend_config={\"operation_queue_id\":\"0\",\"wait_on_operation_queues\":[],\"cudnn_conv_backend_config\":{\"conv_result_scale\":1,\"activation_mode\":\"kNone\",\"side_input_scale\":0,\"leakyrelu_alpha\":0},\"force_earliest_schedule\":false} is taking a while...\n",
      "2024-08-01 21:37:22.848594: E external/local_xla/xla/service/slow_operation_alarm.cc:133] The operation took 5.37020328s\n",
      "Trying algorithm eng0{} for conv (f32[250,512,64,64]{3,2,1,0}, u8[0]{0}) custom-call(f32[250,256,64,64]{3,2,1,0}, f32[256,512,3,3]{3,2,1,0}), window={size=3x3 pad=1_1x1_1}, dim_labels=bf01_oi01->bf01, custom_call_target=\"__cudnn$convBackwardInput\", backend_config={\"operation_queue_id\":\"0\",\"wait_on_operation_queues\":[],\"cudnn_conv_backend_config\":{\"conv_result_scale\":1,\"activation_mode\":\"kNone\",\"side_input_scale\":0,\"leakyrelu_alpha\":0},\"force_earliest_schedule\":false} is taking a while...\n",
      "WARNING: All log messages before absl::InitializeLog() is called are written to STDERR\n",
      "E0000 00:00:1722548246.757350 1911492 gpu_timer.cc:183] Delay kernel timed out: measured time has sub-optimal accuracy. There may be a missing warmup execution, please investigate in Nsight Systems.\n",
      "E0000 00:00:1722548246.944870 1911492 gpu_timer.cc:183] Delay kernel timed out: measured time has sub-optimal accuracy. There may be a missing warmup execution, please investigate in Nsight Systems.\n",
      "2024-08-01 21:37:34.140461: E external/local_xla/xla/service/slow_operation_alarm.cc:65] Trying algorithm eng0{} for conv (f32[256,512,3,3]{3,2,1,0}, u8[0]{0}) custom-call(f32[250,512,64,64]{3,2,1,0}, f32[250,256,64,64]{3,2,1,0}), window={size=3x3 pad=1_1x1_1}, dim_labels=bf01_oi01->bf01, custom_call_target=\"__cudnn$convBackwardFilter\", backend_config={\"operation_queue_id\":\"0\",\"wait_on_operation_queues\":[],\"cudnn_conv_backend_config\":{\"conv_result_scale\":1,\"activation_mode\":\"kNone\",\"side_input_scale\":0,\"leakyrelu_alpha\":0},\"force_earliest_schedule\":false} is taking a while...\n",
      "2024-08-01 21:37:42.240634: E external/local_xla/xla/service/slow_operation_alarm.cc:133] The operation took 9.10039986s\n",
      "Trying algorithm eng0{} for conv (f32[256,512,3,3]{3,2,1,0}, u8[0]{0}) custom-call(f32[250,512,64,64]{3,2,1,0}, f32[250,256,64,64]{3,2,1,0}), window={size=3x3 pad=1_1x1_1}, dim_labels=bf01_oi01->bf01, custom_call_target=\"__cudnn$convBackwardFilter\", backend_config={\"operation_queue_id\":\"0\",\"wait_on_operation_queues\":[],\"cudnn_conv_backend_config\":{\"conv_result_scale\":1,\"activation_mode\":\"kNone\",\"side_input_scale\":0,\"leakyrelu_alpha\":0},\"force_earliest_schedule\":false} is taking a while...\n",
      "2024-08-01 21:37:44.748818: E external/local_xla/xla/service/slow_operation_alarm.cc:65] Trying algorithm eng18{k11=2} for conv (f32[256,512,3,3]{3,2,1,0}, u8[0]{0}) custom-call(f32[250,512,64,64]{3,2,1,0}, f32[250,256,64,64]{3,2,1,0}), window={size=3x3 pad=1_1x1_1}, dim_labels=bf01_oi01->bf01, custom_call_target=\"__cudnn$convBackwardFilter\", backend_config={\"operation_queue_id\":\"0\",\"wait_on_operation_queues\":[],\"cudnn_conv_backend_config\":{\"conv_result_scale\":1,\"activation_mode\":\"kNone\",\"side_input_scale\":0,\"leakyrelu_alpha\":0},\"force_earliest_schedule\":false} is taking a while...\n",
      "2024-08-01 21:37:44.791058: E external/local_xla/xla/service/slow_operation_alarm.cc:133] The operation took 1.042383117s\n",
      "Trying algorithm eng18{k11=2} for conv (f32[256,512,3,3]{3,2,1,0}, u8[0]{0}) custom-call(f32[250,512,64,64]{3,2,1,0}, f32[250,256,64,64]{3,2,1,0}), window={size=3x3 pad=1_1x1_1}, dim_labels=bf01_oi01->bf01, custom_call_target=\"__cudnn$convBackwardFilter\", backend_config={\"operation_queue_id\":\"0\",\"wait_on_operation_queues\":[],\"cudnn_conv_backend_config\":{\"conv_result_scale\":1,\"activation_mode\":\"kNone\",\"side_input_scale\":0,\"leakyrelu_alpha\":0},\"force_earliest_schedule\":false} is taking a while...\n"
     ]
    },
    {
     "name": "stdout",
     "output_type": "stream",
     "text": [
      "\u001b[1m   1/1600\u001b[0m \u001b[37m━━━━━━━━━━━━━━━━━━━━\u001b[0m \u001b[1m42:10:58\u001b[0m 95s/step - accuracy: 0.5707 - loss: 0.1568"
     ]
    },
    {
     "name": "stderr",
     "output_type": "stream",
     "text": [
      "I0000 00:00:1722548277.977423 1911492 device_compiler.h:188] Compiled cluster using XLA!  This line is logged at most once for the lifetime of the process.\n"
     ]
    },
    {
     "name": "stdout",
     "output_type": "stream",
     "text": [
      "\u001b[1m1600/1600\u001b[0m \u001b[32m━━━━━━━━━━━━━━━━━━━━\u001b[0m\u001b[37m\u001b[0m \u001b[1m287s\u001b[0m 120ms/step - accuracy: 0.4230 - loss: 1.0759 - val_accuracy: 0.5288 - val_loss: 0.0757\n",
      "Epoch 2/100\n",
      "\u001b[1m1600/1600\u001b[0m \u001b[32m━━━━━━━━━━━━━━━━━━━━\u001b[0m\u001b[37m\u001b[0m \u001b[1m182s\u001b[0m 114ms/step - accuracy: 0.4119 - loss: 0.0760 - val_accuracy: 0.3528 - val_loss: 0.0757\n",
      "Epoch 3/100\n",
      "\u001b[1m1600/1600\u001b[0m \u001b[32m━━━━━━━━━━━━━━━━━━━━\u001b[0m\u001b[37m\u001b[0m \u001b[1m183s\u001b[0m 114ms/step - accuracy: 0.4167 - loss: 0.0760 - val_accuracy: 0.4378 - val_loss: 0.0757\n",
      "Epoch 4/100\n",
      "\u001b[1m1600/1600\u001b[0m \u001b[32m━━━━━━━━━━━━━━━━━━━━\u001b[0m\u001b[37m\u001b[0m \u001b[1m183s\u001b[0m 114ms/step - accuracy: 0.4565 - loss: 0.0760 - val_accuracy: 0.5871 - val_loss: 0.0757\n",
      "Epoch 5/100\n",
      "\u001b[1m1600/1600\u001b[0m \u001b[32m━━━━━━━━━━━━━━━━━━━━\u001b[0m\u001b[37m\u001b[0m \u001b[1m185s\u001b[0m 115ms/step - accuracy: 0.5782 - loss: 0.0760 - val_accuracy: 0.5789 - val_loss: 0.0757\n",
      "Epoch 6/100\n",
      "\u001b[1m1600/1600\u001b[0m \u001b[32m━━━━━━━━━━━━━━━━━━━━\u001b[0m\u001b[37m\u001b[0m \u001b[1m183s\u001b[0m 115ms/step - accuracy: 0.5808 - loss: 0.0760 - val_accuracy: 0.5118 - val_loss: 0.0758\n",
      "Epoch 7/100\n",
      "\u001b[1m1600/1600\u001b[0m \u001b[32m━━━━━━━━━━━━━━━━━━━━\u001b[0m\u001b[37m\u001b[0m \u001b[1m183s\u001b[0m 114ms/step - accuracy: 0.5791 - loss: 0.0760 - val_accuracy: 0.4532 - val_loss: 0.0757\n",
      "Epoch 8/100\n",
      "\u001b[1m1600/1600\u001b[0m \u001b[32m━━━━━━━━━━━━━━━━━━━━\u001b[0m\u001b[37m\u001b[0m \u001b[1m183s\u001b[0m 114ms/step - accuracy: 0.5799 - loss: 0.0760 - val_accuracy: 0.5285 - val_loss: 0.0757\n",
      "Epoch 9/100\n",
      "\u001b[1m1600/1600\u001b[0m \u001b[32m━━━━━━━━━━━━━━━━━━━━\u001b[0m\u001b[37m\u001b[0m \u001b[1m183s\u001b[0m 114ms/step - accuracy: 0.5780 - loss: 0.0760 - val_accuracy: 0.5118 - val_loss: 0.0758\n",
      "Epoch 10/100\n",
      "\u001b[1m1600/1600\u001b[0m \u001b[32m━━━━━━━━━━━━━━━━━━━━\u001b[0m\u001b[37m\u001b[0m \u001b[1m182s\u001b[0m 114ms/step - accuracy: 0.5798 - loss: 0.0760 - val_accuracy: 0.5118 - val_loss: 0.0758\n",
      "Epoch 11/100\n",
      "\u001b[1m1600/1600\u001b[0m \u001b[32m━━━━━━━━━━━━━━━━━━━━\u001b[0m\u001b[37m\u001b[0m \u001b[1m183s\u001b[0m 114ms/step - accuracy: 0.5787 - loss: 0.0760 - val_accuracy: 0.4532 - val_loss: 0.0758\n",
      "Epoch 12/100\n",
      "\u001b[1m1600/1600\u001b[0m \u001b[32m━━━━━━━━━━━━━━━━━━━━\u001b[0m\u001b[37m\u001b[0m \u001b[1m183s\u001b[0m 114ms/step - accuracy: 0.5790 - loss: 0.0760 - val_accuracy: 0.5871 - val_loss: 0.0757\n",
      "Epoch 13/100\n",
      "\u001b[1m1600/1600\u001b[0m \u001b[32m━━━━━━━━━━━━━━━━━━━━\u001b[0m\u001b[37m\u001b[0m \u001b[1m183s\u001b[0m 114ms/step - accuracy: 0.5793 - loss: 0.0760 - val_accuracy: 0.4532 - val_loss: 0.0757\n",
      "Epoch 14/100\n",
      "\u001b[1m1600/1600\u001b[0m \u001b[32m━━━━━━━━━━━━━━━━━━━━\u001b[0m\u001b[37m\u001b[0m \u001b[1m182s\u001b[0m 114ms/step - accuracy: 0.5793 - loss: 0.0760 - val_accuracy: 0.5871 - val_loss: 0.0758\n",
      "Epoch 15/100\n",
      "\u001b[1m1600/1600\u001b[0m \u001b[32m━━━━━━━━━━━━━━━━━━━━\u001b[0m\u001b[37m\u001b[0m \u001b[1m182s\u001b[0m 114ms/step - accuracy: 0.5814 - loss: 0.0760 - val_accuracy: 0.4532 - val_loss: 0.0758\n",
      "Epoch 16/100\n",
      "\u001b[1m1600/1600\u001b[0m \u001b[32m━━━━━━━━━━━━━━━━━━━━\u001b[0m\u001b[37m\u001b[0m \u001b[1m183s\u001b[0m 114ms/step - accuracy: 0.5773 - loss: 0.0760 - val_accuracy: 0.5118 - val_loss: 0.0758\n",
      "Epoch 17/100\n",
      "\u001b[1m1600/1600\u001b[0m \u001b[32m━━━━━━━━━━━━━━━━━━━━\u001b[0m\u001b[37m\u001b[0m \u001b[1m183s\u001b[0m 114ms/step - accuracy: 0.5814 - loss: 0.0760 - val_accuracy: 0.5118 - val_loss: 0.0758\n",
      "Epoch 18/100\n",
      "\u001b[1m1600/1600\u001b[0m \u001b[32m━━━━━━━━━━━━━━━━━━━━\u001b[0m\u001b[37m\u001b[0m \u001b[1m182s\u001b[0m 114ms/step - accuracy: 0.5776 - loss: 0.0760 - val_accuracy: 0.5118 - val_loss: 0.0758\n",
      "Epoch 19/100\n",
      "\u001b[1m1600/1600\u001b[0m \u001b[32m━━━━━━━━━━━━━━━━━━━━\u001b[0m\u001b[37m\u001b[0m \u001b[1m182s\u001b[0m 114ms/step - accuracy: 0.5802 - loss: 0.0760 - val_accuracy: 0.5118 - val_loss: 0.0758\n",
      "Epoch 20/100\n",
      "\u001b[1m1600/1600\u001b[0m \u001b[32m━━━━━━━━━━━━━━━━━━━━\u001b[0m\u001b[37m\u001b[0m \u001b[1m183s\u001b[0m 114ms/step - accuracy: 0.5798 - loss: 0.0760 - val_accuracy: 0.5871 - val_loss: 0.0757\n",
      "Epoch 21/100\n",
      "\u001b[1m1600/1600\u001b[0m \u001b[32m━━━━━━━━━━━━━━━━━━━━\u001b[0m\u001b[37m\u001b[0m \u001b[1m182s\u001b[0m 114ms/step - accuracy: 0.5787 - loss: 0.0760 - val_accuracy: 0.5118 - val_loss: 0.0757\n",
      "Epoch 22/100\n",
      "\u001b[1m1600/1600\u001b[0m \u001b[32m━━━━━━━━━━━━━━━━━━━━\u001b[0m\u001b[37m\u001b[0m \u001b[1m183s\u001b[0m 114ms/step - accuracy: 0.5822 - loss: 0.0760 - val_accuracy: 0.5118 - val_loss: 0.0758\n",
      "Epoch 23/100\n",
      "\u001b[1m1600/1600\u001b[0m \u001b[32m━━━━━━━━━━━━━━━━━━━━\u001b[0m\u001b[37m\u001b[0m \u001b[1m182s\u001b[0m 114ms/step - accuracy: 0.5764 - loss: 0.0760 - val_accuracy: 0.5118 - val_loss: 0.0757\n",
      "Epoch 24/100\n",
      "\u001b[1m1600/1600\u001b[0m \u001b[32m━━━━━━━━━━━━━━━━━━━━\u001b[0m\u001b[37m\u001b[0m \u001b[1m182s\u001b[0m 114ms/step - accuracy: 0.5752 - loss: 0.0760 - val_accuracy: 0.5871 - val_loss: 0.0758\n",
      "Epoch 25/100\n",
      "\u001b[1m1600/1600\u001b[0m \u001b[32m━━━━━━━━━━━━━━━━━━━━\u001b[0m\u001b[37m\u001b[0m \u001b[1m183s\u001b[0m 114ms/step - accuracy: 0.5763 - loss: 0.0760 - val_accuracy: 0.5118 - val_loss: 0.0758\n",
      "Epoch 26/100\n",
      "\u001b[1m1600/1600\u001b[0m \u001b[32m━━━━━━━━━━━━━━━━━━━━\u001b[0m\u001b[37m\u001b[0m \u001b[1m183s\u001b[0m 114ms/step - accuracy: 0.5765 - loss: 0.0760 - val_accuracy: 0.5871 - val_loss: 0.0758\n",
      "Epoch 27/100\n",
      "\u001b[1m1600/1600\u001b[0m \u001b[32m━━━━━━━━━━━━━━━━━━━━\u001b[0m\u001b[37m\u001b[0m \u001b[1m183s\u001b[0m 114ms/step - accuracy: 0.5812 - loss: 0.0760 - val_accuracy: 0.5118 - val_loss: 0.0757\n",
      "Epoch 28/100\n",
      "\u001b[1m1600/1600\u001b[0m \u001b[32m━━━━━━━━━━━━━━━━━━━━\u001b[0m\u001b[37m\u001b[0m \u001b[1m183s\u001b[0m 114ms/step - accuracy: 0.5804 - loss: 0.0760 - val_accuracy: 0.5118 - val_loss: 0.0758\n",
      "Epoch 29/100\n",
      "\u001b[1m1600/1600\u001b[0m \u001b[32m━━━━━━━━━━━━━━━━━━━━\u001b[0m\u001b[37m\u001b[0m \u001b[1m183s\u001b[0m 114ms/step - accuracy: 0.5754 - loss: 0.0760 - val_accuracy: 0.4532 - val_loss: 0.0757\n",
      "Epoch 30/100\n",
      "\u001b[1m1600/1600\u001b[0m \u001b[32m━━━━━━━━━━━━━━━━━━━━\u001b[0m\u001b[37m\u001b[0m \u001b[1m183s\u001b[0m 114ms/step - accuracy: 0.5713 - loss: 0.0760 - val_accuracy: 0.4532 - val_loss: 0.0758\n",
      "Epoch 31/100\n",
      "\u001b[1m1600/1600\u001b[0m \u001b[32m━━━━━━━━━━━━━━━━━━━━\u001b[0m\u001b[37m\u001b[0m \u001b[1m183s\u001b[0m 114ms/step - accuracy: 0.5812 - loss: 0.0760 - val_accuracy: 0.5118 - val_loss: 0.0758\n",
      "Epoch 32/100\n",
      "\u001b[1m1600/1600\u001b[0m \u001b[32m━━━━━━━━━━━━━━━━━━━━\u001b[0m\u001b[37m\u001b[0m \u001b[1m183s\u001b[0m 114ms/step - accuracy: 0.5788 - loss: 0.0760 - val_accuracy: 0.5118 - val_loss: 0.0758\n",
      "Epoch 33/100\n",
      "\u001b[1m1600/1600\u001b[0m \u001b[32m━━━━━━━━━━━━━━━━━━━━\u001b[0m\u001b[37m\u001b[0m \u001b[1m182s\u001b[0m 114ms/step - accuracy: 0.5638 - loss: 0.1152 - val_accuracy: 0.6121 - val_loss: 0.0757\n",
      "Epoch 34/100\n",
      "\u001b[1m1600/1600\u001b[0m \u001b[32m━━━━━━━━━━━━━━━━━━━━\u001b[0m\u001b[37m\u001b[0m \u001b[1m182s\u001b[0m 114ms/step - accuracy: 0.5792 - loss: 0.0760 - val_accuracy: 0.5853 - val_loss: 0.0757\n",
      "Epoch 35/100\n",
      "\u001b[1m1600/1600\u001b[0m \u001b[32m━━━━━━━━━━━━━━━━━━━━\u001b[0m\u001b[37m\u001b[0m \u001b[1m182s\u001b[0m 114ms/step - accuracy: 0.5789 - loss: 0.0760 - val_accuracy: 0.5285 - val_loss: 0.0757\n",
      "Epoch 36/100\n",
      "\u001b[1m1600/1600\u001b[0m \u001b[32m━━━━━━━━━━━━━━━━━━━━\u001b[0m\u001b[37m\u001b[0m \u001b[1m182s\u001b[0m 114ms/step - accuracy: 0.5791 - loss: 0.0760 - val_accuracy: 0.5118 - val_loss: 0.0757\n",
      "Epoch 37/100\n",
      "\u001b[1m1600/1600\u001b[0m \u001b[32m━━━━━━━━━━━━━━━━━━━━\u001b[0m\u001b[37m\u001b[0m \u001b[1m182s\u001b[0m 114ms/step - accuracy: 0.5829 - loss: 0.0760 - val_accuracy: 0.5118 - val_loss: 0.0757\n",
      "Epoch 38/100\n",
      "\u001b[1m1600/1600\u001b[0m \u001b[32m━━━━━━━━━━━━━━━━━━━━\u001b[0m\u001b[37m\u001b[0m \u001b[1m181s\u001b[0m 113ms/step - accuracy: 0.5794 - loss: 0.0760 - val_accuracy: 0.5118 - val_loss: 0.0758\n",
      "Epoch 39/100\n",
      "\u001b[1m1600/1600\u001b[0m \u001b[32m━━━━━━━━━━━━━━━━━━━━\u001b[0m\u001b[37m\u001b[0m \u001b[1m182s\u001b[0m 113ms/step - accuracy: 0.5754 - loss: 0.0760 - val_accuracy: 0.5118 - val_loss: 0.0758\n",
      "Epoch 40/100\n",
      "\u001b[1m1600/1600\u001b[0m \u001b[32m━━━━━━━━━━━━━━━━━━━━\u001b[0m\u001b[37m\u001b[0m \u001b[1m181s\u001b[0m 113ms/step - accuracy: 0.5748 - loss: 0.0760 - val_accuracy: 0.5284 - val_loss: 0.0758\n",
      "Epoch 41/100\n",
      "\u001b[1m1600/1600\u001b[0m \u001b[32m━━━━━━━━━━━━━━━━━━━━\u001b[0m\u001b[37m\u001b[0m \u001b[1m181s\u001b[0m 113ms/step - accuracy: 0.5793 - loss: 0.0760 - val_accuracy: 0.5118 - val_loss: 0.0757\n",
      "Epoch 42/100\n",
      "\u001b[1m1600/1600\u001b[0m \u001b[32m━━━━━━━━━━━━━━━━━━━━\u001b[0m\u001b[37m\u001b[0m \u001b[1m182s\u001b[0m 113ms/step - accuracy: 0.5801 - loss: 0.0760 - val_accuracy: 0.5118 - val_loss: 0.0757\n",
      "Epoch 43/100\n",
      "\u001b[1m1600/1600\u001b[0m \u001b[32m━━━━━━━━━━━━━━━━━━━━\u001b[0m\u001b[37m\u001b[0m \u001b[1m181s\u001b[0m 113ms/step - accuracy: 0.5779 - loss: 0.0760 - val_accuracy: 0.5871 - val_loss: 0.0758\n",
      "Epoch 44/100\n",
      "\u001b[1m1600/1600\u001b[0m \u001b[32m━━━━━━━━━━━━━━━━━━━━\u001b[0m\u001b[37m\u001b[0m \u001b[1m181s\u001b[0m 113ms/step - accuracy: 0.5810 - loss: 0.0760 - val_accuracy: 0.5118 - val_loss: 0.0757\n",
      "Epoch 45/100\n",
      "\u001b[1m1600/1600\u001b[0m \u001b[32m━━━━━━━━━━━━━━━━━━━━\u001b[0m\u001b[37m\u001b[0m \u001b[1m182s\u001b[0m 114ms/step - accuracy: 0.5806 - loss: 0.0760 - val_accuracy: 0.5542 - val_loss: 0.0757\n",
      "Epoch 46/100\n",
      "\u001b[1m1600/1600\u001b[0m \u001b[32m━━━━━━━━━━━━━━━━━━━━\u001b[0m\u001b[37m\u001b[0m \u001b[1m182s\u001b[0m 113ms/step - accuracy: 0.5793 - loss: 0.0760 - val_accuracy: 0.5871 - val_loss: 0.0757\n",
      "Epoch 47/100\n",
      "\u001b[1m1600/1600\u001b[0m \u001b[32m━━━━━━━━━━━━━━━━━━━━\u001b[0m\u001b[37m\u001b[0m \u001b[1m181s\u001b[0m 113ms/step - accuracy: 0.5789 - loss: 0.0760 - val_accuracy: 0.5118 - val_loss: 0.0757\n",
      "Epoch 48/100\n",
      "\u001b[1m1600/1600\u001b[0m \u001b[32m━━━━━━━━━━━━━━━━━━━━\u001b[0m\u001b[37m\u001b[0m \u001b[1m182s\u001b[0m 113ms/step - accuracy: 0.5811 - loss: 0.0760 - val_accuracy: 0.4532 - val_loss: 0.0758\n",
      "Epoch 49/100\n",
      "\u001b[1m1600/1600\u001b[0m \u001b[32m━━━━━━━━━━━━━━━━━━━━\u001b[0m\u001b[37m\u001b[0m \u001b[1m182s\u001b[0m 114ms/step - accuracy: 0.5797 - loss: 0.0760 - val_accuracy: 0.5118 - val_loss: 0.0757\n",
      "Epoch 50/100\n",
      "\u001b[1m1600/1600\u001b[0m \u001b[32m━━━━━━━━━━━━━━━━━━━━\u001b[0m\u001b[37m\u001b[0m \u001b[1m182s\u001b[0m 114ms/step - accuracy: 0.5800 - loss: 0.0760 - val_accuracy: 0.4532 - val_loss: 0.0757\n",
      "Epoch 51/100\n",
      "\u001b[1m1600/1600\u001b[0m \u001b[32m━━━━━━━━━━━━━━━━━━━━\u001b[0m\u001b[37m\u001b[0m \u001b[1m182s\u001b[0m 113ms/step - accuracy: 0.5768 - loss: 0.0760 - val_accuracy: 0.5118 - val_loss: 0.0757\n",
      "Epoch 52/100\n",
      "\u001b[1m1600/1600\u001b[0m \u001b[32m━━━━━━━━━━━━━━━━━━━━\u001b[0m\u001b[37m\u001b[0m \u001b[1m182s\u001b[0m 113ms/step - accuracy: 0.5781 - loss: 0.0760 - val_accuracy: 0.5871 - val_loss: 0.0757\n",
      "Epoch 53/100\n",
      "\u001b[1m1600/1600\u001b[0m \u001b[32m━━━━━━━━━━━━━━━━━━━━\u001b[0m\u001b[37m\u001b[0m \u001b[1m182s\u001b[0m 114ms/step - accuracy: 0.5777 - loss: 0.0760 - val_accuracy: 0.5118 - val_loss: 0.0757\n",
      "Epoch 54/100\n",
      "\u001b[1m1600/1600\u001b[0m \u001b[32m━━━━━━━━━━━━━━━━━━━━\u001b[0m\u001b[37m\u001b[0m \u001b[1m182s\u001b[0m 114ms/step - accuracy: 0.5795 - loss: 0.0760 - val_accuracy: 0.5118 - val_loss: 0.0758\n",
      "Epoch 55/100\n",
      "\u001b[1m1600/1600\u001b[0m \u001b[32m━━━━━━━━━━━━━━━━━━━━\u001b[0m\u001b[37m\u001b[0m \u001b[1m182s\u001b[0m 113ms/step - accuracy: 0.5822 - loss: 0.0760 - val_accuracy: 0.5118 - val_loss: 0.0758\n",
      "Epoch 56/100\n",
      "\u001b[1m1600/1600\u001b[0m \u001b[32m━━━━━━━━━━━━━━━━━━━━\u001b[0m\u001b[37m\u001b[0m \u001b[1m182s\u001b[0m 114ms/step - accuracy: 0.5817 - loss: 0.0760 - val_accuracy: 0.5292 - val_loss: 0.0757\n",
      "Epoch 57/100\n",
      "\u001b[1m1600/1600\u001b[0m \u001b[32m━━━━━━━━━━━━━━━━━━━━\u001b[0m\u001b[37m\u001b[0m \u001b[1m182s\u001b[0m 114ms/step - accuracy: 0.5776 - loss: 0.0760 - val_accuracy: 0.5118 - val_loss: 0.0757\n",
      "Epoch 58/100\n",
      "\u001b[1m1600/1600\u001b[0m \u001b[32m━━━━━━━━━━━━━━━━━━━━\u001b[0m\u001b[37m\u001b[0m \u001b[1m182s\u001b[0m 114ms/step - accuracy: 0.5780 - loss: 0.0760 - val_accuracy: 0.5118 - val_loss: 0.0758\n",
      "Epoch 59/100\n",
      "\u001b[1m1600/1600\u001b[0m \u001b[32m━━━━━━━━━━━━━━━━━━━━\u001b[0m\u001b[37m\u001b[0m \u001b[1m182s\u001b[0m 114ms/step - accuracy: 0.5783 - loss: 0.0760 - val_accuracy: 0.4532 - val_loss: 0.0758\n",
      "Epoch 60/100\n",
      "\u001b[1m1600/1600\u001b[0m \u001b[32m━━━━━━━━━━━━━━━━━━━━\u001b[0m\u001b[37m\u001b[0m \u001b[1m182s\u001b[0m 114ms/step - accuracy: 0.5768 - loss: 0.0760 - val_accuracy: 0.5118 - val_loss: 0.0758\n",
      "Epoch 61/100\n",
      "\u001b[1m1600/1600\u001b[0m \u001b[32m━━━━━━━━━━━━━━━━━━━━\u001b[0m\u001b[37m\u001b[0m \u001b[1m182s\u001b[0m 114ms/step - accuracy: 0.5770 - loss: 0.0760 - val_accuracy: 0.4706 - val_loss: 0.0757\n",
      "Epoch 62/100\n",
      "\u001b[1m1600/1600\u001b[0m \u001b[32m━━━━━━━━━━━━━━━━━━━━\u001b[0m\u001b[37m\u001b[0m \u001b[1m182s\u001b[0m 114ms/step - accuracy: 0.5765 - loss: 0.0760 - val_accuracy: 0.5118 - val_loss: 0.0757\n",
      "Epoch 63/100\n",
      "\u001b[1m1600/1600\u001b[0m \u001b[32m━━━━━━━━━━━━━━━━━━━━\u001b[0m\u001b[37m\u001b[0m \u001b[1m182s\u001b[0m 114ms/step - accuracy: 0.5815 - loss: 0.0760 - val_accuracy: 0.5118 - val_loss: 0.0758\n",
      "Epoch 64/100\n",
      "\u001b[1m1600/1600\u001b[0m \u001b[32m━━━━━━━━━━━━━━━━━━━━\u001b[0m\u001b[37m\u001b[0m \u001b[1m182s\u001b[0m 114ms/step - accuracy: 0.5799 - loss: 0.0760 - val_accuracy: 0.5871 - val_loss: 0.0758\n",
      "Epoch 65/100\n",
      "\u001b[1m1600/1600\u001b[0m \u001b[32m━━━━━━━━━━━━━━━━━━━━\u001b[0m\u001b[37m\u001b[0m \u001b[1m182s\u001b[0m 114ms/step - accuracy: 0.5809 - loss: 0.0760 - val_accuracy: 0.4532 - val_loss: 0.0757\n",
      "Epoch 66/100\n",
      "\u001b[1m1600/1600\u001b[0m \u001b[32m━━━━━━━━━━━━━━━━━━━━\u001b[0m\u001b[37m\u001b[0m \u001b[1m182s\u001b[0m 113ms/step - accuracy: 0.5792 - loss: 0.0760 - val_accuracy: 0.5118 - val_loss: 0.0758\n",
      "Epoch 67/100\n",
      "\u001b[1m1600/1600\u001b[0m \u001b[32m━━━━━━━━━━━━━━━━━━━━\u001b[0m\u001b[37m\u001b[0m \u001b[1m182s\u001b[0m 114ms/step - accuracy: 0.5811 - loss: 0.0760 - val_accuracy: 0.5871 - val_loss: 0.0758\n",
      "Epoch 68/100\n",
      "\u001b[1m1600/1600\u001b[0m \u001b[32m━━━━━━━━━━━━━━━━━━━━\u001b[0m\u001b[37m\u001b[0m \u001b[1m182s\u001b[0m 113ms/step - accuracy: 0.5779 - loss: 0.0760 - val_accuracy: 0.5118 - val_loss: 0.0757\n",
      "Epoch 69/100\n",
      "\u001b[1m1600/1600\u001b[0m \u001b[32m━━━━━━━━━━━━━━━━━━━━\u001b[0m\u001b[37m\u001b[0m \u001b[1m182s\u001b[0m 114ms/step - accuracy: 0.5814 - loss: 0.0760 - val_accuracy: 0.4532 - val_loss: 0.0758\n",
      "Epoch 70/100\n",
      "\u001b[1m1600/1600\u001b[0m \u001b[32m━━━━━━━━━━━━━━━━━━━━\u001b[0m\u001b[37m\u001b[0m \u001b[1m182s\u001b[0m 114ms/step - accuracy: 0.5783 - loss: 0.0760 - val_accuracy: 0.5118 - val_loss: 0.0758\n",
      "Epoch 71/100\n",
      "\u001b[1m1600/1600\u001b[0m \u001b[32m━━━━━━━━━━━━━━━━━━━━\u001b[0m\u001b[37m\u001b[0m \u001b[1m182s\u001b[0m 114ms/step - accuracy: 0.5806 - loss: 0.0760 - val_accuracy: 0.5871 - val_loss: 0.0758\n",
      "Epoch 72/100\n",
      "\u001b[1m1600/1600\u001b[0m \u001b[32m━━━━━━━━━━━━━━━━━━━━\u001b[0m\u001b[37m\u001b[0m \u001b[1m182s\u001b[0m 113ms/step - accuracy: 0.5780 - loss: 0.0760 - val_accuracy: 0.4532 - val_loss: 0.0757\n",
      "Epoch 73/100\n",
      "\u001b[1m1600/1600\u001b[0m \u001b[32m━━━━━━━━━━━━━━━━━━━━\u001b[0m\u001b[37m\u001b[0m \u001b[1m182s\u001b[0m 113ms/step - accuracy: 0.5800 - loss: 0.0760 - val_accuracy: 0.4532 - val_loss: 0.0758\n",
      "Epoch 74/100\n",
      "\u001b[1m1600/1600\u001b[0m \u001b[32m━━━━━━━━━━━━━━━━━━━━\u001b[0m\u001b[37m\u001b[0m \u001b[1m182s\u001b[0m 114ms/step - accuracy: 0.5789 - loss: 0.0760 - val_accuracy: 0.5285 - val_loss: 0.0758\n",
      "Epoch 75/100\n",
      "\u001b[1m1600/1600\u001b[0m \u001b[32m━━━━━━━━━━━━━━━━━━━━\u001b[0m\u001b[37m\u001b[0m \u001b[1m191s\u001b[0m 119ms/step - accuracy: 0.5787 - loss: 0.0760 - val_accuracy: 0.4532 - val_loss: 0.0758\n",
      "Epoch 76/100\n",
      "\u001b[1m1600/1600\u001b[0m \u001b[32m━━━━━━━━━━━━━━━━━━━━\u001b[0m\u001b[37m\u001b[0m \u001b[1m183s\u001b[0m 114ms/step - accuracy: 0.5793 - loss: 0.0760 - val_accuracy: 0.5118 - val_loss: 0.0757\n",
      "Epoch 77/100\n",
      "\u001b[1m1600/1600\u001b[0m \u001b[32m━━━━━━━━━━━━━━━━━━━━\u001b[0m\u001b[37m\u001b[0m \u001b[1m183s\u001b[0m 114ms/step - accuracy: 0.5783 - loss: 0.0760 - val_accuracy: 0.5118 - val_loss: 0.0758\n",
      "Epoch 78/100\n",
      "\u001b[1m1600/1600\u001b[0m \u001b[32m━━━━━━━━━━━━━━━━━━━━\u001b[0m\u001b[37m\u001b[0m \u001b[1m185s\u001b[0m 115ms/step - accuracy: 0.5811 - loss: 0.0760 - val_accuracy: 0.4532 - val_loss: 0.0758\n",
      "Epoch 79/100\n",
      "\u001b[1m1600/1600\u001b[0m \u001b[32m━━━━━━━━━━━━━━━━━━━━\u001b[0m\u001b[37m\u001b[0m \u001b[1m183s\u001b[0m 114ms/step - accuracy: 0.5816 - loss: 0.0760 - val_accuracy: 0.5118 - val_loss: 0.0758\n",
      "Epoch 80/100\n",
      "\u001b[1m1600/1600\u001b[0m \u001b[32m━━━━━━━━━━━━━━━━━━━━\u001b[0m\u001b[37m\u001b[0m \u001b[1m184s\u001b[0m 115ms/step - accuracy: 0.5769 - loss: 0.0760 - val_accuracy: 0.5118 - val_loss: 0.0758\n",
      "Epoch 81/100\n",
      "\u001b[1m1600/1600\u001b[0m \u001b[32m━━━━━━━━━━━━━━━━━━━━\u001b[0m\u001b[37m\u001b[0m \u001b[1m185s\u001b[0m 116ms/step - accuracy: 0.5771 - loss: 0.0760 - val_accuracy: 0.4532 - val_loss: 0.0757\n",
      "Epoch 82/100\n",
      "\u001b[1m1600/1600\u001b[0m \u001b[32m━━━━━━━━━━━━━━━━━━━━\u001b[0m\u001b[37m\u001b[0m \u001b[1m183s\u001b[0m 114ms/step - accuracy: 0.5770 - loss: 0.0760 - val_accuracy: 0.5118 - val_loss: 0.0758\n",
      "Epoch 83/100\n",
      "\u001b[1m1600/1600\u001b[0m \u001b[32m━━━━━━━━━━━━━━━━━━━━\u001b[0m\u001b[37m\u001b[0m \u001b[1m184s\u001b[0m 115ms/step - accuracy: 0.5791 - loss: 0.0760 - val_accuracy: 0.5118 - val_loss: 0.0758\n",
      "Epoch 84/100\n",
      "\u001b[1m1600/1600\u001b[0m \u001b[32m━━━━━━━━━━━━━━━━━━━━\u001b[0m\u001b[37m\u001b[0m \u001b[1m186s\u001b[0m 116ms/step - accuracy: 0.5805 - loss: 0.0760 - val_accuracy: 0.5118 - val_loss: 0.0758\n",
      "Epoch 85/100\n",
      "\u001b[1m1600/1600\u001b[0m \u001b[32m━━━━━━━━━━━━━━━━━━━━\u001b[0m\u001b[37m\u001b[0m \u001b[1m182s\u001b[0m 114ms/step - accuracy: 0.5779 - loss: 0.0760 - val_accuracy: 0.5118 - val_loss: 0.0757\n",
      "Epoch 86/100\n",
      "\u001b[1m1600/1600\u001b[0m \u001b[32m━━━━━━━━━━━━━━━━━━━━\u001b[0m\u001b[37m\u001b[0m \u001b[1m183s\u001b[0m 114ms/step - accuracy: 0.5773 - loss: 0.0760 - val_accuracy: 0.5023 - val_loss: 0.0757\n",
      "Epoch 87/100\n",
      "\u001b[1m1600/1600\u001b[0m \u001b[32m━━━━━━━━━━━━━━━━━━━━\u001b[0m\u001b[37m\u001b[0m \u001b[1m185s\u001b[0m 116ms/step - accuracy: 0.5761 - loss: 0.0760 - val_accuracy: 0.5285 - val_loss: 0.0758\n",
      "Epoch 88/100\n",
      "\u001b[1m1600/1600\u001b[0m \u001b[32m━━━━━━━━━━━━━━━━━━━━\u001b[0m\u001b[37m\u001b[0m \u001b[1m183s\u001b[0m 114ms/step - accuracy: 0.5753 - loss: 0.0760 - val_accuracy: 0.5118 - val_loss: 0.0758\n",
      "Epoch 89/100\n",
      "\u001b[1m1600/1600\u001b[0m \u001b[32m━━━━━━━━━━━━━━━━━━━━\u001b[0m\u001b[37m\u001b[0m \u001b[1m182s\u001b[0m 114ms/step - accuracy: 0.5781 - loss: 0.0760 - val_accuracy: 0.5378 - val_loss: 0.0757\n",
      "Epoch 90/100\n",
      "\u001b[1m1600/1600\u001b[0m \u001b[32m━━━━━━━━━━━━━━━━━━━━\u001b[0m\u001b[37m\u001b[0m \u001b[1m184s\u001b[0m 115ms/step - accuracy: 0.5763 - loss: 0.0760 - val_accuracy: 0.4532 - val_loss: 0.0758\n",
      "Epoch 91/100\n",
      "\u001b[1m1600/1600\u001b[0m \u001b[32m━━━━━━━━━━━━━━━━━━━━\u001b[0m\u001b[37m\u001b[0m \u001b[1m183s\u001b[0m 114ms/step - accuracy: 0.5764 - loss: 0.0760 - val_accuracy: 0.4532 - val_loss: 0.0757\n",
      "Epoch 92/100\n",
      "\u001b[1m1600/1600\u001b[0m \u001b[32m━━━━━━━━━━━━━━━━━━━━\u001b[0m\u001b[37m\u001b[0m \u001b[1m182s\u001b[0m 113ms/step - accuracy: 0.5765 - loss: 0.0760 - val_accuracy: 0.5789 - val_loss: 0.0757\n",
      "Epoch 93/100\n",
      "\u001b[1m1600/1600\u001b[0m \u001b[32m━━━━━━━━━━━━━━━━━━━━\u001b[0m\u001b[37m\u001b[0m \u001b[1m183s\u001b[0m 114ms/step - accuracy: 0.5808 - loss: 0.0760 - val_accuracy: 0.4532 - val_loss: 0.0757\n",
      "Epoch 94/100\n",
      "\u001b[1m1600/1600\u001b[0m \u001b[32m━━━━━━━━━━━━━━━━━━━━\u001b[0m\u001b[37m\u001b[0m \u001b[1m182s\u001b[0m 114ms/step - accuracy: 0.5762 - loss: 0.0760 - val_accuracy: 0.5118 - val_loss: 0.0758\n",
      "Epoch 95/100\n",
      "\u001b[1m1600/1600\u001b[0m \u001b[32m━━━━━━━━━━━━━━━━━━━━\u001b[0m\u001b[37m\u001b[0m \u001b[1m182s\u001b[0m 114ms/step - accuracy: 0.5803 - loss: 0.0760 - val_accuracy: 0.5789 - val_loss: 0.0758\n",
      "Epoch 96/100\n",
      "\u001b[1m1600/1600\u001b[0m \u001b[32m━━━━━━━━━━━━━━━━━━━━\u001b[0m\u001b[37m\u001b[0m \u001b[1m182s\u001b[0m 114ms/step - accuracy: 0.5766 - loss: 0.0760 - val_accuracy: 0.5789 - val_loss: 0.0758\n",
      "Epoch 97/100\n",
      "\u001b[1m1600/1600\u001b[0m \u001b[32m━━━━━━━━━━━━━━━━━━━━\u001b[0m\u001b[37m\u001b[0m \u001b[1m183s\u001b[0m 114ms/step - accuracy: 0.5776 - loss: 0.0760 - val_accuracy: 0.5023 - val_loss: 0.0757\n",
      "Epoch 98/100\n",
      "\u001b[1m1600/1600\u001b[0m \u001b[32m━━━━━━━━━━━━━━━━━━━━\u001b[0m\u001b[37m\u001b[0m \u001b[1m182s\u001b[0m 114ms/step - accuracy: 0.5786 - loss: 0.0760 - val_accuracy: 0.5118 - val_loss: 0.0758\n",
      "Epoch 99/100\n",
      "\u001b[1m1600/1600\u001b[0m \u001b[32m━━━━━━━━━━━━━━━━━━━━\u001b[0m\u001b[37m\u001b[0m \u001b[1m183s\u001b[0m 114ms/step - accuracy: 0.5773 - loss: 0.0760 - val_accuracy: 0.5118 - val_loss: 0.0758\n",
      "Epoch 100/100\n",
      "\u001b[1m1600/1600\u001b[0m \u001b[32m━━━━━━━━━━━━━━━━━━━━\u001b[0m\u001b[37m\u001b[0m \u001b[1m182s\u001b[0m 114ms/step - accuracy: 0.5756 - loss: 0.0760 - val_accuracy: 0.6542 - val_loss: 0.0758\n"
     ]
    }
   ],
   "source": [
    "history = model.fit(train_dataset,\n",
    "             validation_data=val_dataset,\n",
    "             batch_size=batch_size,\n",
    "             epochs=100)"
   ]
  },
  {
   "cell_type": "code",
   "execution_count": 11,
   "metadata": {},
   "outputs": [],
   "source": [
    "model.save(\"addeddense_sigmoidlast.keras\")"
   ]
  },
  {
   "cell_type": "code",
   "execution_count": 11,
   "metadata": {},
   "outputs": [
    {
     "name": "stdout",
     "output_type": "stream",
     "text": [
      "\u001b[1m16/16\u001b[0m \u001b[32m━━━━━━━━━━━━━━━━━━━━\u001b[0m\u001b[37m\u001b[0m \u001b[1m11s\u001b[0m 364ms/step\n"
     ]
    }
   ],
   "source": [
    "train_dataset = tf.data.Dataset.from_tensor_slices((train_images, train_boxes))\n",
    "train_dataset = train_dataset.batch(500)\n",
    "\n",
    "inputs,targets = next(iter(train_dataset))\n",
    "# inputs,targets = next(iter(test_dataset))\n",
    "output =model.predict(inputs)"
   ]
  },
  {
   "cell_type": "code",
   "execution_count": 13,
   "metadata": {},
   "outputs": [
    {
     "data": {
      "text/plain": [
       "(array([[[4.6970272e-01, 5.2110720e-01, 5.0765902e-01, 5.5596435e-01],\n",
       "         [4.4477227e-01, 9.9854089e-02, 4.8334906e-01, 1.1297349e-01],\n",
       "         [3.9510608e-01, 2.1971077e-01, 4.2923024e-01, 2.4661343e-01],\n",
       "         [3.5245419e-01, 8.4105217e-01, 3.8758525e-01, 8.6175227e-01],\n",
       "         [8.2565486e-01, 2.3828153e-01, 8.4739739e-01, 2.6495022e-01],\n",
       "         [4.4701239e-01, 8.5929942e-01, 4.8605704e-01, 8.7861192e-01],\n",
       "         [1.5950543e-01, 2.0630080e-01, 1.7860192e-01, 2.2709280e-01],\n",
       "         [3.0957844e-02, 3.3569723e-02, 3.4387540e-02, 3.6496188e-02],\n",
       "         [6.2855217e-04, 1.5608283e-03, 6.2188372e-04, 1.4953756e-03],\n",
       "         [4.5723442e-07, 5.9011486e-06, 3.4284034e-07, 4.8631473e-06],\n",
       "         [6.1706109e-22, 1.5095975e-21, 2.1517591e-21, 6.5171690e-21],\n",
       "         [1.0318870e-19, 1.6494774e-21, 2.2127436e-19, 1.1367855e-22]]],\n",
       "       dtype=float32),\n",
       " <tf.Tensor: shape=(1, 12, 4), dtype=float64, numpy=\n",
       " array([[[ 0.34883721,  0.58139535,  0.37984496,  0.6124031 ],\n",
       "         [ 0.33333333,  0.06976744,  0.36434109,  0.10077519],\n",
       "         [ 0.28682171,  0.08527132,  0.31782946,  0.11627907],\n",
       "         [ 0.27131783,  0.95348837,  0.30232558,  0.98449612],\n",
       "         [ 0.92248062,  0.34883721,  0.95348837,  0.37984496],\n",
       "         [ 0.6744186 ,  0.64341085,  0.70542636,  0.6744186 ],\n",
       "         [-0.01550388, -0.01550388, -0.01550388, -0.01550388],\n",
       "         [-0.01550388, -0.01550388, -0.01550388, -0.01550388],\n",
       "         [-0.01550388, -0.01550388, -0.01550388, -0.01550388],\n",
       "         [-0.01550388, -0.01550388, -0.01550388, -0.01550388],\n",
       "         [-0.01550388, -0.01550388, -0.01550388, -0.01550388],\n",
       "         [-0.01550388, -0.01550388, -0.01550388, -0.01550388]]])>)"
      ]
     },
     "execution_count": 13,
     "metadata": {},
     "output_type": "execute_result"
    }
   ],
   "source": [
    "output[1],targets[1]"
   ]
  },
  {
   "cell_type": "code",
   "execution_count": 41,
   "metadata": {},
   "outputs": [
    {
     "data": {
      "image/png": "[encoded data removed]",
      "text/plain": [
       "<Figure size 400x400 with 1 Axes>"
      ]
     },
     "metadata": {},
     "output_type": "display_data"
    },
    {
     "data": {
      "image/png": "[encoded data removed]",
      "text/plain": [
       "<Figure size 400x400 with 1 Axes>"
      ]
     },
     "metadata": {},
     "output_type": "display_data"
    }
   ],
   "source": [
    "import numpy as np\n",
    "import matplotlib.pyplot as plt\n",
    "import tensorflow as tf\n",
    "\n",
    "def visualize_bounding_boxes(image, bounding_boxes):\n",
    "    \"\"\"\n",
    "    Visualizes bounding boxes on an image.\n",
    "\n",
    "    Parameters:\n",
    "    - image: A 3D tensor representing the image.\n",
    "    - bounding_boxes: A 2D tensor representing the bounding box coordinates (x_min, y_min, x_max, y_max).\n",
    "\n",
    "    Returns:\n",
    "    None (displays the image with bounding boxes).\n",
    "    \"\"\"\n",
    "    # Convert to NumPy arrays for easier handling\n",
    "    image_np = image\n",
    "    bounding_boxes_np = bounding_boxes\n",
    "\n",
    "    # print(\"Bounding Boxes Shape:\", bounding_boxes_np.shape)\n",
    "    # print(\"Bounding Boxes:\", bounding_boxes_np)\n",
    "\n",
    "    # Denormalize image if necessary (adjust based on your normalization method)\n",
    "    denormalized_image = image_np  # Modify if normalization was applied during training\n",
    "\n",
    "    # Visualize the image\n",
    "    plt.figure(figsize=(4, 4))\n",
    "    plt.imshow(denormalized_image, cmap='gray')\n",
    "    plt.title(\"Bounding Box Visualization\")\n",
    "\n",
    "    # Plot bounding boxes\n",
    "    for box in bounding_boxes_np:\n",
    "        x_min, y_min, x_max, y_max = box[:4]\n",
    "        rect = plt.Rectangle((x_min * global_max_box_value, y_min * global_max_box_value), (x_max - x_min) * global_max_box_value, (y_max - y_min) * global_max_box_value, \n",
    "                             linewidth=1, edgecolor='red', facecolor='none')\n",
    "        plt.gca().add_patch(rect)\n",
    "\n",
    "    plt.show()\n",
    "\n",
    "# Example usage\n",
    "t = np.random.randint(0,500)\n",
    "# t=4\n",
    "image = tf.convert_to_tensor(inputs[t])\n",
    "predicted_bounding_boxes = output[t].squeeze() # Using predicted bounding boxes\n",
    "ground_truth_bounding_boxes = targets[t].numpy().squeeze()   # Using ground truth bounding boxes\n",
    "\n",
    "visualize_bounding_boxes(image, predicted_bounding_boxes)\n",
    "visualize_bounding_boxes(image, ground_truth_bounding_boxes)\n"
   ]
  }
 ],
 "metadata": {
  "kernelspec": {
   "display_name": "sod",
   "language": "python",
   "name": "python3"
  },
  "language_info": {
   "codemirror_mode": {
    "name": "ipython",
    "version": 3
   },
   "file_extension": ".py",
   "mimetype": "text/x-python",
   "name": "python",
   "nbconvert_exporter": "python",
   "pygments_lexer": "ipython3",
   "version": "undefined.undefined.undefined"
  }
 },
 "nbformat": 4,
 "nbformat_minor": 2
}
