{
 "cells": [
  {
   "cell_type": "code",
   "execution_count": 1,
   "metadata": {},
   "outputs": [
    {
     "name": "stderr",
     "output_type": "stream",
     "text": [
      "2024-07-18 16:10:38.614027: I tensorflow/core/util/port.cc:153] oneDNN custom operations are on. You may see slightly different numerical results due to floating-point round-off errors from different computation orders. To turn them off, set the environment variable `TF_ENABLE_ONEDNN_OPTS=0`.\n",
      "2024-07-18 16:10:38.631251: E external/local_xla/xla/stream_executor/cuda/cuda_fft.cc:485] Unable to register cuFFT factory: Attempting to register factory for plugin cuFFT when one has already been registered\n",
      "2024-07-18 16:10:38.646836: E external/local_xla/xla/stream_executor/cuda/cuda_dnn.cc:8454] Unable to register cuDNN factory: Attempting to register factory for plugin cuDNN when one has already been registered\n",
      "2024-07-18 16:10:38.651692: E external/local_xla/xla/stream_executor/cuda/cuda_blas.cc:1452] Unable to register cuBLAS factory: Attempting to register factory for plugin cuBLAS when one has already been registered\n",
      "2024-07-18 16:10:38.667380: I tensorflow/core/platform/cpu_feature_guard.cc:210] This TensorFlow binary is optimized to use available CPU instructions in performance-critical operations.\n",
      "To enable the following instructions: AVX2 AVX512F AVX512_VNNI AVX512_BF16 FMA, in other operations, rebuild TensorFlow with the appropriate compiler flags.\n",
      "2024-07-18 16:10:39.346821: W tensorflow/compiler/tf2tensorrt/utils/py_utils.cc:38] TF-TRT Warning: Could not find TensorRT\n"
     ]
    },
    {
     "name": "stdout",
     "output_type": "stream",
     "text": [
      "device /gpu:7\n"
     ]
    }
   ],
   "source": [
    "import os\n",
    "import tensorflow as tf\n",
    "\n",
    "# Set CUDA device order and visible devices\n",
    "os.environ[\"CUDA_DEVICE_ORDER\"] = \"PCI_BUS_ID\"\n",
    "os.environ[\"CUDA_VISIBLE_DEVICES\"] = \"0,1,2,3,4,5,6,7,8,9\"\n",
    "\n",
    "# Set the device\n",
    "device = '/cpu:0'\n",
    "if tf.config.experimental.list_physical_devices('GPU'):\n",
    "    try:\n",
    "        # Restrict TensorFlow to only use the second GPU\n",
    "        gpus = tf.config.experimental.list_physical_devices('GPU')\n",
    "        if gpus:\n",
    "            tf.config.experimental.set_visible_devices(gpus[7], 'GPU')\n",
    "            device = '/gpu:7'\n",
    "    except RuntimeError as e:\n",
    "        print(e)\n",
    "\n",
    "print(\"device\", device)"
   ]
  },
  {
   "cell_type": "code",
   "execution_count": 2,
   "metadata": {},
   "outputs": [],
   "source": [
    "import numpy as np\n",
    "import tensorflow as tf\n",
    "from tensorflow.keras import layers, models\n",
    "from sklearn.model_selection import train_test_split\n",
    "\n",
    "import matplotlib.pyplot as plt\n",
    "import h5py"
   ]
  },
  {
   "cell_type": "code",
   "execution_count": 3,
   "metadata": {},
   "outputs": [
    {
     "name": "stdout",
     "output_type": "stream",
     "text": [
      "Images shape: (60000, 64, 64)\n",
      "Bounding boxes shape: (60000, 12, 5)\n",
      "Centers shape: (60000, 12, 3)\n"
     ]
    }
   ],
   "source": [
    "    \n",
    "import h5py\n",
    "import numpy as np\n",
    "\n",
    "def load_data(file_path, num_images):\n",
    "    images = []\n",
    "    bounding_boxes = []\n",
    "    centers = []\n",
    "\n",
    "    with h5py.File(file_path, 'r') as h5file:\n",
    "        for i in range(num_images):\n",
    "            # Load image data\n",
    "            image_dataset = f'image_{i}_image'\n",
    "            image_data = np.array(h5file[image_dataset])\n",
    "            images.append(image_data)\n",
    "\n",
    "            # Load bounding boxes\n",
    "            bbox_dataset = f'image_{i}_bounding_boxes_training'\n",
    "            bbox_data = np.array(h5file[bbox_dataset])\n",
    "            bounding_boxes.append(bbox_data)\n",
    "\n",
    "            # Load center positions\n",
    "            center_dataset = f'image_{i}_center_positions_training'\n",
    "            center_data = np.array(h5file[center_dataset])\n",
    "            centers.append(center_data)\n",
    "\n",
    "    # Convert lists to NumPy arrays for easier handling in deep learning pipelines\n",
    "    images = np.array(images)\n",
    "    bounding_boxes = np.array(bounding_boxes)\n",
    "    centers = np.array(centers)\n",
    "\n",
    "    return images, bounding_boxes, centers\n",
    "\n",
    "# Example usage\n",
    "file_path = '/home/da886/ElectronCountingProject/60KImages_64x64Training10electronhits.h5'\n",
    "num_images = 60000 ####60000\n",
    "\n",
    "images, bounding_boxes, centers = load_data(file_path, num_images)\n",
    "\n",
    "# Verify shapes\n",
    "print(f'Images shape: {images.shape}')\n",
    "print(f'Bounding boxes shape: {bounding_boxes.shape}')\n",
    "print(f'Centers shape: {centers.shape}')\n",
    "\n"
   ]
  },
  {
   "cell_type": "code",
   "execution_count": null,
   "metadata": {},
   "outputs": [],
   "source": [
    "images"
   ]
  },
  {
   "cell_type": "code",
   "execution_count": 4,
   "metadata": {},
   "outputs": [
    {
     "name": "stderr",
     "output_type": "stream",
     "text": [
      "2024-07-18 16:11:38.474288: I tensorflow/core/common_runtime/gpu/gpu_device.cc:2021] Created device /job:localhost/replica:0/task:0/device:GPU:0 with 79078 MB memory:  -> device: 7, name: NVIDIA A100 80GB PCIe, pci bus id: 0000:c9:00.0, compute capability: 8.0\n"
     ]
    }
   ],
   "source": [
    "image_normalized = (images + 1e-9) / 64\n",
    "# normalized_boxes = boxes / [1, 64, 64, 64, 64]\n",
    "\n",
    "images_np = image_normalized\n",
    "center_coordinates = centers / [1,64, 64]  # Normalizing the center coordinates\n",
    "probabilities = np.array(center_coordinates[:,:, :-2])\n",
    "probabilities = tf.expand_dims(probabilities, axis=1)\n",
    "center_coordinates_np = np.array(center_coordinates[:, :, 1:])\n",
    "center_coordinates_np = tf.expand_dims(center_coordinates_np, axis=1)\n"
   ]
  },
  {
   "cell_type": "code",
   "execution_count": 10,
   "metadata": {},
   "outputs": [
    {
     "data": {
      "text/plain": [
       "<matplotlib.colorbar.Colorbar at 0x7f8c4c18f7d0>"
      ]
     },
     "execution_count": 10,
     "metadata": {},
     "output_type": "execute_result"
    },
    {
     "data": {
      "image/png": "[encoded data removed]",
      "text/plain": [
       "<Figure size 640x480 with 2 Axes>"
      ]
     },
     "metadata": {},
     "output_type": "display_data"
    }
   ],
   "source": [
    "b= np.random.randint(0,100)\n",
    "plt.imshow(images_np[b])\n",
    "plt.colorbar()"
   ]
  },
  {
   "cell_type": "code",
   "execution_count": 11,
   "metadata": {},
   "outputs": [],
   "source": [
    "batch_size = 128\n",
    "dataset = tf.data.Dataset.from_tensor_slices((images_np, {'x_prob_reshape': probabilities, 'x_midpoints_reshape': center_coordinates_np}))\n",
    "dataset = dataset.shuffle(buffer_size=10000,reshuffle_each_iteration=True).batch(batch_size) "
   ]
  },
  {
   "cell_type": "code",
   "execution_count": 65,
   "metadata": {},
   "outputs": [],
   "source": [
    "\n",
    "# with h5py.File('/home/da886/ElectronCountingProject/final_combined_images_bboxes.h5', 'r') as hdf:\n",
    "#     ls = list(hdf.keys())\n",
    "#     images = hdf.get('images')\n",
    "#     # boxes = hdf.get('boxes')\n",
    "#     center_coordinates = hdf.get('center_coordinates')\n",
    "#     images = np.array(images)\n",
    "#     # boxes = np.array(boxes)\n",
    "#     center_coordinates = np.array(center_coordinates)\n"
   ]
  },
  {
   "cell_type": "code",
   "execution_count": 12,
   "metadata": {},
   "outputs": [
    {
     "data": {
      "text/plain": [
       "array([[[1.       , 0.8046875, 0.1640625],\n",
       "        [1.       , 0.8515625, 0.2109375],\n",
       "        [1.       , 0.1015625, 0.3046875],\n",
       "        ...,\n",
       "        [0.       , 0.       , 0.       ],\n",
       "        [0.       , 0.       , 0.       ],\n",
       "        [0.       , 0.       , 0.       ]],\n",
       "\n",
       "       [[1.       , 0.4140625, 0.4140625],\n",
       "        [1.       , 0.1015625, 0.4765625],\n",
       "        [1.       , 0.0859375, 0.2109375],\n",
       "        ...,\n",
       "        [0.       , 0.       , 0.       ],\n",
       "        [0.       , 0.       , 0.       ],\n",
       "        [0.       , 0.       , 0.       ]],\n",
       "\n",
       "       [[1.       , 0.0703125, 0.5859375],\n",
       "        [1.       , 0.3359375, 0.3359375],\n",
       "        [1.       , 0.7734375, 0.4140625],\n",
       "        ...,\n",
       "        [0.       , 0.       , 0.       ],\n",
       "        [0.       , 0.       , 0.       ],\n",
       "        [0.       , 0.       , 0.       ]],\n",
       "\n",
       "       ...,\n",
       "\n",
       "       [[1.       , 0.2109375, 0.2265625],\n",
       "        [0.       , 0.       , 0.       ],\n",
       "        [0.       , 0.       , 0.       ],\n",
       "        ...,\n",
       "        [0.       , 0.       , 0.       ],\n",
       "        [0.       , 0.       , 0.       ],\n",
       "        [0.       , 0.       , 0.       ]],\n",
       "\n",
       "       [[1.       , 0.8671875, 0.0390625],\n",
       "        [1.       , 0.4453125, 0.1953125],\n",
       "        [1.       , 0.7890625, 0.1328125],\n",
       "        ...,\n",
       "        [0.       , 0.       , 0.       ],\n",
       "        [0.       , 0.       , 0.       ],\n",
       "        [0.       , 0.       , 0.       ]],\n",
       "\n",
       "       [[1.       , 0.5859375, 0.4921875],\n",
       "        [1.       , 0.9140625, 0.4609375],\n",
       "        [1.       , 0.5859375, 0.8984375],\n",
       "        ...,\n",
       "        [0.       , 0.       , 0.       ],\n",
       "        [0.       , 0.       , 0.       ],\n",
       "        [0.       , 0.       , 0.       ]]])"
      ]
     },
     "execution_count": 12,
     "metadata": {},
     "output_type": "execute_result"
    }
   ],
   "source": [
    "center_coordinates"
   ]
  },
  {
   "cell_type": "code",
   "execution_count": 18,
   "metadata": {},
   "outputs": [
    {
     "name": "stderr",
     "output_type": "stream",
     "text": [
      "2024-07-15 22:00:23.976879: I tensorflow/core/common_runtime/gpu/gpu_device.cc:2021] Created device /job:localhost/replica:0/task:0/device:GPU:0 with 79078 MB memory:  -> device: 7, name: NVIDIA A100 80GB PCIe, pci bus id: 0000:c9:00.0, compute capability: 8.0\n"
     ]
    }
   ],
   "source": [
    "\n",
    "# image_normalized = (images + 1e-9) / 64\n",
    "# # normalized_boxes = boxes / [1, 64, 64, 64, 64]\n",
    "\n",
    "# images_np = image_normalized\n",
    "# center_coordinates = center_coordinates / [1,64, 64]  # Normalizing the center coordinates\n",
    "# probabilities = np.array(center_coordinates[:,:, :-2])\n",
    "# probabilities = tf.expand_dims(probabilities, axis=1)\n",
    "# center_coordinates_np = np.array(center_coordinates[:, :, 1:])\n",
    "# center_coordinates_np = tf.expand_dims(center_coordinates_np, axis=1)\n",
    "# batch_size = 128\n",
    "# dataset = tf.data.Dataset.from_tensor_slices((images_np, {'x_prob_reshape': probabilities, 'x_midpoints_reshape': center_coordinates_np}))\n",
    "# # dataset = dataset.shuffle(buffer_size=10000).batch(batch_size)\n",
    "# total_items = len(images_np)\n",
    "# train_size = int(total_items * 0.9)\n",
    "# test_size = total_items - train_size \n",
    "\n",
    "#     # Splitting the dataset\n",
    "# train_dataset = dataset.take(train_size)\n",
    "# test_dataset = dataset.skip(train_size)\n",
    "\n",
    "\n",
    "# train_dataset = train_dataset.shuffle(buffer_size=train_size,reshuffle_each_iteration=True)\n",
    "# train_dataset = train_dataset.batch(batch_size)\n",
    "# test_dataset = test_dataset.batch(batch_size) "
   ]
  },
  {
   "cell_type": "code",
   "execution_count": 15,
   "metadata": {},
   "outputs": [],
   "source": [
    "from tensorflow.keras import layers\n",
    "from tensorflow.keras.regularizers import l2\n",
    "\n",
    "input_shape = (64, 64, 1)\n",
    "num_classes = 12\n",
    "num_coordinates = 2\n",
    "\n",
    "\n",
    "x_input = layers.Input(shape=input_shape)\n",
    "x = layers.Conv2D(512, kernel_size=3, padding='same', activation='relu', kernel_regularizer=l2(0.01))(x_input)\n",
    "x = layers.MaxPool2D()(x)\n",
    "x = layers.Conv2D(512, kernel_size=3, padding='same', activation='relu',kernel_regularizer=l2(0.01))(x)\n",
    "x = layers.MaxPool2D()(x)\n",
    "x = layers.BatchNormalization()(x) \n",
    "x = layers.Dropout(0.4)(x) \n",
    "\n",
    "x = layers.Flatten()(x)\n",
    "# Probability output\n",
    "x_prob = layers.Dense(num_classes, activation='sigmoid', name='x_prob')(x)\n",
    "x_prob_reshape = layers.Reshape((-1, num_classes, 1), name='x_prob_reshape')(x_prob)\n",
    "\n",
    "# Bounding box output\n",
    "x_midpoints = layers.Dense(num_classes * num_coordinates, activation='sigmoid', name='x_midpoints')(x)\n",
    "x_midpoints_reshape = layers.Reshape((-1, num_classes, num_coordinates), name='x_midpoints_reshape')(x_midpoints)\n",
    "\n",
    "model = tf.keras.models.Model(x_input, [x_prob_reshape,x_midpoints_reshape])\n",
    "optimizer = tf.keras.optimizers.Adam(learning_rate=3e-5) \n"
   ]
  },
  {
   "cell_type": "code",
   "execution_count": 15,
   "metadata": {},
   "outputs": [],
   "source": [
    "# model = tf.keras.models.load_model(\"/home/da886/ElectronCountingProject/10electronhits10000imagesonelayerv3.keras\")  ##### from Jingru's dataset"
   ]
  },
  {
   "cell_type": "code",
   "execution_count": 5,
   "metadata": {},
   "outputs": [],
   "source": [
    "# from tensorflow.keras import layers, callbacks\n",
    "# reduce_lr = callbacks.ReduceLROnPlateau(monitor='loss', factor=0.1, patience=5, min_lr=3e-11, verbose=1)"
   ]
  },
  {
   "cell_type": "code",
   "execution_count": 16,
   "metadata": {},
   "outputs": [],
   "source": [
    "@tf.keras.utils.register_keras_serializable()\n",
    "class MaskedMeanSquaredError(tf.keras.losses.Loss):\n",
    "    def __init__(self, name=\"masked_mse_loss\", **kwargs):\n",
    "        super().__init__(name=name, **kwargs)\n",
    "\n",
    "    def call(self, y_true, y_pred):\n",
    "        # Create mask\n",
    "        mask = tf.reduce_sum(y_true, axis=-1) > 0\n",
    "        mask = tf.cast(mask, tf.float32)\n",
    "        mask = tf.expand_dims(mask, axis=-1)\n",
    "\n",
    "        # Apply mask to the true and predicted values\n",
    "        y_true_masked = y_true * mask\n",
    "        y_pred_masked = y_pred * mask\n",
    "\n",
    "        # Calculate mean squared error\n",
    "        mse = tf.reduce_mean(tf.square(y_true_masked - y_pred_masked), axis=-1)\n",
    "\n",
    "        # Normalize the loss by the number of non-zero elements in the mask\n",
    "        mask_sum = tf.reduce_sum(mask)\n",
    "        masked_loss = tf.reduce_sum(mse) / mask_sum\n",
    "        return masked_loss\n",
    "\n",
    "\n",
    "@tf.keras.utils.register_keras_serializable()\n",
    "class MaskedBinaryCrossentropy(tf.keras.losses.Loss):\n",
    "    def __init__(self, name=\"masked_binary_crossentropy\", **kwargs):\n",
    "        super().__init__(name=name, **kwargs)\n",
    "\n",
    "    def call(self, y_true, y_pred):\n",
    "        # Create mask\n",
    "        mask = tf.reduce_sum(y_true, axis=-1) > 0\n",
    "        mask = tf.cast(mask, tf.float32)\n",
    "        mask = tf.expand_dims(mask, axis=-1)\n",
    "\n",
    "        # Apply mask to the true and predicted values\n",
    "        y_true_masked = y_true * mask\n",
    "        y_pred_masked = y_pred * mask\n",
    "\n",
    "        # Calculate binary cross-entropy\n",
    "        bce = tf.keras.losses.binary_crossentropy(y_true_masked, y_pred_masked)\n",
    "\n",
    "        # Normalize the loss by the number of non-zero elements in the mask\n",
    "        mask_sum = tf.reduce_sum(mask)\n",
    "        masked_loss = tf.reduce_sum(bce) / mask_sum\n",
    "        return masked_loss\n",
    "model.compile(optimizer= optimizer, loss= {'x_prob_reshape': MaskedBinaryCrossentropy(), 'x_midpoints_reshape':MaskedMeanSquaredError()})   \n",
    "# num_epochs = 1000"
   ]
  },
  {
   "cell_type": "code",
   "execution_count": 18,
   "metadata": {},
   "outputs": [],
   "source": [
    "from tensorflow.keras import layers, callbacks\n",
    "# Custom callback to save the model every 10 epochs\n",
    "class CustomModelCheckpoint(callbacks.Callback):\n",
    "    def __init__(self, save_freq, save_path):\n",
    "        super(CustomModelCheckpoint, self).__init__()\n",
    "        self.save_freq = save_freq\n",
    "        self.save_path = save_path\n",
    "\n",
    "    def on_epoch_end(self, epoch, logs=None):\n",
    "        if (epoch + 1) % self.save_freq == 0:\n",
    "            self.model.save(self.save_path.format(epoch=epoch + 1))\n",
    "            print(f\"Model saved at epoch {epoch + 1}\")\n",
    "\n",
    "save_freq = 5  # Save every 10 epochs\n",
    "save_path = \"/home/da886/ElectronCountingProject/Weights from my data/weights for 2 layers 10 electrons with regularizer/modelv1_epoch_{epoch:02d}.h5\"\n",
    "checkpoint_callback = CustomModelCheckpoint(save_freq=save_freq, save_path=save_path)"
   ]
  },
  {
   "cell_type": "code",
   "execution_count": 20,
   "metadata": {},
   "outputs": [
    {
     "name": "stdout",
     "output_type": "stream",
     "text": [
      "Epoch 1/100\n",
      "\u001b[1m469/469\u001b[0m \u001b[32m━━━━━━━━━━━━━━━━━━━━\u001b[0m\u001b[37m\u001b[0m \u001b[1m16s\u001b[0m 35ms/step - loss: 0.0787\n",
      "Epoch 2/100\n",
      "\u001b[1m331/469\u001b[0m \u001b[32m━━━━━━━━━━━━━━\u001b[0m\u001b[37m━━━━━━\u001b[0m \u001b[1m4s\u001b[0m 35ms/step - loss: 0.0768"
     ]
    }
   ],
   "source": [
    "model.fit(dataset,epochs =100,callbacks=[checkpoint_callback])"
   ]
  },
  {
   "cell_type": "code",
   "execution_count": 6,
   "metadata": {},
   "outputs": [],
   "source": [
    "# model.save(\"/home/da886/ElectronCountingProject/Weights from my data/weights for 1 layer 10 electron hits/1layer60000imagesmodelv1.keras\")  ##### Jingrui's\n",
    "model = tf.keras.models.load_model(\"/home/da886/ElectronCountingProject/Weights from my data/weights for 1 layer 10 electron hits/1layer60000imagesmodelv1.keras\") "
   ]
  },
  {
   "cell_type": "code",
   "execution_count": 7,
   "metadata": {},
   "outputs": [
    {
     "name": "stderr",
     "output_type": "stream",
     "text": [
      "WARNING: All log messages before absl::InitializeLog() is called are written to STDERR\n",
      "I0000 00:00:1721318608.449876 1453508 service.cc:146] XLA service 0x7fa6c803f250 initialized for platform CUDA (this does not guarantee that XLA will be used). Devices:\n",
      "I0000 00:00:1721318608.449939 1453508 service.cc:154]   StreamExecutor device (0): NVIDIA A100 80GB PCIe, Compute Capability 8.0\n",
      "2024-07-18 16:03:28.456691: I tensorflow/compiler/mlir/tensorflow/utils/dump_mlir_util.cc:268] disabling MLIR crash reproducer, set env var `MLIR_CRASH_REPRODUCER_DIRECTORY` to enable.\n",
      "2024-07-18 16:03:28.613666: I external/local_xla/xla/stream_executor/cuda/cuda_dnn.cc:531] Loaded cuDNN version 8907\n"
     ]
    },
    {
     "name": "stdout",
     "output_type": "stream",
     "text": [
      "\u001b[1m 1/13\u001b[0m \u001b[32m━\u001b[0m\u001b[37m━━━━━━━━━━━━━━━━━━━\u001b[0m \u001b[1m13s\u001b[0m 1s/step"
     ]
    },
    {
     "name": "stderr",
     "output_type": "stream",
     "text": [
      "2024-07-18 16:03:29.209881: W external/local_xla/xla/service/gpu/nvptx_compiler.cc:762] The NVIDIA driver's CUDA version is 12.4 which is older than the ptxas CUDA version (12.5.82). Because the driver is older than the ptxas version, XLA is disabling parallel compilation, which may slow down compilation. You should update your NVIDIA driver or use the NVIDIA-provided CUDA forward compatibility packages.\n",
      "I0000 00:00:1721318609.264054 1453508 device_compiler.h:188] Compiled cluster using XLA!  This line is logged at most once for the lifetime of the process.\n"
     ]
    },
    {
     "name": "stdout",
     "output_type": "stream",
     "text": [
      "\u001b[1m13/13\u001b[0m \u001b[32m━━━━━━━━━━━━━━━━━━━━\u001b[0m\u001b[37m\u001b[0m \u001b[1m1s\u001b[0m 22ms/step\n"
     ]
    }
   ],
   "source": [
    "dataset = tf.data.Dataset.from_tensor_slices((images_np, {'x_prob_reshape': probabilities, 'x_midpoints_reshape': center_coordinates_np}))\n",
    "# test_dataset = dataset.take(train_size)\n",
    "dataset = dataset.batch(400)\n",
    "inputs,targets = next(iter(dataset))\n",
    "# inputs,targets = next(iter(test_dataset))\n",
    "output =model.predict(inputs)"
   ]
  },
  {
   "cell_type": "code",
   "execution_count": 9,
   "metadata": {},
   "outputs": [
    {
     "ename": "KeyboardInterrupt",
     "evalue": "",
     "output_type": "error",
     "traceback": [
      "\u001b[0;31m---------------------------------------------------------------------------\u001b[0m",
      "\u001b[0;31mKeyboardInterrupt\u001b[0m                         Traceback (most recent call last)",
      "Cell \u001b[0;32mIn[9], line 1\u001b[0m\n\u001b[0;32m----> 1\u001b[0m n \u001b[38;5;241m=\u001b[39m \u001b[43mmodel\u001b[49m\u001b[38;5;241;43m.\u001b[39;49m\u001b[43mevaluate\u001b[49m\u001b[43m(\u001b[49m\u001b[43mdataset\u001b[49m\u001b[43m)\u001b[49m\n",
      "File \u001b[0;32m~/anaconda3/envs/objectdetection/lib/python3.11/site-packages/keras/src/utils/traceback_utils.py:117\u001b[0m, in \u001b[0;36mfilter_traceback.<locals>.error_handler\u001b[0;34m(*args, **kwargs)\u001b[0m\n\u001b[1;32m    115\u001b[0m filtered_tb \u001b[38;5;241m=\u001b[39m \u001b[38;5;28;01mNone\u001b[39;00m\n\u001b[1;32m    116\u001b[0m \u001b[38;5;28;01mtry\u001b[39;00m:\n\u001b[0;32m--> 117\u001b[0m     \u001b[38;5;28;01mreturn\u001b[39;00m \u001b[43mfn\u001b[49m\u001b[43m(\u001b[49m\u001b[38;5;241;43m*\u001b[39;49m\u001b[43margs\u001b[49m\u001b[43m,\u001b[49m\u001b[43m \u001b[49m\u001b[38;5;241;43m*\u001b[39;49m\u001b[38;5;241;43m*\u001b[39;49m\u001b[43mkwargs\u001b[49m\u001b[43m)\u001b[49m\n\u001b[1;32m    118\u001b[0m \u001b[38;5;28;01mexcept\u001b[39;00m \u001b[38;5;167;01mException\u001b[39;00m \u001b[38;5;28;01mas\u001b[39;00m e:\n\u001b[1;32m    119\u001b[0m     filtered_tb \u001b[38;5;241m=\u001b[39m _process_traceback_frames(e\u001b[38;5;241m.\u001b[39m__traceback__)\n",
      "File \u001b[0;32m~/anaconda3/envs/objectdetection/lib/python3.11/site-packages/keras/src/backend/tensorflow/trainer.py:429\u001b[0m, in \u001b[0;36mTensorFlowTrainer.evaluate\u001b[0;34m(self, x, y, batch_size, verbose, sample_weight, steps, callbacks, return_dict, **kwargs)\u001b[0m\n\u001b[1;32m    427\u001b[0m \u001b[38;5;28;01mfor\u001b[39;00m step, iterator \u001b[38;5;129;01min\u001b[39;00m epoch_iterator\u001b[38;5;241m.\u001b[39menumerate_epoch():\n\u001b[1;32m    428\u001b[0m     callbacks\u001b[38;5;241m.\u001b[39mon_test_batch_begin(step)\n\u001b[0;32m--> 429\u001b[0m     logs \u001b[38;5;241m=\u001b[39m \u001b[38;5;28;43mself\u001b[39;49m\u001b[38;5;241;43m.\u001b[39;49m\u001b[43mtest_function\u001b[49m\u001b[43m(\u001b[49m\u001b[43miterator\u001b[49m\u001b[43m)\u001b[49m\n\u001b[1;32m    430\u001b[0m     logs \u001b[38;5;241m=\u001b[39m \u001b[38;5;28mself\u001b[39m\u001b[38;5;241m.\u001b[39m_pythonify_logs(logs)\n\u001b[1;32m    431\u001b[0m     callbacks\u001b[38;5;241m.\u001b[39mon_test_batch_end(step, logs)\n",
      "File \u001b[0;32m~/anaconda3/envs/objectdetection/lib/python3.11/site-packages/tensorflow/python/util/traceback_utils.py:150\u001b[0m, in \u001b[0;36mfilter_traceback.<locals>.error_handler\u001b[0;34m(*args, **kwargs)\u001b[0m\n\u001b[1;32m    148\u001b[0m filtered_tb \u001b[38;5;241m=\u001b[39m \u001b[38;5;28;01mNone\u001b[39;00m\n\u001b[1;32m    149\u001b[0m \u001b[38;5;28;01mtry\u001b[39;00m:\n\u001b[0;32m--> 150\u001b[0m   \u001b[38;5;28;01mreturn\u001b[39;00m \u001b[43mfn\u001b[49m\u001b[43m(\u001b[49m\u001b[38;5;241;43m*\u001b[39;49m\u001b[43margs\u001b[49m\u001b[43m,\u001b[49m\u001b[43m \u001b[49m\u001b[38;5;241;43m*\u001b[39;49m\u001b[38;5;241;43m*\u001b[39;49m\u001b[43mkwargs\u001b[49m\u001b[43m)\u001b[49m\n\u001b[1;32m    151\u001b[0m \u001b[38;5;28;01mexcept\u001b[39;00m \u001b[38;5;167;01mException\u001b[39;00m \u001b[38;5;28;01mas\u001b[39;00m e:\n\u001b[1;32m    152\u001b[0m   filtered_tb \u001b[38;5;241m=\u001b[39m _process_traceback_frames(e\u001b[38;5;241m.\u001b[39m__traceback__)\n",
      "File \u001b[0;32m~/anaconda3/envs/objectdetection/lib/python3.11/site-packages/tensorflow/python/eager/polymorphic_function/polymorphic_function.py:833\u001b[0m, in \u001b[0;36mFunction.__call__\u001b[0;34m(self, *args, **kwds)\u001b[0m\n\u001b[1;32m    830\u001b[0m compiler \u001b[38;5;241m=\u001b[39m \u001b[38;5;124m\"\u001b[39m\u001b[38;5;124mxla\u001b[39m\u001b[38;5;124m\"\u001b[39m \u001b[38;5;28;01mif\u001b[39;00m \u001b[38;5;28mself\u001b[39m\u001b[38;5;241m.\u001b[39m_jit_compile \u001b[38;5;28;01melse\u001b[39;00m \u001b[38;5;124m\"\u001b[39m\u001b[38;5;124mnonXla\u001b[39m\u001b[38;5;124m\"\u001b[39m\n\u001b[1;32m    832\u001b[0m \u001b[38;5;28;01mwith\u001b[39;00m OptionalXlaContext(\u001b[38;5;28mself\u001b[39m\u001b[38;5;241m.\u001b[39m_jit_compile):\n\u001b[0;32m--> 833\u001b[0m   result \u001b[38;5;241m=\u001b[39m \u001b[38;5;28;43mself\u001b[39;49m\u001b[38;5;241;43m.\u001b[39;49m\u001b[43m_call\u001b[49m\u001b[43m(\u001b[49m\u001b[38;5;241;43m*\u001b[39;49m\u001b[43margs\u001b[49m\u001b[43m,\u001b[49m\u001b[43m \u001b[49m\u001b[38;5;241;43m*\u001b[39;49m\u001b[38;5;241;43m*\u001b[39;49m\u001b[43mkwds\u001b[49m\u001b[43m)\u001b[49m\n\u001b[1;32m    835\u001b[0m new_tracing_count \u001b[38;5;241m=\u001b[39m \u001b[38;5;28mself\u001b[39m\u001b[38;5;241m.\u001b[39mexperimental_get_tracing_count()\n\u001b[1;32m    836\u001b[0m without_tracing \u001b[38;5;241m=\u001b[39m (tracing_count \u001b[38;5;241m==\u001b[39m new_tracing_count)\n",
      "File \u001b[0;32m~/anaconda3/envs/objectdetection/lib/python3.11/site-packages/tensorflow/python/eager/polymorphic_function/polymorphic_function.py:919\u001b[0m, in \u001b[0;36mFunction._call\u001b[0;34m(self, *args, **kwds)\u001b[0m\n\u001b[1;32m    913\u001b[0m   \u001b[38;5;66;03m# If we did not create any variables the trace we have is good enough.\u001b[39;00m\n\u001b[1;32m    914\u001b[0m   filtered_flat_args \u001b[38;5;241m=\u001b[39m (\n\u001b[1;32m    915\u001b[0m       \u001b[38;5;28mself\u001b[39m\u001b[38;5;241m.\u001b[39m_concrete_variable_creation_fn\u001b[38;5;241m.\u001b[39mfunction_type\u001b[38;5;241m.\u001b[39munpack_inputs(\n\u001b[1;32m    916\u001b[0m           bound_args\n\u001b[1;32m    917\u001b[0m       )\n\u001b[1;32m    918\u001b[0m   )\n\u001b[0;32m--> 919\u001b[0m   \u001b[38;5;28;01mreturn\u001b[39;00m \u001b[38;5;28;43mself\u001b[39;49m\u001b[38;5;241;43m.\u001b[39;49m\u001b[43m_concrete_variable_creation_fn\u001b[49m\u001b[38;5;241;43m.\u001b[39;49m\u001b[43m_call_flat\u001b[49m\u001b[43m(\u001b[49m\u001b[43m  \u001b[49m\u001b[38;5;66;43;03m# pylint: disable=protected-access\u001b[39;49;00m\n\u001b[1;32m    920\u001b[0m \u001b[43m      \u001b[49m\u001b[43mfiltered_flat_args\u001b[49m\u001b[43m,\u001b[49m\n\u001b[1;32m    921\u001b[0m \u001b[43m      \u001b[49m\u001b[38;5;28;43mself\u001b[39;49m\u001b[38;5;241;43m.\u001b[39;49m\u001b[43m_concrete_variable_creation_fn\u001b[49m\u001b[38;5;241;43m.\u001b[39;49m\u001b[43mcaptured_inputs\u001b[49m\u001b[43m,\u001b[49m\n\u001b[1;32m    922\u001b[0m \u001b[43m  \u001b[49m\u001b[43m)\u001b[49m\n\u001b[1;32m    924\u001b[0m \u001b[38;5;28;01mdef\u001b[39;00m \u001b[38;5;21mfn_with_cond\u001b[39m(inner_args, inner_kwds):\n\u001b[1;32m    925\u001b[0m \u001b[38;5;250m  \u001b[39m\u001b[38;5;124;03m\"\"\"Conditionally runs initialization if it's needed.\"\"\"\u001b[39;00m\n",
      "File \u001b[0;32m~/anaconda3/envs/objectdetection/lib/python3.11/site-packages/tensorflow/python/eager/polymorphic_function/concrete_function.py:1322\u001b[0m, in \u001b[0;36mConcreteFunction._call_flat\u001b[0;34m(self, tensor_inputs, captured_inputs)\u001b[0m\n\u001b[1;32m   1318\u001b[0m possible_gradient_type \u001b[38;5;241m=\u001b[39m gradients_util\u001b[38;5;241m.\u001b[39mPossibleTapeGradientTypes(args)\n\u001b[1;32m   1319\u001b[0m \u001b[38;5;28;01mif\u001b[39;00m (possible_gradient_type \u001b[38;5;241m==\u001b[39m gradients_util\u001b[38;5;241m.\u001b[39mPOSSIBLE_GRADIENT_TYPES_NONE\n\u001b[1;32m   1320\u001b[0m     \u001b[38;5;129;01mand\u001b[39;00m executing_eagerly):\n\u001b[1;32m   1321\u001b[0m   \u001b[38;5;66;03m# No tape is watching; skip to running the function.\u001b[39;00m\n\u001b[0;32m-> 1322\u001b[0m   \u001b[38;5;28;01mreturn\u001b[39;00m \u001b[38;5;28;43mself\u001b[39;49m\u001b[38;5;241;43m.\u001b[39;49m\u001b[43m_inference_function\u001b[49m\u001b[38;5;241;43m.\u001b[39;49m\u001b[43mcall_preflattened\u001b[49m\u001b[43m(\u001b[49m\u001b[43margs\u001b[49m\u001b[43m)\u001b[49m\n\u001b[1;32m   1323\u001b[0m forward_backward \u001b[38;5;241m=\u001b[39m \u001b[38;5;28mself\u001b[39m\u001b[38;5;241m.\u001b[39m_select_forward_and_backward_functions(\n\u001b[1;32m   1324\u001b[0m     args,\n\u001b[1;32m   1325\u001b[0m     possible_gradient_type,\n\u001b[1;32m   1326\u001b[0m     executing_eagerly)\n\u001b[1;32m   1327\u001b[0m forward_function, args_with_tangents \u001b[38;5;241m=\u001b[39m forward_backward\u001b[38;5;241m.\u001b[39mforward()\n",
      "File \u001b[0;32m~/anaconda3/envs/objectdetection/lib/python3.11/site-packages/tensorflow/python/eager/polymorphic_function/atomic_function.py:216\u001b[0m, in \u001b[0;36mAtomicFunction.call_preflattened\u001b[0;34m(self, args)\u001b[0m\n\u001b[1;32m    214\u001b[0m \u001b[38;5;28;01mdef\u001b[39;00m \u001b[38;5;21mcall_preflattened\u001b[39m(\u001b[38;5;28mself\u001b[39m, args: Sequence[core\u001b[38;5;241m.\u001b[39mTensor]) \u001b[38;5;241m-\u001b[39m\u001b[38;5;241m>\u001b[39m Any:\n\u001b[1;32m    215\u001b[0m \u001b[38;5;250m  \u001b[39m\u001b[38;5;124;03m\"\"\"Calls with flattened tensor inputs and returns the structured output.\"\"\"\u001b[39;00m\n\u001b[0;32m--> 216\u001b[0m   flat_outputs \u001b[38;5;241m=\u001b[39m \u001b[38;5;28;43mself\u001b[39;49m\u001b[38;5;241;43m.\u001b[39;49m\u001b[43mcall_flat\u001b[49m\u001b[43m(\u001b[49m\u001b[38;5;241;43m*\u001b[39;49m\u001b[43margs\u001b[49m\u001b[43m)\u001b[49m\n\u001b[1;32m    217\u001b[0m   \u001b[38;5;28;01mreturn\u001b[39;00m \u001b[38;5;28mself\u001b[39m\u001b[38;5;241m.\u001b[39mfunction_type\u001b[38;5;241m.\u001b[39mpack_output(flat_outputs)\n",
      "File \u001b[0;32m~/anaconda3/envs/objectdetection/lib/python3.11/site-packages/tensorflow/python/eager/polymorphic_function/atomic_function.py:251\u001b[0m, in \u001b[0;36mAtomicFunction.call_flat\u001b[0;34m(self, *args)\u001b[0m\n\u001b[1;32m    249\u001b[0m \u001b[38;5;28;01mwith\u001b[39;00m record\u001b[38;5;241m.\u001b[39mstop_recording():\n\u001b[1;32m    250\u001b[0m   \u001b[38;5;28;01mif\u001b[39;00m \u001b[38;5;28mself\u001b[39m\u001b[38;5;241m.\u001b[39m_bound_context\u001b[38;5;241m.\u001b[39mexecuting_eagerly():\n\u001b[0;32m--> 251\u001b[0m     outputs \u001b[38;5;241m=\u001b[39m \u001b[38;5;28;43mself\u001b[39;49m\u001b[38;5;241;43m.\u001b[39;49m\u001b[43m_bound_context\u001b[49m\u001b[38;5;241;43m.\u001b[39;49m\u001b[43mcall_function\u001b[49m\u001b[43m(\u001b[49m\n\u001b[1;32m    252\u001b[0m \u001b[43m        \u001b[49m\u001b[38;5;28;43mself\u001b[39;49m\u001b[38;5;241;43m.\u001b[39;49m\u001b[43mname\u001b[49m\u001b[43m,\u001b[49m\n\u001b[1;32m    253\u001b[0m \u001b[43m        \u001b[49m\u001b[38;5;28;43mlist\u001b[39;49m\u001b[43m(\u001b[49m\u001b[43margs\u001b[49m\u001b[43m)\u001b[49m\u001b[43m,\u001b[49m\n\u001b[1;32m    254\u001b[0m \u001b[43m        \u001b[49m\u001b[38;5;28;43mlen\u001b[39;49m\u001b[43m(\u001b[49m\u001b[38;5;28;43mself\u001b[39;49m\u001b[38;5;241;43m.\u001b[39;49m\u001b[43mfunction_type\u001b[49m\u001b[38;5;241;43m.\u001b[39;49m\u001b[43mflat_outputs\u001b[49m\u001b[43m)\u001b[49m\u001b[43m,\u001b[49m\n\u001b[1;32m    255\u001b[0m \u001b[43m    \u001b[49m\u001b[43m)\u001b[49m\n\u001b[1;32m    256\u001b[0m   \u001b[38;5;28;01melse\u001b[39;00m:\n\u001b[1;32m    257\u001b[0m     outputs \u001b[38;5;241m=\u001b[39m make_call_op_in_graph(\n\u001b[1;32m    258\u001b[0m         \u001b[38;5;28mself\u001b[39m,\n\u001b[1;32m    259\u001b[0m         \u001b[38;5;28mlist\u001b[39m(args),\n\u001b[1;32m    260\u001b[0m         \u001b[38;5;28mself\u001b[39m\u001b[38;5;241m.\u001b[39m_bound_context\u001b[38;5;241m.\u001b[39mfunction_call_options\u001b[38;5;241m.\u001b[39mas_attrs(),\n\u001b[1;32m    261\u001b[0m     )\n",
      "File \u001b[0;32m~/anaconda3/envs/objectdetection/lib/python3.11/site-packages/tensorflow/python/eager/context.py:1552\u001b[0m, in \u001b[0;36mContext.call_function\u001b[0;34m(self, name, tensor_inputs, num_outputs)\u001b[0m\n\u001b[1;32m   1550\u001b[0m cancellation_context \u001b[38;5;241m=\u001b[39m cancellation\u001b[38;5;241m.\u001b[39mcontext()\n\u001b[1;32m   1551\u001b[0m \u001b[38;5;28;01mif\u001b[39;00m cancellation_context \u001b[38;5;129;01mis\u001b[39;00m \u001b[38;5;28;01mNone\u001b[39;00m:\n\u001b[0;32m-> 1552\u001b[0m   outputs \u001b[38;5;241m=\u001b[39m \u001b[43mexecute\u001b[49m\u001b[38;5;241;43m.\u001b[39;49m\u001b[43mexecute\u001b[49m\u001b[43m(\u001b[49m\n\u001b[1;32m   1553\u001b[0m \u001b[43m      \u001b[49m\u001b[43mname\u001b[49m\u001b[38;5;241;43m.\u001b[39;49m\u001b[43mdecode\u001b[49m\u001b[43m(\u001b[49m\u001b[38;5;124;43m\"\u001b[39;49m\u001b[38;5;124;43mutf-8\u001b[39;49m\u001b[38;5;124;43m\"\u001b[39;49m\u001b[43m)\u001b[49m\u001b[43m,\u001b[49m\n\u001b[1;32m   1554\u001b[0m \u001b[43m      \u001b[49m\u001b[43mnum_outputs\u001b[49m\u001b[38;5;241;43m=\u001b[39;49m\u001b[43mnum_outputs\u001b[49m\u001b[43m,\u001b[49m\n\u001b[1;32m   1555\u001b[0m \u001b[43m      \u001b[49m\u001b[43minputs\u001b[49m\u001b[38;5;241;43m=\u001b[39;49m\u001b[43mtensor_inputs\u001b[49m\u001b[43m,\u001b[49m\n\u001b[1;32m   1556\u001b[0m \u001b[43m      \u001b[49m\u001b[43mattrs\u001b[49m\u001b[38;5;241;43m=\u001b[39;49m\u001b[43mattrs\u001b[49m\u001b[43m,\u001b[49m\n\u001b[1;32m   1557\u001b[0m \u001b[43m      \u001b[49m\u001b[43mctx\u001b[49m\u001b[38;5;241;43m=\u001b[39;49m\u001b[38;5;28;43mself\u001b[39;49m\u001b[43m,\u001b[49m\n\u001b[1;32m   1558\u001b[0m \u001b[43m  \u001b[49m\u001b[43m)\u001b[49m\n\u001b[1;32m   1559\u001b[0m \u001b[38;5;28;01melse\u001b[39;00m:\n\u001b[1;32m   1560\u001b[0m   outputs \u001b[38;5;241m=\u001b[39m execute\u001b[38;5;241m.\u001b[39mexecute_with_cancellation(\n\u001b[1;32m   1561\u001b[0m       name\u001b[38;5;241m.\u001b[39mdecode(\u001b[38;5;124m\"\u001b[39m\u001b[38;5;124mutf-8\u001b[39m\u001b[38;5;124m\"\u001b[39m),\n\u001b[1;32m   1562\u001b[0m       num_outputs\u001b[38;5;241m=\u001b[39mnum_outputs,\n\u001b[0;32m   (...)\u001b[0m\n\u001b[1;32m   1566\u001b[0m       cancellation_manager\u001b[38;5;241m=\u001b[39mcancellation_context,\n\u001b[1;32m   1567\u001b[0m   )\n",
      "File \u001b[0;32m~/anaconda3/envs/objectdetection/lib/python3.11/site-packages/tensorflow/python/eager/execute.py:53\u001b[0m, in \u001b[0;36mquick_execute\u001b[0;34m(op_name, num_outputs, inputs, attrs, ctx, name)\u001b[0m\n\u001b[1;32m     51\u001b[0m \u001b[38;5;28;01mtry\u001b[39;00m:\n\u001b[1;32m     52\u001b[0m   ctx\u001b[38;5;241m.\u001b[39mensure_initialized()\n\u001b[0;32m---> 53\u001b[0m   tensors \u001b[38;5;241m=\u001b[39m \u001b[43mpywrap_tfe\u001b[49m\u001b[38;5;241;43m.\u001b[39;49m\u001b[43mTFE_Py_Execute\u001b[49m\u001b[43m(\u001b[49m\u001b[43mctx\u001b[49m\u001b[38;5;241;43m.\u001b[39;49m\u001b[43m_handle\u001b[49m\u001b[43m,\u001b[49m\u001b[43m \u001b[49m\u001b[43mdevice_name\u001b[49m\u001b[43m,\u001b[49m\u001b[43m \u001b[49m\u001b[43mop_name\u001b[49m\u001b[43m,\u001b[49m\n\u001b[1;32m     54\u001b[0m \u001b[43m                                      \u001b[49m\u001b[43minputs\u001b[49m\u001b[43m,\u001b[49m\u001b[43m \u001b[49m\u001b[43mattrs\u001b[49m\u001b[43m,\u001b[49m\u001b[43m \u001b[49m\u001b[43mnum_outputs\u001b[49m\u001b[43m)\u001b[49m\n\u001b[1;32m     55\u001b[0m \u001b[38;5;28;01mexcept\u001b[39;00m core\u001b[38;5;241m.\u001b[39m_NotOkStatusException \u001b[38;5;28;01mas\u001b[39;00m e:\n\u001b[1;32m     56\u001b[0m   \u001b[38;5;28;01mif\u001b[39;00m name \u001b[38;5;129;01mis\u001b[39;00m \u001b[38;5;129;01mnot\u001b[39;00m \u001b[38;5;28;01mNone\u001b[39;00m:\n",
      "\u001b[0;31mKeyboardInterrupt\u001b[0m: "
     ]
    }
   ],
   "source": [
    "n = model.evaluate(dataset)"
   ]
  },
  {
   "cell_type": "code",
   "execution_count": 8,
   "metadata": {},
   "outputs": [
    {
     "name": "stdout",
     "output_type": "stream",
     "text": [
      "MSE Loss: 0.16341649\n"
     ]
    }
   ],
   "source": [
    "import tensorflow as tf\n",
    "\n",
    "# r = np.random.randint(0,100)\n",
    "tensor1 = tf.constant(targets['x_midpoints_reshape'], dtype=tf.float64)\n",
    "\n",
    "tensor2 = tf.constant(output[1], dtype=tf.float32)\n",
    "\n",
    "\n",
    "tensor2 = tf.cast(tensor2, tf.float64)\n",
    "\n",
    "\n",
    "mse_loss_fn = MaskedMeanSquaredError()\n",
    "mse_loss = mse_loss_fn(tensor1, tensor2)\n",
    "\n",
    "print(\"MSE Loss:\", mse_loss.numpy())"
   ]
  },
  {
   "cell_type": "code",
   "execution_count": 2,
   "metadata": {},
   "outputs": [
    {
     "ename": "NameError",
     "evalue": "name 'tf' is not defined",
     "output_type": "error",
     "traceback": [
      "\u001b[0;31m---------------------------------------------------------------------------\u001b[0m",
      "\u001b[0;31mNameError\u001b[0m                                 Traceback (most recent call last)",
      "Cell \u001b[0;32mIn[2], line 44\u001b[0m\n\u001b[1;32m     42\u001b[0m \u001b[38;5;66;03m# t = np.random.randint(0,450)\u001b[39;00m\n\u001b[1;32m     43\u001b[0m t\u001b[38;5;241m=\u001b[39m\u001b[38;5;241m1\u001b[39m\n\u001b[0;32m---> 44\u001b[0m visualize_midpoints(\u001b[43mtf\u001b[49m\u001b[38;5;241m.\u001b[39mconvert_to_tensor(inputs[t]), probabilities[t]\u001b[38;5;241m.\u001b[39mnumpy()\u001b[38;5;241m.\u001b[39msqueeze(), tf\u001b[38;5;241m.\u001b[39mconvert_to_tensor(output[\u001b[38;5;241m1\u001b[39m][t,\u001b[38;5;241m0\u001b[39m,:,:])\u001b[38;5;241m*\u001b[39m[\u001b[38;5;241m64\u001b[39m,\u001b[38;5;241m64\u001b[39m]) \u001b[38;5;66;03m##myprediction   \u001b[39;00m\n\u001b[1;32m     46\u001b[0m \u001b[38;5;28;01mdef\u001b[39;00m \u001b[38;5;21mvisualize_midpoints2\u001b[39m(image, probability_vector, midpoints, threshold\u001b[38;5;241m=\u001b[39m\u001b[38;5;241m0.8\u001b[39m):\n\u001b[1;32m     47\u001b[0m \u001b[38;5;250m    \u001b[39m\u001b[38;5;124;03m\"\"\"\u001b[39;00m\n\u001b[1;32m     48\u001b[0m \u001b[38;5;124;03m    Visualizes midpoints on an image based on a probability vector.\u001b[39;00m\n\u001b[1;32m     49\u001b[0m \n\u001b[0;32m   (...)\u001b[0m\n\u001b[1;32m     57\u001b[0m \u001b[38;5;124;03m    None (displays the image with midpoints).\u001b[39;00m\n\u001b[1;32m     58\u001b[0m \u001b[38;5;124;03m    \"\"\"\u001b[39;00m\n",
      "\u001b[0;31mNameError\u001b[0m: name 'tf' is not defined"
     ]
    }
   ],
   "source": [
    "import numpy as np\n",
    "import matplotlib.pyplot as plt\n",
    "\n",
    "def visualize_midpoints(image, probability_vector, midpoints, threshold=0.8):\n",
    "    \"\"\"\n",
    "    Visualizes midpoints on an image based on a probability vector.\n",
    "\n",
    "    Parameters:\n",
    "    - image: A 3D tensor representing the image.\n",
    "    - probability_vector: A 1D tensor representing the probabilities associated with midpoints.\n",
    "    - midpoints: A 2D tensor representing the midpoint coordinates (x, y).\n",
    "    - threshold: Probability threshold for visualization.\n",
    "\n",
    "    Returns:\n",
    "    None (displays the image with midpoints).\n",
    "    \"\"\"\n",
    "    # Convert to NumPy arrays for easier handling\n",
    "    image_np = image\n",
    "    prob_vector_np = probability_vector\n",
    "    midpoints_np = midpoints#.numpy() if hasattr(midpoints, 'numpy') else midpoints\n",
    "\n",
    "    # Denormalize image if necessary (adjust based on your normalization method)\n",
    "    denormalized_image = image_np  # Modify if normalization was applied during training\n",
    "\n",
    "    # Visualize the image\n",
    "    plt.figure(figsize=(4, 4))\n",
    "    plt.imshow(denormalized_image, cmap='gray')\n",
    "    plt.title(\"Predicted Midpoint Visualization\")\n",
    "\n",
    "    # Plot midpoints based on probability threshold\n",
    "    for i, (y,x) in enumerate(midpoints_np):\n",
    "        prob = prob_vector_np[i]\n",
    "        if prob > threshold:\n",
    "            plt.scatter(y, x, color='red', s=5)\n",
    "            # if i == 0:  # Add label only once to avoid repetition in the legend\n",
    "            #     plt.legend()\n",
    "\n",
    "    plt.show()\n",
    "    \n",
    "    \n",
    "\n",
    "# t = np.random.randint(0,450)\n",
    "t=1\n",
    "visualize_midpoints(tf.convert_to_tensor(inputs[t]), probabilities[t].numpy().squeeze(), tf.convert_to_tensor(output[1][t,0,:,:])*[64,64]) ##myprediction   \n",
    "\n",
    "def visualize_midpoints2(image, probability_vector, midpoints, threshold=0.8):\n",
    "    \"\"\"\n",
    "    Visualizes midpoints on an image based on a probability vector.\n",
    "\n",
    "    Parameters:\n",
    "    - image: A 3D tensor representing the image.\n",
    "    - probability_vector: A 1D tensor representing the probabilities associated with midpoints.\n",
    "    - midpoints: A 2D tensor representing the midpoint coordinates (x, y).\n",
    "    - threshold: Probability threshold for visualization.\n",
    "\n",
    "    Returns:\n",
    "    None (displays the image with midpoints).\n",
    "    \"\"\"\n",
    "    # Convert to NumPy arrays for easier handling\n",
    "    image_np = image\n",
    "    prob_vector_np = probability_vector\n",
    "    midpoints_np = midpoints#.numpy() if hasattr(midpoints, 'numpy') else midpoints\n",
    "\n",
    "    # Denormalize image if necessary (adjust based on your normalization method)\n",
    "    denormalized_image = image_np  # Modify if normalization was applied during training\n",
    "\n",
    "    # Visualize the image\n",
    "    plt.figure(figsize=(4, 4))\n",
    "    plt.imshow(denormalized_image, cmap='gray')\n",
    "    plt.title(\"Ground Truth Midpoint Visualization\")\n",
    "\n",
    "    # Plot midpoints based on probability threshold\n",
    "    for i, (y,x) in enumerate(midpoints_np):\n",
    "        prob = prob_vector_np[i]\n",
    "        if prob > threshold:\n",
    "            plt.scatter(y, x, color='red', s=5)\n",
    "            # if i == 0:  # Add label only once to avoid repetition in the legend\n",
    "            #     plt.legend()\n",
    "\n",
    "    plt.show()     \n",
    "visualize_midpoints2(tf.convert_to_tensor(images[t]), probabilities[t].numpy().squeeze(), tf.convert_to_tensor(center_coordinates_np[t,0,:,:])*[64,64]) ##ground truth          \n",
    "\n",
    "\n"
   ]
  },
  {
   "cell_type": "code",
   "execution_count": 102,
   "metadata": {},
   "outputs": [
    {
     "name": "stdout",
     "output_type": "stream",
     "text": [
      "Precision: 0.5161742092761595, Recall: 1.0, F1 Score: 0.6808903701410244, MAE: 0.2807062132781524, MSE: 0.15852413947898508\n"
     ]
    }
   ],
   "source": [
    "import numpy as np\n",
    "\n",
    "def evaluate_model(predictions, ground_truths, probability_threshold=0.9, midpoint_diff_threshold=0.05):\n",
    "    pred_probabilities = predictions[0]\n",
    "    pred_midpoints = predictions[1]\n",
    "    gt_probabilities = ground_truths[0]\n",
    "    gt_midpoints = ground_truths[1]\n",
    "    \n",
    "    # Valid predictions are those above the probability threshold\n",
    "    valid_predictions = pred_probabilities > probability_threshold\n",
    "    no_predictions = pred_probabilities <= probability_threshold\n",
    "\n",
    "    # Calculate differences for midpoint evaluations\n",
    "    midpoint_diff = np.abs(pred_midpoints - gt_midpoints)\n",
    "    is_accurate_prediction = np.all(midpoint_diff <= midpoint_diff_threshold, axis=1)\n",
    "    \n",
    "    # True Positives: Valid predictions close enough to the ground truth\n",
    "    TP = np.sum(np.logical_and(valid_predictions, is_accurate_prediction))\n",
    "    \n",
    "    # False Positives: Valid predictions not close enough to the ground truth\n",
    "    FP = np.sum(np.logical_and(valid_predictions, ~is_accurate_prediction))\n",
    "    \n",
    "    # True Negatives: No predictions where no objects are actually present\n",
    "    TN = np.sum(np.logical_and(no_predictions, gt_probabilities <= probability_threshold))\n",
    "    \n",
    "    # False Negatives: No predictions where objects are actually present\n",
    "    FN = np.sum(np.logical_and(no_predictions, gt_probabilities > probability_threshold))\n",
    "    \n",
    "    # Metrics calculation\n",
    "    precision = TP / (TP + FP) if (TP + FP) > 0 else 0\n",
    "    recall = TP / (TP + FN) if (TP + FN) > 0 else 0\n",
    "    F1_score = 2 * (precision * recall) / (precision + recall) if (precision + recall) > 0 else 0\n",
    "    MAE = np.mean(midpoint_diff)\n",
    "    MSE = np.mean(np.square(midpoint_diff))\n",
    "    \n",
    "    return precision, recall, F1_score, MAE, MSE\n",
    "\n",
    "# Usage \n",
    "predictions = [output[0][0:800], output[1][0:800]]\n",
    "ground_truths = [targets['x_prob_reshape'][0:800], targets['x_midpoints_reshape'][0:800]]\n",
    "precision, recall, F1_score, MAE, MSE = evaluate_model(predictions, ground_truths)\n",
    "\n",
    "print(f\"Precision: {precision}, Recall: {recall}, F1 Score: {F1_score}, MAE: {MAE}, MSE: {MSE}\")\n"
   ]
  },
  {
   "cell_type": "code",
   "execution_count": 103,
   "metadata": {},
   "outputs": [],
   "source": [
    "import numpy as np\n",
    "from sklearn.metrics import pairwise_distances_argmin_min\n",
    "import tensorflow as tf  # Assuming TensorFlow is used for tensor conversion\n",
    "\n",
    "def pos_deviation(coords, truth):\n",
    "    \"\"\"\n",
    "    Calculate the distances between detected electron incident positions and the ground truth positions in units of pixels.\n",
    "    \"\"\"\n",
    "    distances = []\n",
    "    if len(coords) > 0:\n",
    "        assignment, distances = pairwise_distances_argmin_min(coords, truth)\n",
    "    return distances\n",
    "\n",
    "def end2end_evaluation(groundtruth, predicted, tolerance):\n",
    "    \"\"\"\n",
    "    Evaluate the model performance in detecting electron incident positions.\n",
    "\n",
    "    Args:\n",
    "    groundtruth: numpy array or TensorFlow tensor of ground truth electron positions.\n",
    "    predicted: numpy array or TensorFlow tensor of predicted electron positions.\n",
    "    tolerance: predictions with position error no larger than \"tolerance\" pixels will be selected as true positive.\n",
    "\n",
    "    Returns:\n",
    "    recall: recall of the prediction\n",
    "    precision: precision of the prediction\n",
    "    f1: F1 score\n",
    "    dce: detector conversion efficiency (ratio of detected electrons to ground truth electrons)\n",
    "    mae_position: mean position error (Euclidean distance) averaged over all detected electrons\n",
    "    \"\"\"\n",
    "\n",
    "    # Convert TensorFlow tensors to NumPy arrays if necessary\n",
    "    if isinstance(groundtruth, tf.Tensor):\n",
    "        groundtruth = groundtruth.numpy()\n",
    "    if isinstance(predicted, tf.Tensor):\n",
    "        predicted = predicted.numpy()\n",
    "\n",
    "    # Flatten the coordinates for comparison\n",
    "    groundtruth_coords = groundtruth.reshape(-1, 2)\n",
    "    predicted_coords = predicted.reshape(-1, 2)\n",
    "\n",
    "    # Calculate the real total number of ground truth electrons\n",
    "    num_groundtruth_electrons = len(groundtruth_coords)\n",
    "\n",
    "    # Calculate the deviations between the predicted and ground truth positions\n",
    "    deviations = pos_deviation(predicted_coords, groundtruth_coords)\n",
    "\n",
    "    # Get the true positives, which have an error no larger than \"tolerance\" pixels\n",
    "    true_positives = np.sum(deviations <= tolerance)\n",
    "\n",
    "    # Calculate precision\n",
    "    precision = true_positives / len(predicted_coords) if len(predicted_coords) > 0 else 0\n",
    "\n",
    "    # Calculate recall\n",
    "    recall = true_positives / num_groundtruth_electrons if num_groundtruth_electrons > 0 else 0\n",
    "\n",
    "    # Calculate F1 score\n",
    "    f1 = 2 * (precision * recall) / (precision + recall) if (precision + recall) > 0 else 0\n",
    "\n",
    "    # Calculate detector conversion efficiency\n",
    "    dce = len(predicted_coords) / num_groundtruth_electrons if num_groundtruth_electrons > 0 else 0\n",
    "\n",
    "    # Calculate mean absolute error of positions\n",
    "    mae_position = deviations.mean() if len(deviations) > 0 else 0\n",
    "\n",
    "    # Print and return the evaluation metrics\n",
    "    print('Recall:', recall, 'Precision:', precision, 'F1:', f1, 'DCE:', dce, 'MAE of positions:', mae_position)\n",
    "    return recall, precision, f1, dce, mae_position\n"
   ]
  },
  {
   "cell_type": "code",
   "execution_count": 104,
   "metadata": {},
   "outputs": [
    {
     "name": "stdout",
     "output_type": "stream",
     "text": [
      "Recall: 1.0 Precision: 1.0 F1: 1.0 DCE: 1.0 MAE of positions: 0.008038402247415836\n"
     ]
    },
    {
     "ename": "",
     "evalue": "",
     "output_type": "error",
     "traceback": [
      "\u001b[1;31mThe Kernel crashed while executing code in the current cell or a previous cell. \n",
      "\u001b[1;31mPlease review the code in the cell(s) to identify a possible cause of the failure. \n",
      "\u001b[1;31mClick <a href='https://aka.ms/vscodeJupyterKernelCrash'>here</a> for more info. \n",
      "\u001b[1;31mView Jupyter <a href='command:jupyter.viewOutput'>log</a> for further details."
     ]
    }
   ],
   "source": [
    "\n",
    "evaluation = end2end_evaluation(targets['x_midpoints_reshape'][0:600], output[1][0:600],0.05)"
   ]
  }
 ],
 "metadata": {
  "kernelspec": {
   "display_name": "sod",
   "language": "python",
   "name": "python3"
  },
  "language_info": {
   "codemirror_mode": {
    "name": "ipython",
    "version": 3
   },
   "file_extension": ".py",
   "mimetype": "text/x-python",
   "name": "python",
   "nbconvert_exporter": "python",
   "pygments_lexer": "ipython3",
   "version": "3.12.4"
  }
 },
 "nbformat": 4,
 "nbformat_minor": 2
}
